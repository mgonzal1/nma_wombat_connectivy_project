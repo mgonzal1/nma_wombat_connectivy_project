{
  "nbformat": 4,
  "nbformat_minor": 0,
  "metadata": {
    "colab": {
      "name": "Untitled0.ipynb",
      "provenance": [],
      "include_colab_link": true
    },
    "kernelspec": {
      "name": "python3",
      "display_name": "Python 3"
    },
    "widgets": {
      "application/vnd.jupyter.widget-state+json": {
        "59e4ef77a4914ddaa1fb868c31b5cb01": {
          "model_module": "@jupyter-widgets/controls",
          "model_name": "VBoxModel",
          "state": {
            "_view_name": "VBoxView",
            "_dom_classes": [
              "widget-interact"
            ],
            "_model_name": "VBoxModel",
            "_view_module": "@jupyter-widgets/controls",
            "_model_module_version": "1.5.0",
            "_view_count": null,
            "_view_module_version": "1.5.0",
            "box_style": "",
            "layout": "IPY_MODEL_12ca434c7f8b4b0b8dc659704147e169",
            "_model_module": "@jupyter-widgets/controls",
            "children": [
              "IPY_MODEL_9dc5ca4110184958862568cbae262914",
              "IPY_MODEL_690204e5fe0e489eab59e8b6faac38a6"
            ]
          }
        },
        "12ca434c7f8b4b0b8dc659704147e169": {
          "model_module": "@jupyter-widgets/base",
          "model_name": "LayoutModel",
          "state": {
            "_view_name": "LayoutView",
            "grid_template_rows": null,
            "right": null,
            "justify_content": null,
            "_view_module": "@jupyter-widgets/base",
            "overflow": null,
            "_model_module_version": "1.2.0",
            "_view_count": null,
            "flex_flow": null,
            "width": null,
            "min_width": null,
            "border": null,
            "align_items": null,
            "bottom": null,
            "_model_module": "@jupyter-widgets/base",
            "top": null,
            "grid_column": null,
            "overflow_y": null,
            "overflow_x": null,
            "grid_auto_flow": null,
            "grid_area": null,
            "grid_template_columns": null,
            "flex": null,
            "_model_name": "LayoutModel",
            "justify_items": null,
            "grid_row": null,
            "max_height": null,
            "align_content": null,
            "visibility": null,
            "align_self": null,
            "height": null,
            "min_height": null,
            "padding": null,
            "grid_auto_rows": null,
            "grid_gap": null,
            "max_width": null,
            "order": null,
            "_view_module_version": "1.2.0",
            "grid_template_areas": null,
            "object_position": null,
            "object_fit": null,
            "grid_auto_columns": null,
            "margin": null,
            "display": null,
            "left": null
          }
        },
        "9dc5ca4110184958862568cbae262914": {
          "model_module": "@jupyter-widgets/controls",
          "model_name": "IntSliderModel",
          "state": {
            "_view_name": "IntSliderView",
            "style": "IPY_MODEL_1fd5a58acc01455685d2973ba093cf6c",
            "_dom_classes": [],
            "description": "min_areas",
            "step": 1,
            "_model_name": "IntSliderModel",
            "orientation": "horizontal",
            "max": 7,
            "_view_module": "@jupyter-widgets/controls",
            "_model_module_version": "1.5.0",
            "value": 3,
            "_view_count": null,
            "disabled": false,
            "_view_module_version": "1.5.0",
            "min": 0,
            "continuous_update": true,
            "readout_format": "d",
            "description_tooltip": null,
            "readout": true,
            "_model_module": "@jupyter-widgets/controls",
            "layout": "IPY_MODEL_c1c423e5b9b5413eb2b5936c32ab6630"
          }
        },
        "690204e5fe0e489eab59e8b6faac38a6": {
          "model_module": "@jupyter-widgets/output",
          "model_name": "OutputModel",
          "state": {
            "_view_name": "OutputView",
            "msg_id": "",
            "_dom_classes": [],
            "_model_name": "OutputModel",
            "outputs": [
              {
                "output_type": "stream",
                "metadata": {
                  "tags": []
                },
                "text": "\nSession: 0 Total neurons: 734\nSession: 2 Total neurons: 619\nSession: 3 Total neurons: 1769\nSession: 6 Total neurons: 584\nSession: 7 Total neurons: 1156\nSession: 8 Total neurons: 788\nSession: 9 Total neurons: 1172\nSession: 11 Total neurons: 698\nSession: 12 Total neurons: 983\nSession: 13 Total neurons: 756\nSession: 14 Total neurons: 743\nSession: 15 Total neurons: 474\nSession: 17 Total neurons: 1089\nSession: 18 Total neurons: 606\nSession: 21 Total neurons: 646\nSession: 23 Total neurons: 1337\nSession: 26 Total neurons: 563\nSession: 27 Total neurons: 549\nSession: 29 Total neurons: 942\nSession: 30 Total neurons: 977\nSession: 32 Total neurons: 613\nSession: 33 Total neurons: 781\nSession: 34 Total neurons: 795\nSession: 35 Total neurons: 680\nSession: 37 Total neurons: 805\n",
                "stream": "stdout"
              }
            ],
            "_view_module": "@jupyter-widgets/output",
            "_model_module_version": "1.0.0",
            "_view_count": null,
            "_view_module_version": "1.0.0",
            "layout": "IPY_MODEL_7f8b9144c6844caeb1098941f553711d",
            "_model_module": "@jupyter-widgets/output"
          }
        },
        "1fd5a58acc01455685d2973ba093cf6c": {
          "model_module": "@jupyter-widgets/controls",
          "model_name": "SliderStyleModel",
          "state": {
            "_view_name": "StyleView",
            "handle_color": null,
            "_model_name": "SliderStyleModel",
            "description_width": "",
            "_view_module": "@jupyter-widgets/base",
            "_model_module_version": "1.5.0",
            "_view_count": null,
            "_view_module_version": "1.2.0",
            "_model_module": "@jupyter-widgets/controls"
          }
        },
        "c1c423e5b9b5413eb2b5936c32ab6630": {
          "model_module": "@jupyter-widgets/base",
          "model_name": "LayoutModel",
          "state": {
            "_view_name": "LayoutView",
            "grid_template_rows": null,
            "right": null,
            "justify_content": null,
            "_view_module": "@jupyter-widgets/base",
            "overflow": null,
            "_model_module_version": "1.2.0",
            "_view_count": null,
            "flex_flow": null,
            "width": null,
            "min_width": null,
            "border": null,
            "align_items": null,
            "bottom": null,
            "_model_module": "@jupyter-widgets/base",
            "top": null,
            "grid_column": null,
            "overflow_y": null,
            "overflow_x": null,
            "grid_auto_flow": null,
            "grid_area": null,
            "grid_template_columns": null,
            "flex": null,
            "_model_name": "LayoutModel",
            "justify_items": null,
            "grid_row": null,
            "max_height": null,
            "align_content": null,
            "visibility": null,
            "align_self": null,
            "height": null,
            "min_height": null,
            "padding": null,
            "grid_auto_rows": null,
            "grid_gap": null,
            "max_width": null,
            "order": null,
            "_view_module_version": "1.2.0",
            "grid_template_areas": null,
            "object_position": null,
            "object_fit": null,
            "grid_auto_columns": null,
            "margin": null,
            "display": null,
            "left": null
          }
        },
        "7f8b9144c6844caeb1098941f553711d": {
          "model_module": "@jupyter-widgets/base",
          "model_name": "LayoutModel",
          "state": {
            "_view_name": "LayoutView",
            "grid_template_rows": null,
            "right": null,
            "justify_content": null,
            "_view_module": "@jupyter-widgets/base",
            "overflow": null,
            "_model_module_version": "1.2.0",
            "_view_count": null,
            "flex_flow": null,
            "width": null,
            "min_width": null,
            "border": null,
            "align_items": null,
            "bottom": null,
            "_model_module": "@jupyter-widgets/base",
            "top": null,
            "grid_column": null,
            "overflow_y": null,
            "overflow_x": null,
            "grid_auto_flow": null,
            "grid_area": null,
            "grid_template_columns": null,
            "flex": null,
            "_model_name": "LayoutModel",
            "justify_items": null,
            "grid_row": null,
            "max_height": null,
            "align_content": null,
            "visibility": null,
            "align_self": null,
            "height": null,
            "min_height": null,
            "padding": null,
            "grid_auto_rows": null,
            "grid_gap": null,
            "max_width": null,
            "order": null,
            "_view_module_version": "1.2.0",
            "grid_template_areas": null,
            "object_position": null,
            "object_fit": null,
            "grid_auto_columns": null,
            "margin": null,
            "display": null,
            "left": null
          }
        }
      }
    }
  },
  "cells": [
    {
      "cell_type": "markdown",
      "metadata": {
        "id": "view-in-github",
        "colab_type": "text"
      },
      "source": [
        "<a href=\"https://colab.research.google.com/github/mgonzal1/nma_wombat_connectivy_project/blob/master/connectivity.ipynb\" target=\"_parent\"><img src=\"https://colab.research.google.com/assets/colab-badge.svg\" alt=\"Open In Colab\"/></a>"
      ]
    },
    {
      "cell_type": "code",
      "metadata": {
        "id": "o5E0jLc0DVAC",
        "colab_type": "code",
        "cellView": "form",
        "colab": {
          "base_uri": "https://localhost:8080/",
          "height": 72
        },
        "outputId": "c9fce30d-851e-4dbe-ed76-fbc9f4463f43"
      },
      "source": [
        "#@title imports and set defaults\n",
        "from matplotlib import rcParams \n",
        "from matplotlib import pyplot as plt\n",
        "from sklearn.linear_model import LinearRegression\n",
        "from sklearn.linear_model import LogisticRegression\n",
        "from sklearn.model_selection import cross_val_score\n",
        "from sklearn.model_selection import KFold\n",
        "from sklearn.model_selection import train_test_split\n",
        "import sklearn.metrics\n",
        "import ipywidgets as widgets \n",
        "import numpy as np\n",
        "import pandas as pd\n",
        "import seaborn as sns\n",
        "from sklearn.linear_model import Ridge\n",
        "from sklearn.linear_model import Lasso\n",
        "from sklearn.model_selection import GridSearchCV\n",
        "from sklearn.metrics import mean_squared_error\n",
        "rcParams['figure.figsize'] = [20, 4]\n",
        "rcParams['font.size'] =15\n",
        "rcParams['axes.spines.top'] = False\n",
        "rcParams['axes.spines.right'] = False\n",
        "rcParams['figure.autolayout'] = True\n",
        "\n",
        "# import warnings filter\n",
        "from warnings import simplefilter\n",
        "# ignore all future warnings\n",
        "simplefilter(action='ignore', category=FutureWarning)\n"
      ],
      "execution_count": 1,
      "outputs": [
        {
          "output_type": "stream",
          "text": [
            "/usr/local/lib/python3.6/dist-packages/statsmodels/tools/_testing.py:19: FutureWarning: pandas.util.testing is deprecated. Use the functions in the public API at pandas.testing instead.\n",
            "  import pandas.util.testing as tm\n"
          ],
          "name": "stderr"
        }
      ]
    },
    {
      "cell_type": "code",
      "metadata": {
        "id": "Pxau-hjxDYpV",
        "colab_type": "code",
        "cellView": "form",
        "colab": {}
      },
      "source": [
        "#@title Data retrieval\n",
        "import os, requests\n",
        "\n",
        "fname = []\n",
        "for j in range(3):\n",
        "  fname.append('steinmetz_part%d.npz'%j)\n",
        "url = [\"https://osf.io/agvxh/download\"]\n",
        "url.append(\"https://osf.io/uv3mw/download\")\n",
        "url.append(\"https://osf.io/ehmw2/download\")\n",
        "\n",
        "for j in range(len(url)):\n",
        "  if not os.path.isfile(fname[j]):\n",
        "    try:\n",
        "      r = requests.get(url[j])\n",
        "    except requests.ConnectionError:\n",
        "      print(\"!!! Failed to download data !!!\")\n",
        "    else:\n",
        "      if r.status_code != requests.codes.ok:\n",
        "        print(\"!!! Failed to download data !!!\")\n",
        "      else:\n",
        "        with open(fname[j], \"wb\") as fid:\n",
        "          fid.write(r.content)\n",
        "\n",
        "\n",
        "\n",
        "alldat = np.array([])\n",
        "for j in range(len(fname)):\n",
        "  alldat = np.hstack((alldat, np.load('steinmetz_part%d.npz'%j, allow_pickle=True)['dat']))"
      ],
      "execution_count": 2,
      "outputs": []
    },
    {
      "cell_type": "code",
      "metadata": {
        "id": "zOpjXvjqbDWr",
        "colab_type": "code",
        "cellView": "form",
        "colab": {
          "base_uri": "https://localhost:8080/",
          "height": 504,
          "referenced_widgets": [
            "59e4ef77a4914ddaa1fb868c31b5cb01",
            "12ca434c7f8b4b0b8dc659704147e169",
            "9dc5ca4110184958862568cbae262914",
            "690204e5fe0e489eab59e8b6faac38a6",
            "1fd5a58acc01455685d2973ba093cf6c",
            "c1c423e5b9b5413eb2b5936c32ab6630",
            "7f8b9144c6844caeb1098941f553711d"
          ]
        },
        "outputId": "306eba62-db1a-4af9-d8a9-20bae0f43c21"
      },
      "source": [
        "#@title Representative session\n",
        "#@markdown As first step, lets choose 1 session to start trainning the model. Let's see which session has more neurons in the areas that we are going to use and how many neurons it has.\n",
        "@widgets.interact\n",
        "def get_representative_session(min_areas=(0,7)):\n",
        "  \"\"\" To simplify the model we are selecting a session recording with most of the regions represented.\n",
        "    This interactive function help us to decide the session based on the minimal regions represented and number of \n",
        "    total neurons recorded.\n",
        "\n",
        "  \"\"\"\n",
        "  print(\"\")\n",
        "  brain_groups = [[\"VISa\", \"VISam\", \"VISl\", \"VISp\", \"VISpm\", \"VISrl\"], # visual cortex\n",
        "                  [\"CL\", \"LD\", \"LGd\", \"LH\", \"LP\", \"MD\", \"MG\", \"PO\", \"POL\", \"PT\", \"RT\", \"SPF\", \"TH\", \"VAL\", \"VPL\", \"VPM\"], # thalamus\n",
        "                  [\"CA\", \"CA1\", \"CA2\", \"CA3\", \"DG\", \"SUB\", \"POST\"], # hippocampal\n",
        "                  [\"ACA\", \"AUD\", \"COA\", \"DP\", \"ILA\", \"MOp\", \"MOs\", \"OLF\", \"ORB\", \"ORBm\", \"PIR\", \"PL\", \"SSp\", \"SSs\", \"RSP\",\" TT\"], # non-visual cortex\n",
        "                  [\"APN\", \"IC\", \"MB\", \"MRN\", \"NB\", \"PAG\", \"RN\", \"SCs\", \"SCm\", \"SCig\", \"SCsg\", \"ZI\"], # midbrain\n",
        "                  [\"ACB\", \"CP\", \"GPe\", \"LS\", \"LSc\", \"LSr\", \"MS\", \"OT\", \"SNr\", \"SI\"], # basal ganglia \n",
        "                  [\"BLA\", \"BMA\", \"EP\", \"EPd\", \"MEA\"] # cortical subplate\n",
        "                  ]\n",
        "  regions = [\"visual ctx\", \"thal\", \"hipp\", \"non-visual ctx\", \"midbrain\", \"basal ganglia\", \"cortical subplate\"]\n",
        "  for i in range (0,38):\n",
        "    session = alldat[i]\n",
        "    brain_areas = set(session['brain_area'])\n",
        "    representative = []\n",
        "    neurons_in_area = []\n",
        "    for group in brain_groups:\n",
        "        representative.append(any(area in brain_areas for area in group))\n",
        "    \n",
        "    if(representative.count(True)>min_areas):\n",
        "      print(\"Session:\" , i, \"Total neurons:\",session['brain_area'].shape[0])\n",
        "      #labels, sizes = np.unique(session['brain_area'], return_counts=True)\n",
        "      #print(sizes)\n",
        "      #fig = plt.figure()\n",
        "      #ax = fig.add_axes([0,0,1,1])\n",
        "      #ax.bar(regions,representative)\n",
        "      #ax.set_title(\"Session {}\".format(i))\n",
        "      #plt.show()\n"
      ],
      "execution_count": null,
      "outputs": [
        {
          "output_type": "display_data",
          "data": {
            "application/vnd.jupyter.widget-view+json": {
              "model_id": "59e4ef77a4914ddaa1fb868c31b5cb01",
              "version_minor": 0,
              "version_major": 2
            },
            "text/plain": [
              "interactive(children=(IntSlider(value=3, description='min_areas', max=7), Output()), _dom_classes=('widget-int…"
            ]
          },
          "metadata": {
            "tags": []
          }
        }
      ]
    },
    {
      "cell_type": "code",
      "metadata": {
        "id": "ja4driRhVzD6",
        "colab_type": "code",
        "colab": {}
      },
      "source": [
        "# SET DEFAULTS\n",
        "trial_time = 2\n",
        "session=12\n",
        "n_sessions = len(alldat)"
      ],
      "execution_count": 3,
      "outputs": []
    },
    {
      "cell_type": "code",
      "metadata": {
        "id": "g2ajfTQyPLdz",
        "colab_type": "code",
        "cellView": "form",
        "colab": {}
      },
      "source": [
        "#@title General functions to get data\n",
        "def filter_no_go_choice(data_set):\n",
        "  \"\"\"\n",
        "  In order to reduce the complexity on the decode model(A3), we are removing the no-go trials \n",
        "  so we kept binary choice (left or right) that fits with a LogisticRegression model\n",
        "   Args: \n",
        "      data_set: Subset of alldat\n",
        "\n",
        "  Returns:\n",
        "   new_data_set (dict): dat['spks']: neurons by trials.\n",
        "                        dat['brain_area']: brain area for each neuron recorded.\n",
        "                        dat['contrast_right']: contrast level for the right stimulus, which is always contralateral to the recorded brain areas.\n",
        "                        dat['contrast_left']: contrast level for left stimulus.\n",
        "                        dat['response']: which side the response was (-1,  1). Choices for the right stimulus are -1.\n",
        "  \"\"\"\n",
        "  new_data_set =  {}\n",
        "  index_trials = data_set['response'].nonzero()\n",
        "  # Remove baseline(first 50 bins) and get FR per neuron\n",
        "  new_data_set.update({\"spks\":(data_set[\"spks\"][:,index_trials[0],50:].sum(axis=2)/trial_time).T})\n",
        "  new_data_set.update({\"brain_area\":data_set[\"brain_area\"]})\n",
        "  new_data_set.update({\"response\": data_set[\"response\"][index_trials]})\n",
        "  new_data_set.update({\"contrast_right\": data_set[\"contrast_right\"][index_trials]})\n",
        "  new_data_set.update({\"contrast_left\": data_set[\"contrast_left\"][index_trials]})\n",
        "  return new_data_set\n",
        "\n",
        "def get_spks_from_area(dat,brain_area):\n",
        "  spks = dat[\"spks\"].T\n",
        "  n_neurons = spks.shape[0]\n",
        "  index_neurons = np.zeros(n_neurons,dtype=bool)\n",
        "  for neuron in range(n_neurons):\n",
        "    index_neurons[neuron] = dat['brain_area'][neuron] in brain_area\n",
        "\n",
        "  area_data = (spks[index_neurons,:].T)\n",
        "  return area_data, index_neurons\n",
        "\n",
        "def get_visual_ctx(data_set):\n",
        "  visual_ctx = [\"VISa\", \"VISam\", \"VISl\", \"VISp\", \"VISpm\", \"VISrl\"]\n",
        "  visual_data, _ = get_spks_from_area(data_set, visual_ctx)\n",
        "  return visual_data\n",
        "\n",
        "def get_motor_ctx(data_set):\n",
        "  motor_ctx = [\"CL\", \"LD\", \"LGd\", \"LH\", \"LP\", \"MD\", \"MG\", \"PO\", \"POL\", \"PT\", \"RT\", \"SPF\", \"TH\", \"VAL\", \"VPL\", \"VPM\"]\n",
        "  motor_data, _ = get_spks_from_area(data_set, motor_ctx)\n",
        "  return motor_data\n",
        "\n",
        "def get_stimulus(data_set):\n",
        "  \"\"\"\n",
        "   Args: \n",
        "      data_set: (map) Subset of alldat\n",
        "      \n",
        "   Returns:\n",
        "      stims[nTrials x 3]  bias: constant with ones\n",
        "                          stim_left: contrast level for the right stimulus.\n",
        "                          stim_right: contrast level for left stimulus.\n",
        "  \"\"\"\n",
        "\n",
        "\n",
        "  stims = data_set['contrast_left'], data_set['contrast_right']\n",
        "  stims = np.array(stims).T\n",
        "  n_trials = stims.shape[0]\n",
        "  stims = np.column_stack((np.ones(n_trials),stims))\n",
        "  return stims\n",
        "\n",
        "def get_response(data_set):\n",
        "  \"\"\"\n",
        "   Args: \n",
        "      data_set: Subset of alldat\n",
        "\n",
        "   Returns:\n",
        "        np.array: which side the response was (-1, 0, 1). Choices for the right stimulus are -1.\n",
        "  \"\"\"\n",
        "  response =  np.array(data_set['response'])\n",
        "  return response\n",
        "\n",
        "def get_binary_response(data_set):\n",
        "  \"\"\"\n",
        "   To simplify the model we ares going to use a binary response instead of the 3 possible values: left, no-action, right\n",
        "   to true or false comparing the stimulus to the expected actions. \n",
        "\n",
        "   Args: \n",
        "      data_set: Subset of alldat\n",
        "\n",
        "   Returns:\n",
        "        binary (np.array boolean) : Returns True or False\n",
        "  \"\"\"\n",
        "  vis_left, vis_right = [data_set[\"stims\"][:,1], data_set[\"stims\"][:,2]]\n",
        "  response = get_response(data_set)\n",
        "  binary_response = np.sign(response)==np.sign(vis_left-vis_right)\n",
        "  return binary_response\n",
        "\n",
        "def split_validation_set(data_set):\n",
        "  \"\"\"\n",
        "  Get a subset of alldat for validation purposes. This should be ~5%-10% of all the data.\n",
        "\n",
        "\n",
        "  Returns:\n",
        "   train_set (dict): dat['spks']: neurons by trials.\n",
        "                     dat['brain_area']: brain area for each neuron recorded.\n",
        "                     dat['stims']: contrast level for the right stimulus, which is always contralateral to the recorded brain areas.\n",
        "                     dat['response']: which side the response was (-1,  1). Choices for the right stimulus are -1.\n",
        "  \"\"\"\n",
        "\n",
        "  stims=get_stimulus(data_set)\n",
        "  response = get_response(data_set)\n",
        "  spk= data_set['spks']\n",
        "  # # create training and testing vars\n",
        "  stim_train, stim_test, spk_train, spk_test, response_train, response_test = train_test_split(stims, spk, response, test_size=0.1)\n",
        "  train_set = {\n",
        "      \"spks\": spk_train, \n",
        "      \"stims\": stim_train, \n",
        "      \"response\": response_train, \n",
        "      \"brain_area\":data_set['brain_area']\n",
        "      }\n",
        "  validation_set = {\n",
        "      \"spks\": spk_test,\n",
        "      \"stims\": stim_test, \n",
        "      \"response\": response_test, \n",
        "      \"brain_area\":data_set['brain_area']\n",
        "      }\n",
        "  return train_set, validation_set"
      ],
      "execution_count": 4,
      "outputs": []
    },
    {
      "cell_type": "code",
      "metadata": {
        "id": "yfhykX_RKnhg",
        "colab_type": "code",
        "colab": {}
      },
      "source": [
        "# Get train and validation data\n",
        "data_set = filter_no_go_choice(alldat[session])\n",
        "data_set, val_set = split_validation_set(data_set)\n",
        "#train_set (dict): dat['spks']: neurons by trials.\n",
        "#                  dat['brain_area']: brain area for each neuron recorded.\n",
        "#                  dat['stims']: contrast level for the right stimulus, which is always contralateral to the recorded brain areas.\n",
        "#                  dat['response']: which side the response was (-1,  1). Choices for the right stimulus are -1."
      ],
      "execution_count": 5,
      "outputs": []
    },
    {
      "cell_type": "code",
      "metadata": {
        "id": "xhZ51Vwc1_tR",
        "colab_type": "code",
        "colab": {}
      },
      "source": [
        "def cross_validation(stim_train, visual_train, n_splits):\n",
        "  # Initialize the split method\n",
        "  kfold_iterator = KFold(n_splits)\n",
        "  mse_all =  []\n",
        "  r2_all = []\n",
        "\n",
        "  for i_split, (train_indices, val_indices) in enumerate(kfold_iterator.split(stim_train)):\n",
        "      \n",
        "      # Split up the overall training data into cross-validation training and validation sets\n",
        "      stim_cv_train = stim_train[train_indices]\n",
        "      visual_cv_train = visual_train[train_indices]\n",
        "\n",
        "      #Let's ignore the test data in our model \n",
        "      # stim_cv_val = stim_train[val_indices]\n",
        "      # visual_cv_val = visual_train[val_indices]\n",
        "\n",
        "      # MLR\n",
        "      modelA1 = LinearRegression(fit_intercept=False).fit(stim, visual_dat) \n",
        "      theta_hats = modelA1.coef_.T\n",
        "\n",
        "      # Compute MSE\n",
        "      visual_cv_train_hat =  stim_cv_train @ theta_hats\n",
        "      mse_this_split = np.mean((visual_cv_train-visual_cv_train_hat)**2 )\n",
        "      mse_all.append(mse_this_split)\n",
        "\n",
        "      #Compute R2\n",
        "      r2_this_split = sklearn.metrics.r2_score(visual_cv_train,visual_cv_train_hat)\n",
        "      r2_all.append(r2_this_split)\n",
        "\n",
        "  return mse_all, r2_all\n"
      ],
      "execution_count": 6,
      "outputs": []
    },
    {
      "cell_type": "markdown",
      "metadata": {
        "id": "6kGWZ7tZMHCK",
        "colab_type": "text"
      },
      "source": [
        "# MODEL 1:  Encodig from visual stimulus\n",
        "\n",
        "Using Multiple Linear Regresion:\n",
        "\n",
        "\\begin{align}\n",
        "y = \\theta_0 + \\theta_1 x_1 + \\theta_1 x_2 + ... +\\theta_d x_d + \\epsilon\n",
        "\\end{align}\n",
        "\n",
        "where $\\theta_0$ is the intercept and $d$ is the number of features.\n",
        "\n",
        "\n",
        "Testing with k-fold cross-validation\n",
        "\n",
        "**Metrics:**\n",
        "*   Visual stimulus : [nTrials x 3] Contrast on left and right\n",
        "\n",
        "\\begin{align}\n",
        "\\mathbf{X} = \n",
        "\\begin{bmatrix}\n",
        "1 & x_{1,1} & x_{1,2}  \\\\\n",
        "1 & x_{2,1} & x_{2,2} \\\\\n",
        "\\vdots & \\vdots  \\\\\n",
        "1 & x_{n,1} & x_{n,2}\n",
        "\\end{bmatrix}\n",
        "\\end{align}\n",
        "\n",
        "\n",
        "*   Visual trials matrix : [nTrials x Neurons]\n",
        "\n",
        "\\begin{align}\n",
        "\\mathbf{Y} = \n",
        "\\begin{bmatrix}\n",
        "y_{1,1} & y_{1,2} & \\dots & y_{1,m}  \\\\\n",
        "y_{2,1} & y_{2,2}  & \\dots & y_{2,m} \\\\\n",
        "\\vdots & \\vdots  & \\dots & \\vdots\\\\\n",
        "y_{n,1} & y_{n,2} & \\dots  &  y_{n,m}\n",
        "\\end{bmatrix}\n",
        "\\end{align}\n",
        "\n",
        "\n",
        "\n",
        "**Returns**\n",
        "*  A1 matrix [3x ntrials]\n",
        "\n",
        "\\begin{align}\n",
        "\\mathbf{A1} = \n",
        "\\begin{bmatrix}\n",
        "\\theta_{1,1} & \\theta_{1,2}& \\dots \\ & \\theta_{1,m}\\\\\n",
        "\\theta_{2,1} & \\theta_{2,2}& \\dots & \\theta_{2,m}\\\\\n",
        "\\theta_{3,1} & \\theta_{3,2}& \\dots & \\theta_{3,m}\\\\\n",
        "\\end{bmatrix}\n",
        "\\end{align}\n",
        "\n",
        "\n",
        "\n",
        "**Others**\n",
        "*   Calculate Root MSE \n",
        "\n",
        " \\begin{align}\n",
        " RMSE = \\sqrt{\\sum_{i=1}^N(y_i - \\hat y_i)^2}\\\\\n",
        "\\end{align}\n",
        "\n",
        "* RMSE normalized per Neuron\n",
        "\n",
        "\\begin{align}\n",
        "nRMSE = \\frac{RMSE}{\\bar y}\n",
        "\\end{align}\n",
        "\n",
        "\n",
        "*   Calculate $R^2$ per Neuron\n",
        "\n",
        "\n",
        "\\begin{align}\n",
        "R^2 = \\frac{\\sum_{i=1}^n(\\hat y_i - \\ y)^2}{\\sum_{i=1}^n (y_i - \\ \\bar{y})^2}\n",
        "\\end{align}\n",
        "\n",
        "\n",
        "*   Test with more sessions, the MSE decrease?\n",
        "\n",
        "\n"
      ]
    },
    {
      "cell_type": "markdown",
      "metadata": {
        "id": "fXGrXHpAmb9S",
        "colab_type": "text"
      },
      "source": [
        "# MODEL 1 : CROSSVALIDATION \n",
        "\n"
      ]
    },
    {
      "cell_type": "code",
      "metadata": {
        "id": "x9TFVNAGcVGw",
        "colab_type": "code",
        "cellView": "both",
        "colab": {
          "base_uri": "https://localhost:8080/",
          "height": 446
        },
        "outputId": "2406d76a-4c2e-41e5-d82a-fca68baf9d24"
      },
      "source": [
        "visual_dat = get_visual_ctx(data_set)\n",
        "stim = data_set[\"stims\"]\n",
        "\n",
        "model = LinearRegression(fit_intercept=False).fit(stim, visual_dat) \n",
        "\n",
        "A1 = model.coef_.T\n",
        "visual_dat_hat = model.predict(stim)\n",
        "\n",
        "visual_dat_hat = stim @ A1\n",
        "mse = np.mean( (visual_dat-visual_dat_hat)**2 )\n",
        "\n",
        "r2_metrics =  sklearn.metrics.r2_score(visual_dat,visual_dat_hat)\n",
        "\n",
        "accuracies = (cross_val_score(model, stim, visual_dat, cv=8))\n",
        "\n",
        "num_splits =8\n",
        "\n",
        "f, ax = plt.subplots(figsize=(8, 3))\n",
        "ax.boxplot(r2_all, vert=False, widths=.7)\n",
        "ax.scatter(r2_all, np.ones(num_splits))\n",
        "ax.set(\n",
        "  xlabel=\"R2\",\n",
        "  yticks=[],\n",
        "  title=f\"Average R2: {np.mean(r2_metrics):.3f}\"\n",
        ")\n",
        "ax.spines[\"left\"].set_visible(False)\n",
        "\n",
        "\n",
        "f, ax = plt.subplots(figsize=(8, 3))\n",
        "ax.boxplot(mse_all, vert=False, widths=.7)\n",
        "ax.scatter(mse_all, np.ones(num_splits))\n",
        "ax.set(\n",
        "  xlabel=\"MSE\",\n",
        "  yticks=[],\n",
        "  title=f\"Average MSE: {np.mean(mse):.3f}\"\n",
        ")\n",
        "ax.spines[\"left\"].set_visible(False)\n",
        "\n",
        "\n",
        " "
      ],
      "execution_count": 7,
      "outputs": [
        {
          "output_type": "error",
          "ename": "NameError",
          "evalue": "ignored",
          "traceback": [
            "\u001b[0;31m---------------------------------------------------------------------------\u001b[0m",
            "\u001b[0;31mNameError\u001b[0m                                 Traceback (most recent call last)",
            "\u001b[0;32m<ipython-input-7-5c06ee7b7c6e>\u001b[0m in \u001b[0;36m<module>\u001b[0;34m()\u001b[0m\n\u001b[1;32m     17\u001b[0m \u001b[0;34m\u001b[0m\u001b[0m\n\u001b[1;32m     18\u001b[0m \u001b[0mf\u001b[0m\u001b[0;34m,\u001b[0m \u001b[0max\u001b[0m \u001b[0;34m=\u001b[0m \u001b[0mplt\u001b[0m\u001b[0;34m.\u001b[0m\u001b[0msubplots\u001b[0m\u001b[0;34m(\u001b[0m\u001b[0mfigsize\u001b[0m\u001b[0;34m=\u001b[0m\u001b[0;34m(\u001b[0m\u001b[0;36m8\u001b[0m\u001b[0;34m,\u001b[0m \u001b[0;36m3\u001b[0m\u001b[0;34m)\u001b[0m\u001b[0;34m)\u001b[0m\u001b[0;34m\u001b[0m\u001b[0;34m\u001b[0m\u001b[0m\n\u001b[0;32m---> 19\u001b[0;31m \u001b[0max\u001b[0m\u001b[0;34m.\u001b[0m\u001b[0mboxplot\u001b[0m\u001b[0;34m(\u001b[0m\u001b[0mr2_all\u001b[0m\u001b[0;34m,\u001b[0m \u001b[0mvert\u001b[0m\u001b[0;34m=\u001b[0m\u001b[0;32mFalse\u001b[0m\u001b[0;34m,\u001b[0m \u001b[0mwidths\u001b[0m\u001b[0;34m=\u001b[0m\u001b[0;36m.7\u001b[0m\u001b[0;34m)\u001b[0m\u001b[0;34m\u001b[0m\u001b[0;34m\u001b[0m\u001b[0m\n\u001b[0m\u001b[1;32m     20\u001b[0m \u001b[0max\u001b[0m\u001b[0;34m.\u001b[0m\u001b[0mscatter\u001b[0m\u001b[0;34m(\u001b[0m\u001b[0mr2_all\u001b[0m\u001b[0;34m,\u001b[0m \u001b[0mnp\u001b[0m\u001b[0;34m.\u001b[0m\u001b[0mones\u001b[0m\u001b[0;34m(\u001b[0m\u001b[0mnum_splits\u001b[0m\u001b[0;34m)\u001b[0m\u001b[0;34m)\u001b[0m\u001b[0;34m\u001b[0m\u001b[0;34m\u001b[0m\u001b[0m\n\u001b[1;32m     21\u001b[0m ax.set(\n",
            "\u001b[0;31mNameError\u001b[0m: name 'r2_all' is not defined"
          ]
        },
        {
          "output_type": "display_data",
          "data": {
            "image/png": "[encoded data removed]",
            "text/plain": [
              "<Figure size 576x216 with 1 Axes>"
            ]
          },
          "metadata": {
            "tags": [],
            "needs_background": "light"
          }
        }
      ]
    },
    {
      "cell_type": "code",
      "metadata": {
        "id": "iPdMZQEaeQU1",
        "colab_type": "code",
        "colab": {
          "base_uri": "https://localhost:8080/",
          "height": 296
        },
        "outputId": "a5735b13-dd2b-4588-9222-606069b5f508"
      },
      "source": [
        "# dataset \n",
        "df = pd.DataFrame(A1)\n",
        "# # Default heatmap: just a visualization of this square matrix\n",
        "\n",
        "p1 = sns.heatmap(df, vmin=0, vmax=1)"
      ],
      "execution_count": 8,
      "outputs": [
        {
          "output_type": "display_data",
          "data": {
            "image/png": "[encoded data removed]",
            "text/plain": [
              "<Figure size 432x288 with 2 Axes>"
            ]
          },
          "metadata": {
            "tags": [],
            "needs_background": "light"
          }
        }
      ]
    },
    {
      "cell_type": "code",
      "metadata": {
        "id": "98g6Mr1FNCG7",
        "colab_type": "code",
        "colab": {
          "base_uri": "https://localhost:8080/",
          "height": 296
        },
        "outputId": "670fe138-d637-466d-b53b-e6251420a187"
      },
      "source": [
        "# plt.scatter(visual_dat.flatten(), visual_dat_hat.flatten()) \n",
        "plt.scatter(visual_dat,visual_dat_hat, alpha=0.3)\n",
        "plt.title(\"Visual reponses, y vs $\\hat y$ \")\n",
        "plt.xlabel(\"Visual responses, y\")\n",
        "plt.ylabel(\"Visual responses, $\\hat y$\")\n",
        "plt.show()"
      ],
      "execution_count": 9,
      "outputs": [
        {
          "output_type": "display_data",
          "data": {
            "image/png": "[encoded data removed]",
            "text/plain": [
              "<Figure size 432x288 with 1 Axes>"
            ]
          },
          "metadata": {
            "tags": [],
            "needs_background": "light"
          }
        }
      ]
    },
    {
      "cell_type": "code",
      "metadata": {
        "id": "-aEgVtp-rNp7",
        "colab_type": "code",
        "colab": {}
      },
      "source": [
        "n_visual_dat = np.zeros(visual_dat.shape[1])\n",
        "n_visual_dat_hat = np.zeros(visual_dat.shape[1])\n",
        "n_mse = np.zeros(visual_dat.shape[1])\n",
        "n_r2_metrics = np.zeros(visual_dat.shape[1])\n",
        "n_mse_norm = np.zeros(visual_dat.shape[1])\n",
        "\n",
        "for j in range(visual_dat.shape[1]):\n",
        "\n",
        "  n_visual_dat =visual_dat[:,j]\n",
        "\n",
        "  model_n = LinearRegression(fit_intercept=False).fit(stim, n_visual_dat)\n",
        "\n",
        "  A1_n = model_n.coef_.T\n",
        "\n",
        "  n_visual_dat_hat = stim @ A1_n\n",
        "  n_visual_dat_mean= np.mean(n_visual_dat)\n",
        "  \n",
        "  n_mse [j]= np.mean( (n_visual_dat-n_visual_dat_hat)**2 )\n",
        "  n_mse_norm [j]= n_mse [j]/ n_visual_dat_mean\n",
        "  a=np.sum((n_visual_dat_hat-n_visual_dat)**2)\n",
        "  b=np.sum((n_visual_dat-n_visual_dat_mean)**2)\n",
        "\n",
        "  \n",
        "  n_r2_metrics [j] = a/b\n"
      ],
      "execution_count": 13,
      "outputs": []
    },
    {
      "cell_type": "code",
      "metadata": {
        "id": "eQpozIdmrQDs",
        "colab_type": "code",
        "colab": {
          "base_uri": "https://localhost:8080/",
          "height": 296
        },
        "outputId": "ae5dd5b2-bb73-4316-f17f-1a826af1ba7b"
      },
      "source": [
        "plt.scatter(n_mse_norm,n_r2_metrics,alpha=0.4)\n",
        "plt.title(\"RMSE vs $R^2$ per Neuron\")\n",
        "plt.xlabel(\"RMSE\")\n",
        "plt.ylabel(\"$R^2$\")\n",
        "plt.show()"
      ],
      "execution_count": 15,
      "outputs": [
        {
          "output_type": "display_data",
          "data": {
            "image/png": "[encoded data removed]",
            "text/plain": [
              "<Figure size 432x288 with 1 Axes>"
            ]
          },
          "metadata": {
            "tags": [],
            "needs_background": "light"
          }
        }
      ]
    },
    {
      "cell_type": "markdown",
      "metadata": {
        "id": "yjIBZIjVo_qE",
        "colab_type": "text"
      },
      "source": [
        "# MODEL:  Decoding from motor : obtaining predicted motor\n",
        "Logistic Regression no penalty\n",
        "$$ \\hat{y} \\equiv p(y=1|x,\\theta) = \\sigma(\\theta^Tx)$$\n",
        "**Parameters:**\n",
        "*   Motor matrix `[nTrials x nNeurons]`: spikes rates of neurons from areas related to motor function. \n",
        "*   Choice `[nTrials]`: 2 categories.  Task of turning a wheel to the left or to the rigth. *(NoGo trials were ignored for simplicity)*\n",
        "\n",
        "**Returns**\n",
        "* A3 `[nNeurons]`: Weight vector"
      ]
    },
    {
      "cell_type": "code",
      "metadata": {
        "id": "7kMkaM7KnaN-",
        "colab_type": "code",
        "colab": {
          "base_uri": "https://localhost:8080/",
          "height": 34
        },
        "outputId": "5e8add3c-de6c-418b-dd4c-fd6e5f66a63d"
      },
      "source": [
        "# obtenemos matrices 'y' y 'x'\n",
        "motor_dat = get_motor_ctx(data_set)\n",
        "choice = data_set[\"response\"]\n",
        "choice = np.column_stack((np.ones(219),choice))\n",
        "\n",
        "#definimos el modelo & ajustamos los datos\n",
        "modelo = Lasso(alpha=1, fit_intercept=False).fit(choice, motor_dat)\n",
        "A3 = modelo.coef_.T\n",
        "motor_dat_hat = choice @ A3\n",
        "print(motor_dat_hat.shape)\n",
        "\n",
        "\n"
      ],
      "execution_count": null,
      "outputs": [
        {
          "output_type": "stream",
          "text": [
            "(219, 150)\n"
          ],
          "name": "stdout"
        }
      ]
    },
    {
      "cell_type": "markdown",
      "metadata": {
        "id": "FolqjLF4YBIS",
        "colab_type": "text"
      },
      "source": [
        "# MODEL2: Connectivity Matrix\n",
        "Regularization with ridge penalty (L2).\n",
        "\n",
        "$$-\\log\\mathcal{L}'(\\theta | X, y)=\n",
        "-\\log\\mathcal{L}(\\theta | X, y) +\\frac\\beta2\\sum_i\\theta_i^2,\n",
        "$$\n",
        "\n",
        "with a regularization strength of 20\n",
        "\n",
        "**Parameters:**\n",
        "\n",
        "* A1 `[3 x nNeurons_visual ]` :  Weight matrix of encoding model (visual stimulus to visual area)\n",
        "* Motor hat `[nTrials x nNeurons_motor]`: predicted spikes rates of neurons involved in motor function.\n",
        "\n",
        "**Returns**:\n",
        "* A2 `[nNeurons_visual , nNeurons_motor]`: Weight  matrix of connectivity model (visual area to motor area)"
      ]
    },
    {
      "cell_type": "code",
      "metadata": {
        "id": "KoKQv-eZ8j2g",
        "colab_type": "code",
        "colab": {
          "base_uri": "https://localhost:8080/",
          "height": 52
        },
        "outputId": "7d48c026-b60a-4216-f55f-95e11bb4c891"
      },
      "source": [
        "# obtains motor areas matrix and sets model\n",
        "\n",
        "ridge = Ridge(alpha=1)\n",
        "\n",
        "# obtains weight matrix A2\n",
        "ridge.fit(visual_dat_hat, motor_dat_hat) \n",
        "A2 = ridge.coef_.T\n",
        "\n",
        "# obtains prediction\n",
        "motor_dat_hat_hat = ridge.predict(visual_dat_hat)\n",
        "\n",
        "# MSE & R2\n",
        "print(\"ridge MSE:\", mean_squared_error(motor_dat_hat, motor_dat_hat_hat))\n",
        "print(\"ridge score:\",ridge.score(visual_dat_hat, motor_dat_hat))\n",
        "\n",
        "\n",
        "\n"
      ],
      "execution_count": null,
      "outputs": [
        {
          "output_type": "stream",
          "text": [
            "ridge MSE: 0.14855590050895154\n",
            "ridge score: 0.5529086579991368\n"
          ],
          "name": "stdout"
        }
      ]
    },
    {
      "cell_type": "code",
      "metadata": {
        "id": "xpIyQ04dh-P3",
        "colab_type": "code",
        "colab": {
          "base_uri": "https://localhost:8080/",
          "height": 287
        },
        "outputId": "1cc39c36-b925-4e0c-a750-1d81b00afbba"
      },
      "source": [
        "# dataset \n",
        "df = pd.DataFrame(A2)\n",
        "# # Default heatmap: just a visualization of this square matrix\n",
        "\n",
        "p1 = sns.heatmap(df, vmin=0, vmax=1)"
      ],
      "execution_count": null,
      "outputs": [
        {
          "output_type": "display_data",
          "data": {
            "image/png": "[encoded data removed]",
            "text/plain": [
              "<Figure size 1440x288 with 2 Axes>"
            ]
          },
          "metadata": {
            "tags": [],
            "needs_background": "light"
          }
        }
      ]
    },
    {
      "cell_type": "markdown",
      "metadata": {
        "id": "Y717Zs5PYPBA",
        "colab_type": "text"
      },
      "source": [
        "# Model\n",
        "$$ \\hat{choice} = stim A1 A2 A3 $$\n",
        "\n",
        "**Parameters**\n",
        "* stim `[nTrials x 3]` :  Visual stimulus, contrast on left and right\n",
        "* A1 `[3 x nNeurons_visual]` : Weight matrix of encoding model (visual stimulus to visual area)\n",
        "* A2 `[nNeurons_visual , nNeurons_motor]`: Weight  matrix of connectivity model (visual area to motor area)\n",
        "* A3 `[nNeurons_motor]`: Weight vector of decoding model (motor area to task response)"
      ]
    },
    {
      "cell_type": "code",
      "metadata": {
        "id": "UkEZ_DfXE9TW",
        "colab_type": "code",
        "colab": {}
      },
      "source": [
        "\n",
        "response_hat =   stim @ A1 @ A2 @ A3.T\n",
        "\n",
        "data_hat_set =  {\n",
        "      \"stims\": stim, \n",
        "      \"response\": response_hat \n",
        "      }\n",
        "\n",
        "\n",
        "\n"
      ],
      "execution_count": null,
      "outputs": []
    },
    {
      "cell_type": "code",
      "metadata": {
        "id": "BXBS5fQE0U3U",
        "colab_type": "code",
        "colab": {}
      },
      "source": [
        "# Draft of sigmoide calculation\n",
        "def sigmoid(z):\n",
        "  return 1 / (1 + np.exp(-z))\n",
        "\n",
        "choice_hat = sigmoid(response_hat)\n",
        "#TODO: if function to categorize choices"
      ],
      "execution_count": null,
      "outputs": []
    },
    {
      "cell_type": "code",
      "metadata": {
        "id": "xL6gRD18JWLE",
        "colab_type": "code",
        "cellView": "code",
        "colab": {
          "base_uri": "https://localhost:8080/",
          "height": 187
        },
        "outputId": "4a9a13a7-82b0-4858-af14-ad1502cbe6f8"
      },
      "source": [
        "#@title Behavior Accuracy \n",
        "\n",
        "binary_resp_behav=get_binary_response(data_set)\n",
        "acc_behav= 100*(np.sum(binary_resp_behav==True)/len(binary_resp_behav))\n",
        "\n",
        "\n",
        "# Get behavior of the mode\n",
        "data_set_hat =  {\n",
        "      \"stims\": stim, \n",
        "      \"response\": response_hat \n",
        "      }\n",
        "\n",
        "binary_resp_model=get_binary_response(data_set_hat)\n",
        "acc_behav_model= 100*(np.sum(binary_resp_model==True)/len(data_set_hat))\n",
        "\n",
        "\n",
        "labels = [\"Behavior\", \"Model\"]\n",
        "#x = np.arange(len(labels))  # the label locations\n",
        "width = 0.15  # the width of the bars\n",
        "\n",
        "fig, ax = plt.subplots()\n",
        "\n",
        "rects1 = ax.bar( \"Real\", acc_behav,  label='Real')\n",
        "\n",
        "rects2 = ax.bar(\"Model\" , acc_behav_model,  label='Model')\n",
        "\n",
        "# Add some text for labels, title and custom x-axis tick labels, etc.\n",
        "ax.set_ylabel('Behaivor Accuracy %')\n",
        "\n",
        "\n",
        "ax.legend()\n",
        "\n",
        "\n",
        "def autolabel(rects):\n",
        "    \"\"\"Attach a text label above each bar in *rects*, displaying its height.\"\"\"\n",
        "    for rect in rects:\n",
        "        height = rect.get_height()\n",
        "        ax.annotate('{}'.format(height),\n",
        "                    xy=(rect.get_x() + rect.get_width() / 2, height),\n",
        "                    xytext=(0, 3),  # 3 points vertical offset\n",
        "                    textcoords=\"offset points\",\n",
        "                    ha='center', va='bottom')\n",
        "\n",
        "\n",
        "autolabel(rects1)\n",
        "autolabel(rects2)\n",
        "\n",
        "plt.show()"
      ],
      "execution_count": null,
      "outputs": [
        {
          "output_type": "stream",
          "text": [
            "/usr/local/lib/python3.6/dist-packages/ipykernel_launcher.py:88: DeprecationWarning: elementwise comparison failed; this will raise an error in the future.\n"
          ],
          "name": "stderr"
        },
        {
          "output_type": "display_data",
          "data": {
            "image/png": "[encoded data removed]",
            "text/plain": [
              "<Figure size 1440x288 with 1 Axes>"
            ]
          },
          "metadata": {
            "tags": [],
            "needs_background": "light"
          }
        }
      ]
    }
  ]
}