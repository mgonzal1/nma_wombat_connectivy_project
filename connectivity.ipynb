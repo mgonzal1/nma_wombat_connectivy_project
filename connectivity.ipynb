{
  "nbformat": 4,
  "nbformat_minor": 0,
  "metadata": {
    "colab": {
      "name": "Untitled0.ipynb",
      "provenance": [],
      "include_colab_link": true
    },
    "kernelspec": {
      "name": "python3",
      "display_name": "Python 3"
    },
    "widgets": {
      "application/vnd.jupyter.widget-state+json": {
        "92aae94c9cd54932960ec5256a658fad": {
          "model_module": "@jupyter-widgets/controls",
          "model_name": "VBoxModel",
          "state": {
            "_view_name": "VBoxView",
            "_dom_classes": [
              "widget-interact"
            ],
            "_model_name": "VBoxModel",
            "_view_module": "@jupyter-widgets/controls",
            "_model_module_version": "1.5.0",
            "_view_count": null,
            "_view_module_version": "1.5.0",
            "box_style": "",
            "layout": "IPY_MODEL_efbd240518fe4b10b9ffa79145a4040c",
            "_model_module": "@jupyter-widgets/controls",
            "children": [
              "IPY_MODEL_2c3980d87f0e46f4863ab2fec9a7ec7c",
              "IPY_MODEL_f3102d975a7946cb9f1beb5697ec79b5"
            ]
          }
        },
        "efbd240518fe4b10b9ffa79145a4040c": {
          "model_module": "@jupyter-widgets/base",
          "model_name": "LayoutModel",
          "state": {
            "_view_name": "LayoutView",
            "grid_template_rows": null,
            "right": null,
            "justify_content": null,
            "_view_module": "@jupyter-widgets/base",
            "overflow": null,
            "_model_module_version": "1.2.0",
            "_view_count": null,
            "flex_flow": null,
            "width": null,
            "min_width": null,
            "border": null,
            "align_items": null,
            "bottom": null,
            "_model_module": "@jupyter-widgets/base",
            "top": null,
            "grid_column": null,
            "overflow_y": null,
            "overflow_x": null,
            "grid_auto_flow": null,
            "grid_area": null,
            "grid_template_columns": null,
            "flex": null,
            "_model_name": "LayoutModel",
            "justify_items": null,
            "grid_row": null,
            "max_height": null,
            "align_content": null,
            "visibility": null,
            "align_self": null,
            "height": null,
            "min_height": null,
            "padding": null,
            "grid_auto_rows": null,
            "grid_gap": null,
            "max_width": null,
            "order": null,
            "_view_module_version": "1.2.0",
            "grid_template_areas": null,
            "object_position": null,
            "object_fit": null,
            "grid_auto_columns": null,
            "margin": null,
            "display": null,
            "left": null
          }
        },
        "2c3980d87f0e46f4863ab2fec9a7ec7c": {
          "model_module": "@jupyter-widgets/controls",
          "model_name": "IntSliderModel",
          "state": {
            "_view_name": "IntSliderView",
            "style": "IPY_MODEL_28e189669e1047bb9a5d1074d1a0cbbd",
            "_dom_classes": [],
            "description": "min_areas",
            "step": 1,
            "_model_name": "IntSliderModel",
            "orientation": "horizontal",
            "max": 7,
            "_view_module": "@jupyter-widgets/controls",
            "_model_module_version": "1.5.0",
            "value": 3,
            "_view_count": null,
            "disabled": false,
            "_view_module_version": "1.5.0",
            "min": 0,
            "continuous_update": true,
            "readout_format": "d",
            "description_tooltip": null,
            "readout": true,
            "_model_module": "@jupyter-widgets/controls",
            "layout": "IPY_MODEL_49c458af0d5a4ef4920a08a3ec150f61"
          }
        },
        "f3102d975a7946cb9f1beb5697ec79b5": {
          "model_module": "@jupyter-widgets/output",
          "model_name": "OutputModel",
          "state": {
            "_view_name": "OutputView",
            "msg_id": "",
            "_dom_classes": [],
            "_model_name": "OutputModel",
            "outputs": [
              {
                "output_type": "stream",
                "metadata": {
                  "tags": []
                },
                "text": "\nSession: 0 Total neurons: 734\nSession: 2 Total neurons: 619\nSession: 3 Total neurons: 1769\nSession: 6 Total neurons: 584\nSession: 7 Total neurons: 1156\nSession: 8 Total neurons: 788\nSession: 9 Total neurons: 1172\nSession: 11 Total neurons: 698\nSession: 12 Total neurons: 983\nSession: 13 Total neurons: 756\nSession: 14 Total neurons: 743\nSession: 15 Total neurons: 474\nSession: 17 Total neurons: 1089\nSession: 18 Total neurons: 606\nSession: 21 Total neurons: 646\nSession: 23 Total neurons: 1337\nSession: 26 Total neurons: 563\nSession: 27 Total neurons: 549\nSession: 29 Total neurons: 942\nSession: 30 Total neurons: 977\nSession: 32 Total neurons: 613\nSession: 33 Total neurons: 781\nSession: 34 Total neurons: 795\nSession: 35 Total neurons: 680\nSession: 37 Total neurons: 805\n",
                "stream": "stdout"
              }
            ],
            "_view_module": "@jupyter-widgets/output",
            "_model_module_version": "1.0.0",
            "_view_count": null,
            "_view_module_version": "1.0.0",
            "layout": "IPY_MODEL_c45336d64b61464796a9116fde3a9db2",
            "_model_module": "@jupyter-widgets/output"
          }
        },
        "28e189669e1047bb9a5d1074d1a0cbbd": {
          "model_module": "@jupyter-widgets/controls",
          "model_name": "SliderStyleModel",
          "state": {
            "_view_name": "StyleView",
            "handle_color": null,
            "_model_name": "SliderStyleModel",
            "description_width": "",
            "_view_module": "@jupyter-widgets/base",
            "_model_module_version": "1.5.0",
            "_view_count": null,
            "_view_module_version": "1.2.0",
            "_model_module": "@jupyter-widgets/controls"
          }
        },
        "49c458af0d5a4ef4920a08a3ec150f61": {
          "model_module": "@jupyter-widgets/base",
          "model_name": "LayoutModel",
          "state": {
            "_view_name": "LayoutView",
            "grid_template_rows": null,
            "right": null,
            "justify_content": null,
            "_view_module": "@jupyter-widgets/base",
            "overflow": null,
            "_model_module_version": "1.2.0",
            "_view_count": null,
            "flex_flow": null,
            "width": null,
            "min_width": null,
            "border": null,
            "align_items": null,
            "bottom": null,
            "_model_module": "@jupyter-widgets/base",
            "top": null,
            "grid_column": null,
            "overflow_y": null,
            "overflow_x": null,
            "grid_auto_flow": null,
            "grid_area": null,
            "grid_template_columns": null,
            "flex": null,
            "_model_name": "LayoutModel",
            "justify_items": null,
            "grid_row": null,
            "max_height": null,
            "align_content": null,
            "visibility": null,
            "align_self": null,
            "height": null,
            "min_height": null,
            "padding": null,
            "grid_auto_rows": null,
            "grid_gap": null,
            "max_width": null,
            "order": null,
            "_view_module_version": "1.2.0",
            "grid_template_areas": null,
            "object_position": null,
            "object_fit": null,
            "grid_auto_columns": null,
            "margin": null,
            "display": null,
            "left": null
          }
        },
        "c45336d64b61464796a9116fde3a9db2": {
          "model_module": "@jupyter-widgets/base",
          "model_name": "LayoutModel",
          "state": {
            "_view_name": "LayoutView",
            "grid_template_rows": null,
            "right": null,
            "justify_content": null,
            "_view_module": "@jupyter-widgets/base",
            "overflow": null,
            "_model_module_version": "1.2.0",
            "_view_count": null,
            "flex_flow": null,
            "width": null,
            "min_width": null,
            "border": null,
            "align_items": null,
            "bottom": null,
            "_model_module": "@jupyter-widgets/base",
            "top": null,
            "grid_column": null,
            "overflow_y": null,
            "overflow_x": null,
            "grid_auto_flow": null,
            "grid_area": null,
            "grid_template_columns": null,
            "flex": null,
            "_model_name": "LayoutModel",
            "justify_items": null,
            "grid_row": null,
            "max_height": null,
            "align_content": null,
            "visibility": null,
            "align_self": null,
            "height": null,
            "min_height": null,
            "padding": null,
            "grid_auto_rows": null,
            "grid_gap": null,
            "max_width": null,
            "order": null,
            "_view_module_version": "1.2.0",
            "grid_template_areas": null,
            "object_position": null,
            "object_fit": null,
            "grid_auto_columns": null,
            "margin": null,
            "display": null,
            "left": null
          }
        }
      }
    }
  },
  "cells": [
    {
      "cell_type": "markdown",
      "metadata": {
        "id": "view-in-github",
        "colab_type": "text"
      },
      "source": [
        "<a href=\"https://colab.research.google.com/github/mgonzal1/nma_wombat_connectivy_project/blob/matrices/connectivity.ipynb\" target=\"_parent\"><img src=\"https://colab.research.google.com/assets/colab-badge.svg\" alt=\"Open In Colab\"/></a>"
      ]
    },
    {
      "cell_type": "code",
      "metadata": {
        "id": "o5E0jLc0DVAC",
        "colab_type": "code",
        "cellView": "both",
        "colab": {}
      },
      "source": [
        "#@title imports and set defaults\n",
        "from matplotlib import rcParams \n",
        "from matplotlib import pyplot as plt\n",
        "from sklearn.linear_model import LinearRegression\n",
        "from sklearn.linear_model import LogisticRegression\n",
        "from sklearn.model_selection import cross_val_score\n",
        "from sklearn.model_selection import KFold\n",
        "from sklearn.model_selection import train_test_split\n",
        "\n",
        "import ipywidgets as widgets \n",
        "import numpy as np\n",
        "import pandas as pd\n",
        "rcParams['figure.figsize'] = [20, 4]\n",
        "rcParams['font.size'] =15\n",
        "rcParams['axes.spines.top'] = False\n",
        "rcParams['axes.spines.right'] = False\n",
        "rcParams['figure.autolayout'] = True"
      ],
      "execution_count": 57,
      "outputs": []
    },
    {
      "cell_type": "code",
      "metadata": {
        "id": "Pxau-hjxDYpV",
        "colab_type": "code",
        "cellView": "form",
        "colab": {}
      },
      "source": [
        "#@title Data retrieval\n",
        "import os, requests\n",
        "\n",
        "fname = []\n",
        "for j in range(3):\n",
        "  fname.append('steinmetz_part%d.npz'%j)\n",
        "url = [\"https://osf.io/agvxh/download\"]\n",
        "url.append(\"https://osf.io/uv3mw/download\")\n",
        "url.append(\"https://osf.io/ehmw2/download\")\n",
        "\n",
        "for j in range(len(url)):\n",
        "  if not os.path.isfile(fname[j]):\n",
        "    try:\n",
        "      r = requests.get(url[j])\n",
        "    except requests.ConnectionError:\n",
        "      print(\"!!! Failed to download data !!!\")\n",
        "    else:\n",
        "      if r.status_code != requests.codes.ok:\n",
        "        print(\"!!! Failed to download data !!!\")\n",
        "      else:\n",
        "        with open(fname[j], \"wb\") as fid:\n",
        "          fid.write(r.content)\n",
        "\n",
        "\n",
        "\n",
        "alldat = np.array([])\n",
        "for j in range(len(fname)):\n",
        "  alldat = np.hstack((alldat, np.load('steinmetz_part%d.npz'%j, allow_pickle=True)['dat']))"
      ],
      "execution_count": 19,
      "outputs": []
    },
    {
      "cell_type": "code",
      "metadata": {
        "id": "zOpjXvjqbDWr",
        "colab_type": "code",
        "cellView": "form",
        "colab": {
          "base_uri": "https://localhost:8080/",
          "height": 511,
          "referenced_widgets": [
            "92aae94c9cd54932960ec5256a658fad",
            "efbd240518fe4b10b9ffa79145a4040c",
            "2c3980d87f0e46f4863ab2fec9a7ec7c",
            "f3102d975a7946cb9f1beb5697ec79b5",
            "28e189669e1047bb9a5d1074d1a0cbbd",
            "49c458af0d5a4ef4920a08a3ec150f61",
            "c45336d64b61464796a9116fde3a9db2"
          ]
        },
        "outputId": "bc7407f2-30da-4d22-bcb7-4784a8f03565"
      },
      "source": [
        "#@title Representative session\n",
        "#@markdown As first step, lets choose 1 session to start trainning the model. Let's see which session has more neurons in the areas that we are going to use and how many neurons it has.\n",
        "@widgets.interact\n",
        "def get_representative_session(min_areas=(0,7)):\n",
        "  \"\"\" To simplify the model we are selecting a session recording with most of the regions represented.\n",
        "    This interactive function help us to decide the session based on the minimal regions represented and number of \n",
        "    total neurons recorded.\n",
        "\n",
        "  \"\"\"\n",
        "  print(\"\")\n",
        "  brain_groups = [[\"VISa\", \"VISam\", \"VISl\", \"VISp\", \"VISpm\", \"VISrl\"], # visual cortex\n",
        "                  [\"CL\", \"LD\", \"LGd\", \"LH\", \"LP\", \"MD\", \"MG\", \"PO\", \"POL\", \"PT\", \"RT\", \"SPF\", \"TH\", \"VAL\", \"VPL\", \"VPM\"], # thalamus\n",
        "                  [\"CA\", \"CA1\", \"CA2\", \"CA3\", \"DG\", \"SUB\", \"POST\"], # hippocampal\n",
        "                  [\"ACA\", \"AUD\", \"COA\", \"DP\", \"ILA\", \"MOp\", \"MOs\", \"OLF\", \"ORB\", \"ORBm\", \"PIR\", \"PL\", \"SSp\", \"SSs\", \"RSP\",\" TT\"], # non-visual cortex\n",
        "                  [\"APN\", \"IC\", \"MB\", \"MRN\", \"NB\", \"PAG\", \"RN\", \"SCs\", \"SCm\", \"SCig\", \"SCsg\", \"ZI\"], # midbrain\n",
        "                  [\"ACB\", \"CP\", \"GPe\", \"LS\", \"LSc\", \"LSr\", \"MS\", \"OT\", \"SNr\", \"SI\"], # basal ganglia \n",
        "                  [\"BLA\", \"BMA\", \"EP\", \"EPd\", \"MEA\"] # cortical subplate\n",
        "                  ]\n",
        "  regions = [\"visual ctx\", \"thal\", \"hipp\", \"non-visual ctx\", \"midbrain\", \"basal ganglia\", \"cortical subplate\"]\n",
        "  for i in range (0,38):\n",
        "    session = alldat[i]\n",
        "    brain_areas = set(session['brain_area'])\n",
        "    representative = []\n",
        "    neurons_in_area = []\n",
        "    for group in brain_groups:\n",
        "        representative.append(any(area in brain_areas for area in group))\n",
        "    \n",
        "    if(representative.count(True)>min_areas):\n",
        "      print(\"Session:\" , i, \"Total neurons:\",session['brain_area'].shape[0])\n",
        "      #labels, sizes = np.unique(session['brain_area'], return_counts=True)\n",
        "      #print(sizes)\n",
        "      #fig = plt.figure()\n",
        "      #ax = fig.add_axes([0,0,1,1])\n",
        "      #ax.bar(regions,representative)\n",
        "      #ax.set_title(\"Session {}\".format(i))\n",
        "      #plt.show()\n"
      ],
      "execution_count": 20,
      "outputs": [
        {
          "output_type": "display_data",
          "data": {
            "application/vnd.jupyter.widget-view+json": {
              "model_id": "92aae94c9cd54932960ec5256a658fad",
              "version_minor": 0,
              "version_major": 2
            },
            "text/plain": [
              "interactive(children=(IntSlider(value=3, description='min_areas', max=7), Output()), _dom_classes=('widget-int…"
            ]
          },
          "metadata": {
            "tags": []
          }
        }
      ]
    },
    {
      "cell_type": "code",
      "metadata": {
        "id": "ja4driRhVzD6",
        "colab_type": "code",
        "colab": {}
      },
      "source": [
        "# SET DEFAULTS\n",
        "trial_time = 2\n",
        "session=12\n",
        "n_sessions = len(alldat)"
      ],
      "execution_count": 21,
      "outputs": []
    },
    {
      "cell_type": "code",
      "metadata": {
        "id": "g2ajfTQyPLdz",
        "colab_type": "code",
        "cellView": "form",
        "colab": {}
      },
      "source": [
        "#@title General functions to get data\n",
        "def filter_no_go_choice(data_set):\n",
        "  \"\"\"\n",
        "  In order to reduce the complexity on the decode model(A3), we are removing the no-go trials \n",
        "  so we kept binary choice (left or right) that fits with a LogisticRegression model\n",
        "   Args: \n",
        "      data_set: Subset of alldat\n",
        "\n",
        "  Returns:\n",
        "   new_data_set (dict): dat['spks']: neurons by trials.\n",
        "                        dat['brain_area']: brain area for each neuron recorded.\n",
        "                        dat['contrast_right']: contrast level for the right stimulus, which is always contralateral to the recorded brain areas.\n",
        "                        dat['contrast_left']: contrast level for left stimulus.\n",
        "                        dat['response']: which side the response was (-1,  1). Choices for the right stimulus are -1.\n",
        "  \"\"\"\n",
        "  new_data_set =  {}\n",
        "  index_trials = data_set['response'].nonzero()\n",
        "  # Remove baseline(first 50 bins) and get FR per neuron\n",
        "  new_data_set.update({\"spks\":(data_set[\"spks\"][:,index_trials[0],50:].sum(axis=2)/trial_time).T})\n",
        "  new_data_set.update({\"brain_area\":data_set[\"brain_area\"]})\n",
        "  new_data_set.update({\"response\": data_set[\"response\"][index_trials]})\n",
        "  new_data_set.update({\"contrast_right\": data_set[\"contrast_right\"][index_trials]})\n",
        "  new_data_set.update({\"contrast_left\": data_set[\"contrast_left\"][index_trials]})\n",
        "  return new_data_set\n",
        "\n",
        "def get_spks_from_area(dat,brain_area):\n",
        "  spks = dat[\"spks\"].T\n",
        "  n_neurons = spks.shape[0]\n",
        "  index_neurons = np.zeros(n_neurons,dtype=bool)\n",
        "  for neuron in range(n_neurons):\n",
        "    index_neurons[neuron] = dat['brain_area'][neuron] in brain_area\n",
        "\n",
        "  area_data = (spks[index_neurons,:].T)\n",
        "  return area_data, index_neurons\n",
        "\n",
        "def get_visual_ctx(data_set):\n",
        "  visual_ctx = [\"VISa\", \"VISam\", \"VISl\", \"VISp\", \"VISpm\", \"VISrl\"]\n",
        "  visual_data, _ = get_spks_from_area(data_set, visual_ctx)\n",
        "  return visual_data\n",
        "\n",
        "def get_motor_ctx(data_set):\n",
        "  motor_ctx = [\"CL\", \"LD\", \"LGd\", \"LH\", \"LP\", \"MD\", \"MG\", \"PO\", \"POL\", \"PT\", \"RT\", \"SPF\", \"TH\", \"VAL\", \"VPL\", \"VPM\"]\n",
        "  motor_data, _ = get_spks_from_area(data_set, motor_ctx)\n",
        "  return motor_data\n",
        "\n",
        "def get_stimulus(data_set):\n",
        "  \"\"\"\n",
        "   Args: \n",
        "      data_set: (map) Subset of alldat\n",
        "      \n",
        "   Returns:\n",
        "      stims[nTrials x 3]  bias: constant with ones\n",
        "                          stim_left: contrast level for the right stimulus.\n",
        "                          stim_right: contrast level for left stimulus.\n",
        "  \"\"\"\n",
        "\n",
        "\n",
        "  stims = data_set['contrast_left'], data_set['contrast_right']\n",
        "  stims = np.array(stims).T\n",
        "  n_trials = stims.shape[0]\n",
        "  stims = np.column_stack((np.ones(n_trials),stims))\n",
        "  return stims\n",
        "\n",
        "def get_response(data_set):\n",
        "  \"\"\"\n",
        "   Args: \n",
        "      data_set: Subset of alldat\n",
        "\n",
        "   Returns:\n",
        "        np.array: which side the response was (-1, 0, 1). Choices for the right stimulus are -1.\n",
        "  \"\"\"\n",
        "  response =  np.array(data_set['response'])\n",
        "  return response\n",
        "\n",
        "def get_binary_response(data_set):\n",
        "  \"\"\"\n",
        "   To simplify the model we ares going to use a binary response instead of the 3 possible values: left, no-action, right\n",
        "   to true or false comparing the stimulus to the expected actions. \n",
        "\n",
        "   Args: \n",
        "      data_set: Subset of alldat\n",
        "\n",
        "   Returns:\n",
        "        binary (np.array boolean) : Returns True or False\n",
        "  \"\"\"\n",
        "  vis_left, vis_right = [data_set[\"stims\"][:,1], data_set[\"stims\"][:,2]]\n",
        "  response = get_response(data_set)\n",
        "  binary_response = np.sign(response)==np.sign(vis_left-vis_right)\n",
        "  return binary_response\n",
        "\n",
        "def split_validation_set(data_set):\n",
        "  \"\"\"\n",
        "  Get a subset of alldat for validation purposes. This should be ~5%-10% of all the data.\n",
        "\n",
        "\n",
        "  Returns:\n",
        "   train_set (dict): dat['spks']: neurons by trials.\n",
        "                     dat['brain_area']: brain area for each neuron recorded.\n",
        "                     dat['stims']: contrast level for the right stimulus, which is always contralateral to the recorded brain areas.\n",
        "                     dat['response']: which side the response was (-1,  1). Choices for the right stimulus are -1.\n",
        "  \"\"\"\n",
        "\n",
        "  stims=get_stimulus(data_set)\n",
        "  response = get_response(data_set)\n",
        "  spk= data_set['spks']\n",
        "  # # create training and testing vars\n",
        "  stim_train, stim_test, spk_train, spk_test, response_train, response_test = train_test_split(stims, spk, response, test_size=0.1)\n",
        "  train_set = {\n",
        "      \"spks\": spk_train, \n",
        "      \"stims\": stim_train, \n",
        "      \"response\": response_train, \n",
        "      \"brain_area\":data_set['brain_area']\n",
        "      }\n",
        "  validation_set = {\n",
        "      \"spks\": spk_test,\n",
        "      \"stims\": stim_test, \n",
        "      \"response\": response_test, \n",
        "      \"brain_area\":data_set['brain_area']\n",
        "      }\n",
        "  return train_set, validation_set"
      ],
      "execution_count": 22,
      "outputs": []
    },
    {
      "cell_type": "code",
      "metadata": {
        "id": "yfhykX_RKnhg",
        "colab_type": "code",
        "colab": {}
      },
      "source": [
        "# Get train and validation data\n",
        "data_set = filter_no_go_choice(alldat[session])\n",
        "data_set, val_set = split_validation_set(data_set)\n",
        "#train_set (dict): dat['spks']: neurons by trials.\n",
        "#                  dat['brain_area']: brain area for each neuron recorded.\n",
        "#                  dat['stims']: contrast level for the right stimulus, which is always contralateral to the recorded brain areas.\n",
        "#                  dat['response']: which side the response was (-1,  1). Choices for the right stimulus are -1."
      ],
      "execution_count": 23,
      "outputs": []
    },
    {
      "cell_type": "markdown",
      "metadata": {
        "id": "6kGWZ7tZMHCK",
        "colab_type": "text"
      },
      "source": [
        "# MODEL1:  Encodig from visual stimulus\n",
        "\n",
        "Using Multiple Linear Regresion:\n",
        "\n",
        "\\begin{align}\n",
        "y = \\theta_0 + \\theta_1 x_1 + \\theta_1 x_2 + ... +\\theta_d x_d + \\epsilon\n",
        "\\end{align}\n",
        "\n",
        "where $\\theta_0$ is the intercept and $d$ is the number of features.\n",
        "\n",
        "\n",
        "Testing with k-fold cross-validation\n",
        "\n",
        "**Parameters:**\n",
        "*   Visual stimulus : [nTrials x 2] Contrast on left and right\n",
        "\n",
        "\\begin{align}\n",
        "\\mathbf{X} = \n",
        "\\begin{bmatrix}\n",
        "1 & x_{1,1} & x_{1,2} \\\\\n",
        "1 & x_{2,1} & x_{2,2} \\\\\n",
        "\\vdots & \\vdots & \\vdots \\\\\n",
        "1 & x_{n,1} & x_{n,2}\n",
        "\\end{bmatrix}\n",
        "\\end{align}\n",
        "\n",
        "\n",
        "*   Visual trials matrix : [nTrials x Neurons]\n",
        "\n",
        "\n",
        "\n",
        "\n",
        "**Returns**\n",
        "*  A1 matrix [2x ntrials]\n",
        "\n",
        "\n",
        "**Others**\n",
        "*   Calculate MSE per Neuron\n",
        "\n",
        "$$ MSE = \\frac 1 N ||y - \\hat y||^2 = \\sum_{i=1}^N (y_i - \\hat y_i)^2 $$\n",
        "\n",
        "\n",
        "*   Calculate $R^2$ per Neuron\n",
        "\n",
        "\n",
        "\\begin{align}\n",
        "R^2 = \\frac{\\sum_{i=1}^n(\\hat y_i - \\ \\bar{y})^2}{\\sum_{i=1}^n (y_i - \\ \\bar{y})^2}.\n",
        "\\end{align}\n",
        "\n",
        "\n",
        "*   Test with more sessions, the MSE decrease?\n"
      ]
    },
    {
      "cell_type": "code",
      "metadata": {
        "id": "kgRye-jkU6Mf",
        "colab_type": "code",
        "colab": {
          "base_uri": "https://localhost:8080/",
          "height": 52
        },
        "outputId": "c660ba7e-b117-487d-c0f0-44fd65d66268"
      },
      "source": [
        "visual_dat = get_visual_ctx(data_set)\n",
        "stim = data_set[\"stims\"]\n",
        "\n",
        "model = LinearRegression(fit_intercept=False).fit(stim, visual_dat) \n",
        "\n",
        "A1 = model.coef_.T\n",
        "\n",
        "visual_dat_hat = stim @ A1\n",
        "mse = np.mean( (visual_dat-visual_dat_hat)**2 )\n",
        "\n",
        "r2_metrics =  sklearn.metrics.r2_score(visual_dat,visual_dat_hat)\n",
        "\n",
        "print(f'MSE {mse}')\n",
        "print(f'R2 {r2_metrics}')\n",
        "\n",
        "\n"
      ],
      "execution_count": 24,
      "outputs": [
        {
          "output_type": "stream",
          "text": [
            "MSE 4.372191876256665\n",
            "R2 0.03754325323840819\n"
          ],
          "name": "stdout"
        }
      ]
    },
    {
      "cell_type": "code",
      "metadata": {
        "id": "98g6Mr1FNCG7",
        "colab_type": "code",
        "colab": {
          "base_uri": "https://localhost:8080/",
          "height": 266
        },
        "outputId": "84d4a477-f19e-424d-d133-8b59182b12b9"
      },
      "source": [
        "plt.scatter(visual_dat.flatten(), visual_dat_hat.flatten()) \n",
        "plt.scatter(visual_dat,visual_dat_hat)\n",
        "plt.title(\"Visual reponses, y vs $\\hat y$ \")\n",
        "plt.xlabel(\"Visual responses, y\")\n",
        "plt.ylabel(\"Visual responses, $\\hat y$\")\n",
        "plt.show()"
      ],
      "execution_count": 25,
      "outputs": [
        {
          "output_type": "display_data",
          "data": {
            "image/png": "[encoded data removed]",
            "text/plain": [
              "<Figure size 1440x288 with 1 Axes>"
            ]
          },
          "metadata": {
            "tags": [],
            "needs_background": "light"
          }
        }
      ]
    },
    {
      "cell_type": "code",
      "metadata": {
        "id": "-aEgVtp-rNp7",
        "colab_type": "code",
        "colab": {}
      },
      "source": [
        "n_visual_dat = np.zeros(visual_dat.shape[1])\n",
        "n_visual_dat_hat = np.zeros(visual_dat.shape[1])\n",
        "n_mse = np.zeros(visual_dat.shape[1])\n",
        "n_r2_metrics = np.zeros(visual_dat.shape[1])\n",
        "n_mse_norm = np.zeros(visual_dat.shape[1])\n",
        "\n",
        "for j in range(visual_dat.shape[1]):\n",
        "\n",
        "  n_visual_dat =visual_dat[:,j]\n",
        "\n",
        "  model = LinearRegression(fit_intercept=False).fit(stim, n_visual_dat)\n",
        "\n",
        "  A1_n = model.coef_.T\n",
        "\n",
        "  n_visual_dat_hat = stim @ A1_n\n",
        "  n_visual_dat_norm= np.mean(n_visual_dat)\n",
        "  \n",
        "  n_mse [j]= np.mean( (n_visual_dat-n_visual_dat_hat)**2 )\n",
        "  n_mse_norm [j]= n_mse [j]/ n_visual_dat_norm\n",
        "  \n",
        "  n_r2_metrics [j] =  sklearn.metrics.r2_score(n_visual_dat,n_visual_dat_hat)\n"
      ],
      "execution_count": 26,
      "outputs": []
    },
    {
      "cell_type": "code",
      "metadata": {
        "id": "eQpozIdmrQDs",
        "colab_type": "code",
        "colab": {
          "base_uri": "https://localhost:8080/",
          "height": 264
        },
        "outputId": "9fe45887-b830-4af6-89c9-7e5db9f57f98"
      },
      "source": [
        "plt.scatter(n_mse_norm.flatten(), n_r2_metrics.flatten())\n",
        "plt.scatter(n_mse.flatten(), n_r2_metrics.flatten())\n",
        "plt.scatter(n_mse,n_r2_metrics)\n",
        "plt.title(\"MSE vs $R^2$ per Neuron\")\n",
        "plt.xlabel(\"MSE\")\n",
        "plt.ylabel(\"$R^2$\")\n",
        "plt.show()"
      ],
      "execution_count": 27,
      "outputs": [
        {
          "output_type": "display_data",
          "data": {
            "image/png": "[encoded data removed]",
            "text/plain": [
              "<Figure size 1440x288 with 1 Axes>"
            ]
          },
          "metadata": {
            "tags": [],
            "needs_background": "light"
          }
        }
      ]
    },
    {
      "cell_type": "code",
      "metadata": {
        "id": "x9TFVNAGcVGw",
        "colab_type": "code",
        "cellView": "both",
        "colab": {
          "base_uri": "https://localhost:8080/",
          "height": 413
        },
        "outputId": "4fd113cd-90bc-4d17-edfb-f7f6e375d3b5"
      },
      "source": [
        "def cross_validation(stim_train, visual_train, n_splits):\n",
        "  # Initialize the split method\n",
        "  kfold_iterator = KFold(n_splits)\n",
        "  mse_all =  []\n",
        "  r2_all = []\n",
        "\n",
        "  for i_split, (train_indices, val_indices) in enumerate(kfold_iterator.split(stim_train)):\n",
        "      \n",
        "      # Split up the overall training data into cross-validation training and validation sets\n",
        "      stim_cv_train = stim_train[train_indices]\n",
        "      visual_cv_train = visual_train[train_indices]\n",
        "\n",
        "      #Let's ignore the test data in our model \n",
        "      # stim_cv_val = stim_train[val_indices]\n",
        "      # visual_cv_val = visual_train[val_indices]\n",
        "\n",
        "      # MLR\n",
        "      modelA1 = LinearRegression(fit_intercept=False).fit(stim, visual_dat) \n",
        "      theta_hats = modelA1.coef_.T\n",
        "\n",
        "      # Compute MSE\n",
        "      visual_cv_train_hat =  stim_cv_train @ theta_hats\n",
        "      mse_this_split = np.mean((visual_cv_train-visual_cv_train_hat)**2 )\n",
        "      mse_all.append(mse_this_split)\n",
        "\n",
        "      #Compute R2\n",
        "      r2_this_split = sklearn.metrics.r2_score(visual_cv_train,visual_cv_train_hat)\n",
        "      r2_all.append(r2_this_split)\n",
        "\n",
        "  return mse_all, r2_all\n",
        "\n",
        "num_splits =8\n",
        "mse_all, r2_all = cross_validation(stim, visual_dat, num_splits)\n",
        "f, ax = plt.subplots(figsize=(8, 3))\n",
        "ax.boxplot(r2_all, vert=False, widths=.7)\n",
        "ax.scatter(r2_all, np.ones(num_splits))\n",
        "ax.set(\n",
        "  xlabel=\"R2\",\n",
        "  yticks=[],\n",
        "  title=f\"Average R2: {np.mean(r2_all):.3f}\"\n",
        ")\n",
        "ax.spines[\"left\"].set_visible(False)\n",
        "\n",
        "\n",
        "f, ax = plt.subplots(figsize=(8, 3))\n",
        "ax.boxplot(mse_all, vert=False, widths=.7)\n",
        "ax.scatter(mse_all, np.ones(num_splits))\n",
        "ax.set(\n",
        "  xlabel=\"MSE\",\n",
        "  yticks=[],\n",
        "  title=f\"Average MSE: {np.mean(mse_all):.3f}\"\n",
        ")\n",
        "ax.spines[\"left\"].set_visible(False)\n",
        " "
      ],
      "execution_count": 28,
      "outputs": [
        {
          "output_type": "display_data",
          "data": {
            "image/png": "[encoded data removed]",
            "text/plain": [
              "<Figure size 576x216 with 1 Axes>"
            ]
          },
          "metadata": {
            "tags": [],
            "needs_background": "light"
          }
        },
        {
          "output_type": "display_data",
          "data": {
            "image/png": "[encoded data removed]",
            "text/plain": [
              "<Figure size 576x216 with 1 Axes>"
            ]
          },
          "metadata": {
            "tags": [],
            "needs_background": "light"
          }
        }
      ]
    },
    {
      "cell_type": "code",
      "metadata": {
        "id": "KoKQv-eZ8j2g",
        "colab_type": "code",
        "colab": {
          "base_uri": "https://localhost:8080/",
          "height": 52
        },
        "outputId": "bf0b24b5-6b0e-4cc0-c436-d20d24306bd0"
      },
      "source": [
        "#DRAFT : A2  model\n",
        "\n",
        "#### Calculo del parametro alpha\n",
        "#alpha = [1e-15, 1e-10, 1e-8, 1e-4, 1e-3,1e-2, 1, 5, 10, 20,100,1000]\n",
        "# parameters = {'alpha': [1e-15, 1e-10, 1e-8, 1e-4, 1e-3,1e-2, 1, 5, 10, 20]}\n",
        "# ridge_regressor = GridSearchCV(modelo, parameters,scoring='neg_mean_squared_error', cv=5)\n",
        "# ridge_regressor.fit(visual_dat, motor_dat) \n",
        "# ridge_regressor.best_params_\n",
        "# ridge_regressor.best_score_\n",
        "\n",
        "# obtenemos matriz de áreas motoras & definimos modelo\n",
        "motor_dat = get_motor_ctx(data_set)\n",
        "ridge = Ridge(alpha=20)\n",
        "\n",
        "#Obtener thetas\n",
        "ridge.fit(visual_dat_hat, motor_dat) \n",
        "A2 = ridge.coef_.T\n",
        "\n",
        "# Obtener motor_dat_hat\n",
        "motor_dat_hat = visual_dat_hat @ A2\n",
        "\n",
        "# MSE & R2\n",
        "print(\"ridge MSE:\", mean_squared_error(motor_dat, ridge.predict(visual_dat_hat)))\n",
        "#print(\"ridge score:\",ridge.score(visual_dat_hat, motor_dat))\n",
        "r2_metrics =  sklearn.metrics.r2_score(motor_dat,motor_dat_hat)\n",
        "print(f'R2 {r2_metrics}')\n",
        "#print(\"ridge coef:\", ridge.coef_)\n",
        "\n",
        "\n"
      ],
      "execution_count": 58,
      "outputs": [
        {
          "output_type": "stream",
          "text": [
            "ridge MSE: 13.648919585815712\n",
            "R2 -2.4769873668742903\n"
          ],
          "name": "stdout"
        }
      ]
    },
    {
      "cell_type": "markdown",
      "metadata": {
        "id": "wNTUO3hSNDf9",
        "colab_type": "text"
      },
      "source": [
        "# MODEL3:  Decoding from motor\n",
        "Logistic Regression no penalty\n",
        "\n",
        "**Parameters:**\n",
        "*   Motor matrix [nTrials x neurons].\n",
        "*   Reponses 3 categories.\n",
        "\n",
        "**TODO List**\n",
        "*   Change to get 3 categories of response (Left, Right, None).\n",
        "*   Filter trials to use only trials that succed to perform the action.\n"
      ]
    },
    {
      "cell_type": "code",
      "metadata": {
        "id": "wYmuB_AEIH6T",
        "colab_type": "code",
        "colab": {
          "base_uri": "https://localhost:8080/",
          "height": 214
        },
        "outputId": "4dae0a09-85ce-4144-cad8-c822937a5cc0"
      },
      "source": [
        "# obtenemos matrices 'y' y 'x'\n",
        "motor_dat = get_motor_ctx(data_set)\n",
        "binary_dat = data_set[\"response\"]\n",
        "\n",
        "#definimos el modelo & ajustamos los datos\n",
        "log_reg = LogisticRegression(penalty=\"none\")\n",
        "log_reg.fit(motor_dat, binary_dat) \n",
        "A3 = log_reg.coef_.T\n",
        "\n",
        "# predicciones\n",
        "binary_dat_hat = motor_dat @ A3\n",
        "\n",
        "#accuracy\n",
        "similarity = (binary_dat == binary_dat_hat)   #nos da booleans de [true false] de predicciones correctas\n",
        "accuracy = np.sum(similarity)/len(binary_dat)\n",
        "\n",
        "#crossvalidation \n",
        "accuracies = cross_val_score(LogisticRegression(penalty='none'), motor_dat, binary_dat, cv=8)\n",
        "\n",
        "f, ax = plt.subplots(figsize=(8, 3))\n",
        "ax.boxplot(accuracies, vert=False, widths=.7)\n",
        "ax.scatter(accuracies, np.ones(8))\n",
        "ax.set(\n",
        "  xlabel=\"Accuracy\",\n",
        "  yticks=[],\n",
        "  title=f\"Average test accuracy: {accuracies.mean():.2%}\"\n",
        ")\n",
        "ax.spines[\"left\"].set_visible(False)"
      ],
      "execution_count": 34,
      "outputs": [
        {
          "output_type": "display_data",
          "data": {
            "image/png": "[encoded data removed]",
            "text/plain": [
              "<Figure size 576x216 with 1 Axes>"
            ]
          },
          "metadata": {
            "tags": [],
            "needs_background": "light"
          }
        }
      ]
    },
    {
      "cell_type": "code",
      "metadata": {
        "id": "xL6gRD18JWLE",
        "colab_type": "code",
        "colab": {
          "base_uri": "https://localhost:8080/",
          "height": 263
        },
        "outputId": "c392bb7e-405a-44f5-cdb9-aa6a0f42e327"
      },
      "source": [
        "###accuracy for model and behavior\n",
        "\n",
        "binary_resp_behav=get_binary_response(data_set)\n",
        "acc_behav= 100*(np.sum(binary_resp_behav==True)/len(binary_resp_behav))\n",
        "\n",
        "\n",
        "# # binary_resp_model=get_binary_response(data_set_hat)    dasa_set_hat son los datos que estimaremos del modelo final. ;D\n",
        "# acc_behav_model= 100*(np.sum(binary_dat_hat==True)/len(binary_dat_hat))\n",
        "# ... to be continued\n",
        "\n",
        "labels = [\"Behaivor\", \"Model\"]\n",
        "x = np.arange(len(labels))  # the label locations\n",
        "width = 0.15  # the width of the bars\n",
        "\n",
        "fig, ax = plt.subplots()\n",
        "\n",
        "rects1 = ax.bar( x, acc_behav, width, label='Behavior')\n",
        "# ax.bar( x, acc_behav, width, label='Behavior')\n",
        "#rects2 = ax.bar(x + width/2, acc_behav_model, width, label='Model')\n",
        "\n",
        "# Add some text for labels, title and custom x-axis tick labels, etc.\n",
        "ax.set_ylabel('Behaivor Accuracy %')\n",
        "\n",
        "\n",
        "ax.legend()\n",
        "\n",
        "\n",
        "def autolabel(rects):\n",
        "    \"\"\"Attach a text label above each bar in *rects*, displaying its height.\"\"\"\n",
        "    for rect in rects:\n",
        "        height = rect.get_height()\n",
        "        ax.annotate('{}'.format(height),\n",
        "                    xy=(rect.get_x() + rect.get_width() / 2, height),\n",
        "                    xytext=(0, 3),  # 3 points vertical offset\n",
        "                    textcoords=\"offset points\",\n",
        "                    ha='center', va='bottom')\n",
        "\n",
        "\n",
        "autolabel(rects1)\n",
        "#autolabel(rects2)\n",
        "\n",
        "plt.show()"
      ],
      "execution_count": 31,
      "outputs": [
        {
          "output_type": "display_data",
          "data": {
            "image/png": "[encoded data removed]",
            "text/plain": [
              "<Figure size 1440x288 with 1 Axes>"
            ]
          },
          "metadata": {
            "tags": [],
            "needs_background": "light"
          }
        }
      ]
    }
  ]
}