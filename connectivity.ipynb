{
  "nbformat": 4,
  "nbformat_minor": 0,
  "metadata": {
    "colab": {
      "name": "Untitled0.ipynb",
      "provenance": [],
      "include_colab_link": true
    },
    "kernelspec": {
      "name": "python3",
      "display_name": "Python 3"
    },
    "widgets": {
      "application/vnd.jupyter.widget-state+json": {
        "c8b89f26f6ef4c27a6a39c457a978fa8": {
          "model_module": "@jupyter-widgets/controls",
          "model_name": "VBoxModel",
          "state": {
            "_view_name": "VBoxView",
            "_dom_classes": [
              "widget-interact"
            ],
            "_model_name": "VBoxModel",
            "_view_module": "@jupyter-widgets/controls",
            "_model_module_version": "1.5.0",
            "_view_count": null,
            "_view_module_version": "1.5.0",
            "box_style": "",
            "layout": "IPY_MODEL_7b3e5154470448808d77f215a31d2009",
            "_model_module": "@jupyter-widgets/controls",
            "children": [
              "IPY_MODEL_f4e9cb26a3264e36ab662669d6e4db44",
              "IPY_MODEL_1aedeaec2e3444ca9f1545c208d2aa34"
            ]
          }
        },
        "7b3e5154470448808d77f215a31d2009": {
          "model_module": "@jupyter-widgets/base",
          "model_name": "LayoutModel",
          "state": {
            "_view_name": "LayoutView",
            "grid_template_rows": null,
            "right": null,
            "justify_content": null,
            "_view_module": "@jupyter-widgets/base",
            "overflow": null,
            "_model_module_version": "1.2.0",
            "_view_count": null,
            "flex_flow": null,
            "width": null,
            "min_width": null,
            "border": null,
            "align_items": null,
            "bottom": null,
            "_model_module": "@jupyter-widgets/base",
            "top": null,
            "grid_column": null,
            "overflow_y": null,
            "overflow_x": null,
            "grid_auto_flow": null,
            "grid_area": null,
            "grid_template_columns": null,
            "flex": null,
            "_model_name": "LayoutModel",
            "justify_items": null,
            "grid_row": null,
            "max_height": null,
            "align_content": null,
            "visibility": null,
            "align_self": null,
            "height": null,
            "min_height": null,
            "padding": null,
            "grid_auto_rows": null,
            "grid_gap": null,
            "max_width": null,
            "order": null,
            "_view_module_version": "1.2.0",
            "grid_template_areas": null,
            "object_position": null,
            "object_fit": null,
            "grid_auto_columns": null,
            "margin": null,
            "display": null,
            "left": null
          }
        },
        "f4e9cb26a3264e36ab662669d6e4db44": {
          "model_module": "@jupyter-widgets/controls",
          "model_name": "IntSliderModel",
          "state": {
            "_view_name": "IntSliderView",
            "style": "IPY_MODEL_6374c17a81144dc1908a07305e24c4e6",
            "_dom_classes": [],
            "description": "min_areas",
            "step": 1,
            "_model_name": "IntSliderModel",
            "orientation": "horizontal",
            "max": 7,
            "_view_module": "@jupyter-widgets/controls",
            "_model_module_version": "1.5.0",
            "value": 3,
            "_view_count": null,
            "disabled": false,
            "_view_module_version": "1.5.0",
            "min": 0,
            "continuous_update": true,
            "readout_format": "d",
            "description_tooltip": null,
            "readout": true,
            "_model_module": "@jupyter-widgets/controls",
            "layout": "IPY_MODEL_b2a69292383f4a21926f50d38fbb4e87"
          }
        },
        "1aedeaec2e3444ca9f1545c208d2aa34": {
          "model_module": "@jupyter-widgets/output",
          "model_name": "OutputModel",
          "state": {
            "_view_name": "OutputView",
            "msg_id": "",
            "_dom_classes": [],
            "_model_name": "OutputModel",
            "outputs": [
              {
                "output_type": "stream",
                "metadata": {
                  "tags": []
                },
                "text": "\nSession: 0 Total neurons: 734\nSession: 2 Total neurons: 619\nSession: 3 Total neurons: 1769\nSession: 6 Total neurons: 584\nSession: 7 Total neurons: 1156\nSession: 8 Total neurons: 788\nSession: 9 Total neurons: 1172\nSession: 11 Total neurons: 698\nSession: 12 Total neurons: 983\nSession: 13 Total neurons: 756\nSession: 14 Total neurons: 743\nSession: 15 Total neurons: 474\nSession: 17 Total neurons: 1089\nSession: 18 Total neurons: 606\nSession: 21 Total neurons: 646\nSession: 23 Total neurons: 1337\nSession: 26 Total neurons: 563\nSession: 27 Total neurons: 549\nSession: 29 Total neurons: 942\nSession: 30 Total neurons: 977\nSession: 32 Total neurons: 613\nSession: 33 Total neurons: 781\nSession: 34 Total neurons: 795\nSession: 35 Total neurons: 680\nSession: 37 Total neurons: 805\n",
                "stream": "stdout"
              }
            ],
            "_view_module": "@jupyter-widgets/output",
            "_model_module_version": "1.0.0",
            "_view_count": null,
            "_view_module_version": "1.0.0",
            "layout": "IPY_MODEL_3c160be13de94592a8a5e9a50cfb9417",
            "_model_module": "@jupyter-widgets/output"
          }
        },
        "6374c17a81144dc1908a07305e24c4e6": {
          "model_module": "@jupyter-widgets/controls",
          "model_name": "SliderStyleModel",
          "state": {
            "_view_name": "StyleView",
            "handle_color": null,
            "_model_name": "SliderStyleModel",
            "description_width": "",
            "_view_module": "@jupyter-widgets/base",
            "_model_module_version": "1.5.0",
            "_view_count": null,
            "_view_module_version": "1.2.0",
            "_model_module": "@jupyter-widgets/controls"
          }
        },
        "b2a69292383f4a21926f50d38fbb4e87": {
          "model_module": "@jupyter-widgets/base",
          "model_name": "LayoutModel",
          "state": {
            "_view_name": "LayoutView",
            "grid_template_rows": null,
            "right": null,
            "justify_content": null,
            "_view_module": "@jupyter-widgets/base",
            "overflow": null,
            "_model_module_version": "1.2.0",
            "_view_count": null,
            "flex_flow": null,
            "width": null,
            "min_width": null,
            "border": null,
            "align_items": null,
            "bottom": null,
            "_model_module": "@jupyter-widgets/base",
            "top": null,
            "grid_column": null,
            "overflow_y": null,
            "overflow_x": null,
            "grid_auto_flow": null,
            "grid_area": null,
            "grid_template_columns": null,
            "flex": null,
            "_model_name": "LayoutModel",
            "justify_items": null,
            "grid_row": null,
            "max_height": null,
            "align_content": null,
            "visibility": null,
            "align_self": null,
            "height": null,
            "min_height": null,
            "padding": null,
            "grid_auto_rows": null,
            "grid_gap": null,
            "max_width": null,
            "order": null,
            "_view_module_version": "1.2.0",
            "grid_template_areas": null,
            "object_position": null,
            "object_fit": null,
            "grid_auto_columns": null,
            "margin": null,
            "display": null,
            "left": null
          }
        },
        "3c160be13de94592a8a5e9a50cfb9417": {
          "model_module": "@jupyter-widgets/base",
          "model_name": "LayoutModel",
          "state": {
            "_view_name": "LayoutView",
            "grid_template_rows": null,
            "right": null,
            "justify_content": null,
            "_view_module": "@jupyter-widgets/base",
            "overflow": null,
            "_model_module_version": "1.2.0",
            "_view_count": null,
            "flex_flow": null,
            "width": null,
            "min_width": null,
            "border": null,
            "align_items": null,
            "bottom": null,
            "_model_module": "@jupyter-widgets/base",
            "top": null,
            "grid_column": null,
            "overflow_y": null,
            "overflow_x": null,
            "grid_auto_flow": null,
            "grid_area": null,
            "grid_template_columns": null,
            "flex": null,
            "_model_name": "LayoutModel",
            "justify_items": null,
            "grid_row": null,
            "max_height": null,
            "align_content": null,
            "visibility": null,
            "align_self": null,
            "height": null,
            "min_height": null,
            "padding": null,
            "grid_auto_rows": null,
            "grid_gap": null,
            "max_width": null,
            "order": null,
            "_view_module_version": "1.2.0",
            "grid_template_areas": null,
            "object_position": null,
            "object_fit": null,
            "grid_auto_columns": null,
            "margin": null,
            "display": null,
            "left": null
          }
        }
      }
    }
  },
  "cells": [
    {
      "cell_type": "markdown",
      "metadata": {
        "id": "view-in-github",
        "colab_type": "text"
      },
      "source": [
        "<a href=\"https://colab.research.google.com/github/mgonzal1/nma_wombat_connectivy_project/blob/master/connectivity.ipynb\" target=\"_parent\"><img src=\"https://colab.research.google.com/assets/colab-badge.svg\" alt=\"Open In Colab\"/></a>"
      ]
    },
    {
      "cell_type": "code",
      "metadata": {
        "id": "o5E0jLc0DVAC",
        "colab_type": "code",
        "cellView": "form",
        "colab": {}
      },
      "source": [
        "#@title imports and set defaults\n",
        "from matplotlib import rcParams \n",
        "from matplotlib import pyplot as plt\n",
        "from sklearn.linear_model import LinearRegression\n",
        "from sklearn.linear_model import LogisticRegression\n",
        "from sklearn.model_selection import cross_val_score\n",
        "from sklearn.model_selection import KFold\n",
        "from sklearn.model_selection import train_test_split\n",
        "import sklearn.metrics\n",
        "import ipywidgets as widgets \n",
        "import numpy as np\n",
        "from sklearn.linear_model import Ridge\n",
        "from sklearn.linear_model import Lasso\n",
        "from sklearn.model_selection import GridSearchCV\n",
        "from sklearn.metrics import mean_squared_error\n",
        "rcParams['figure.figsize'] = [20, 4]\n",
        "rcParams['font.size'] =15\n",
        "rcParams['axes.spines.top'] = False\n",
        "rcParams['axes.spines.right'] = False\n",
        "rcParams['figure.autolayout'] = True\n",
        "\n",
        "# import warnings filter\n",
        "from warnings import simplefilter\n",
        "# ignore all future warnings\n",
        "simplefilter(action='ignore', category=FutureWarning)\n"
      ],
      "execution_count": null,
      "outputs": []
    },
    {
      "cell_type": "code",
      "metadata": {
        "id": "Pxau-hjxDYpV",
        "colab_type": "code",
        "cellView": "form",
        "colab": {}
      },
      "source": [
        "#@title Data retrieval\n",
        "import os, requests\n",
        "\n",
        "fname = []\n",
        "for j in range(3):\n",
        "  fname.append('steinmetz_part%d.npz'%j)\n",
        "url = [\"https://osf.io/agvxh/download\"]\n",
        "url.append(\"https://osf.io/uv3mw/download\")\n",
        "url.append(\"https://osf.io/ehmw2/download\")\n",
        "\n",
        "for j in range(len(url)):\n",
        "  if not os.path.isfile(fname[j]):\n",
        "    try:\n",
        "      r = requests.get(url[j])\n",
        "    except requests.ConnectionError:\n",
        "      print(\"!!! Failed to download data !!!\")\n",
        "    else:\n",
        "      if r.status_code != requests.codes.ok:\n",
        "        print(\"!!! Failed to download data !!!\")\n",
        "      else:\n",
        "        with open(fname[j], \"wb\") as fid:\n",
        "          fid.write(r.content)\n",
        "\n",
        "\n",
        "\n",
        "alldat = np.array([])\n",
        "for j in range(len(fname)):\n",
        "  alldat = np.hstack((alldat, np.load('steinmetz_part%d.npz'%j, allow_pickle=True)['dat']))"
      ],
      "execution_count": null,
      "outputs": []
    },
    {
      "cell_type": "code",
      "metadata": {
        "id": "zOpjXvjqbDWr",
        "colab_type": "code",
        "cellView": "form",
        "colab": {
          "base_uri": "https://localhost:8080/",
          "height": 491,
          "referenced_widgets": [
            "c8b89f26f6ef4c27a6a39c457a978fa8",
            "7b3e5154470448808d77f215a31d2009",
            "f4e9cb26a3264e36ab662669d6e4db44",
            "1aedeaec2e3444ca9f1545c208d2aa34",
            "6374c17a81144dc1908a07305e24c4e6",
            "b2a69292383f4a21926f50d38fbb4e87",
            "3c160be13de94592a8a5e9a50cfb9417"
          ]
        },
        "outputId": "6d7828e8-6af7-489a-a1e5-a3c9f525780f"
      },
      "source": [
        "#@title Representative session\n",
        "#@markdown As first step, lets choose 1 session to start trainning the model. Let's see which session has more neurons in the areas that we are going to use and how many neurons it has.\n",
        "@widgets.interact\n",
        "def get_representative_session(min_areas=(0,7)):\n",
        "  \"\"\" To simplify the model we are selecting a session recording with most of the regions represented.\n",
        "    This interactive function help us to decide the session based on the minimal regions represented and number of \n",
        "    total neurons recorded.\n",
        "\n",
        "  \"\"\"\n",
        "  print(\"\")\n",
        "  brain_groups = [[\"VISa\", \"VISam\", \"VISl\", \"VISp\", \"VISpm\", \"VISrl\"], # visual cortex\n",
        "                  [\"CL\", \"LD\", \"LGd\", \"LH\", \"LP\", \"MD\", \"MG\", \"PO\", \"POL\", \"PT\", \"RT\", \"SPF\", \"TH\", \"VAL\", \"VPL\", \"VPM\"], # thalamus\n",
        "                  [\"CA\", \"CA1\", \"CA2\", \"CA3\", \"DG\", \"SUB\", \"POST\"], # hippocampal\n",
        "                  [\"ACA\", \"AUD\", \"COA\", \"DP\", \"ILA\", \"MOp\", \"MOs\", \"OLF\", \"ORB\", \"ORBm\", \"PIR\", \"PL\", \"SSp\", \"SSs\", \"RSP\",\" TT\"], # non-visual cortex\n",
        "                  [\"APN\", \"IC\", \"MB\", \"MRN\", \"NB\", \"PAG\", \"RN\", \"SCs\", \"SCm\", \"SCig\", \"SCsg\", \"ZI\"], # midbrain\n",
        "                  [\"ACB\", \"CP\", \"GPe\", \"LS\", \"LSc\", \"LSr\", \"MS\", \"OT\", \"SNr\", \"SI\"], # basal ganglia \n",
        "                  [\"BLA\", \"BMA\", \"EP\", \"EPd\", \"MEA\"] # cortical subplate\n",
        "                  ]\n",
        "  regions = [\"visual ctx\", \"thal\", \"hipp\", \"non-visual ctx\", \"midbrain\", \"basal ganglia\", \"cortical subplate\"]\n",
        "  for i in range (0,38):\n",
        "    session = alldat[i]\n",
        "    brain_areas = set(session['brain_area'])\n",
        "    representative = []\n",
        "    neurons_in_area = []\n",
        "    for group in brain_groups:\n",
        "        representative.append(any(area in brain_areas for area in group))\n",
        "    \n",
        "    if(representative.count(True)>min_areas):\n",
        "      print(\"Session:\" , i, \"Total neurons:\",session['brain_area'].shape[0])\n",
        "      #labels, sizes = np.unique(session['brain_area'], return_counts=True)\n",
        "      #print(sizes)\n",
        "      #fig = plt.figure()\n",
        "      #ax = fig.add_axes([0,0,1,1])\n",
        "      #ax.bar(regions,representative)\n",
        "      #ax.set_title(\"Session {}\".format(i))\n",
        "      #plt.show()\n"
      ],
      "execution_count": null,
      "outputs": [
        {
          "output_type": "display_data",
          "data": {
            "application/vnd.jupyter.widget-view+json": {
              "model_id": "c8b89f26f6ef4c27a6a39c457a978fa8",
              "version_minor": 0,
              "version_major": 2
            },
            "text/plain": [
              "interactive(children=(IntSlider(value=3, description='min_areas', max=7), Output()), _dom_classes=('widget-int…"
            ]
          },
          "metadata": {
            "tags": []
          }
        }
      ]
    },
    {
      "cell_type": "markdown",
      "metadata": {
        "id": "TKZy_fSKrv18",
        "colab_type": "text"
      },
      "source": [
        ""
      ]
    },
    {
      "cell_type": "code",
      "metadata": {
        "id": "ja4driRhVzD6",
        "colab_type": "code",
        "colab": {}
      },
      "source": [
        "# SET DEFAULTS\n",
        "trial_time = 2\n",
        "session=12\n",
        "n_sessions = len(alldat)"
      ],
      "execution_count": null,
      "outputs": []
    },
    {
      "cell_type": "code",
      "metadata": {
        "id": "g2ajfTQyPLdz",
        "colab_type": "code",
        "cellView": "form",
        "colab": {}
      },
      "source": [
        "#@title General functions to get data\n",
        "def filter_no_go_choice(data_set):\n",
        "  \"\"\"\n",
        "  In order to reduce the complexity on the decode model(A3), we are removing the no-go trials \n",
        "  so we kept binary choice (left or right) that fits with a LogisticRegression model\n",
        "   Args: \n",
        "      data_set: Subset of alldat\n",
        "\n",
        "  Returns:\n",
        "   new_data_set (dict): dat['spks']: neurons by trials.\n",
        "                        dat['brain_area']: brain area for each neuron recorded.\n",
        "                        dat['contrast_right']: contrast level for the right stimulus, which is always contralateral to the recorded brain areas.\n",
        "                        dat['contrast_left']: contrast level for left stimulus.\n",
        "                        dat['response']: which side the response was (-1,  1). Choices for the right stimulus are -1.\n",
        "  \"\"\"\n",
        "  new_data_set =  {}\n",
        "  index_trials = data_set['response'].nonzero()\n",
        "  # Remove baseline(first 50 bins) and get FR per neuron\n",
        "  new_data_set.update({\"spks\":(data_set[\"spks\"][:,index_trials[0],50:].sum(axis=2)/trial_time).T})\n",
        "  new_data_set.update({\"brain_area\":data_set[\"brain_area\"]})\n",
        "  new_data_set.update({\"response\": data_set[\"response\"][index_trials]})\n",
        "  new_data_set.update({\"contrast_right\": data_set[\"contrast_right\"][index_trials]})\n",
        "  new_data_set.update({\"contrast_left\": data_set[\"contrast_left\"][index_trials]})\n",
        "  return new_data_set\n",
        "\n",
        "def get_spks_from_area(dat,brain_area):\n",
        "  spks = dat[\"spks\"].T\n",
        "  n_neurons = spks.shape[0]\n",
        "  index_neurons = np.zeros(n_neurons,dtype=bool)\n",
        "  for neuron in range(n_neurons):\n",
        "    index_neurons[neuron] = dat['brain_area'][neuron] in brain_area\n",
        "\n",
        "  area_data = (spks[index_neurons,:].T)\n",
        "  return area_data, index_neurons\n",
        "\n",
        "def get_visual_ctx(data_set):\n",
        "  visual_ctx = [\"VISa\", \"VISam\", \"VISl\", \"VISp\", \"VISpm\", \"VISrl\"]\n",
        "  visual_data, _ = get_spks_from_area(data_set, visual_ctx)\n",
        "  return visual_data\n",
        "\n",
        "def get_motor_ctx(data_set):\n",
        "  motor_ctx = [\"CL\", \"LD\", \"LGd\", \"LH\", \"LP\", \"MD\", \"MG\", \"PO\", \"POL\", \"PT\", \"RT\", \"SPF\", \"TH\", \"VAL\", \"VPL\", \"VPM\"]\n",
        "  motor_data, _ = get_spks_from_area(data_set, motor_ctx)\n",
        "  return motor_data\n",
        "\n",
        "def get_stimulus(data_set):\n",
        "  \"\"\"\n",
        "   Args: \n",
        "      data_set: (map) Subset of alldat\n",
        "      \n",
        "   Returns:\n",
        "      stims[nTrials x 3]  bias: constant with ones\n",
        "                          stim_left: contrast level for the right stimulus.\n",
        "                          stim_right: contrast level for left stimulus.\n",
        "  \"\"\"\n",
        "\n",
        "\n",
        "  stims = data_set['contrast_left'], data_set['contrast_right']\n",
        "  stims = np.array(stims).T\n",
        "  n_trials = stims.shape[0]\n",
        "  stims = np.column_stack((np.ones(n_trials),stims))\n",
        "  return stims\n",
        "\n",
        "def get_response(data_set):\n",
        "  \"\"\"\n",
        "   Args: \n",
        "      data_set: Subset of alldat\n",
        "\n",
        "   Returns:\n",
        "        np.array: which side the response was (-1, 0, 1). Choices for the right stimulus are -1.\n",
        "  \"\"\"\n",
        "  response =  np.array(data_set['response'])\n",
        "  return response\n",
        "\n",
        "def get_binary_response(data_set):\n",
        "  \"\"\"\n",
        "   To simplify the model we ares going to use a binary response instead of the 3 possible values: left, no-action, right\n",
        "   to true or false comparing the stimulus to the expected actions. \n",
        "\n",
        "   Args: \n",
        "      data_set: Subset of alldat\n",
        "\n",
        "   Returns:\n",
        "        binary (np.array boolean) : Returns True or False\n",
        "  \"\"\"\n",
        "  vis_left, vis_right = [data_set[\"stims\"][:,1], data_set[\"stims\"][:,2]]\n",
        "  response = get_response(data_set)\n",
        "  binary_response = np.sign(response)==np.sign(vis_left-vis_right)\n",
        "  return binary_response\n",
        "\n",
        "def split_validation_set(data_set):\n",
        "  \"\"\"\n",
        "  Get a subset of alldat for validation purposes. This should be ~5%-10% of all the data.\n",
        "\n",
        "\n",
        "  Returns:\n",
        "   train_set (dict): dat['spks']: neurons by trials.\n",
        "                     dat['brain_area']: brain area for each neuron recorded.\n",
        "                     dat['stims']: contrast level for the right stimulus, which is always contralateral to the recorded brain areas.\n",
        "                     dat['response']: which side the response was (-1,  1). Choices for the right stimulus are -1.\n",
        "  \"\"\"\n",
        "\n",
        "  stims=get_stimulus(data_set)\n",
        "  response = get_response(data_set)\n",
        "  spk= data_set['spks']\n",
        "  # # create training and testing vars\n",
        "  stim_train, stim_test, spk_train, spk_test, response_train, response_test = train_test_split(stims, spk, response, test_size=0.1)\n",
        "  train_set = {\n",
        "      \"spks\": spk_train, \n",
        "      \"stims\": stim_train, \n",
        "      \"response\": response_train, \n",
        "      \"brain_area\":data_set['brain_area']\n",
        "      }\n",
        "  validation_set = {\n",
        "      \"spks\": spk_test,\n",
        "      \"stims\": stim_test, \n",
        "      \"response\": response_test, \n",
        "      \"brain_area\":data_set['brain_area']\n",
        "      }\n",
        "  return train_set, validation_set\n",
        "\n",
        "# Draft of sigmoide calculation\n",
        "def sigmoid(z):\n",
        "  return 1 / (1 + np.exp(-z))"
      ],
      "execution_count": null,
      "outputs": []
    },
    {
      "cell_type": "code",
      "metadata": {
        "id": "yfhykX_RKnhg",
        "colab_type": "code",
        "colab": {}
      },
      "source": [
        "# Get train and validation data\n",
        "data_set = filter_no_go_choice(alldat[session])\n",
        "data_set, val_set = split_validation_set(data_set)\n",
        "#train_set (dict): dat['spks']: neurons by trials.\n",
        "#                  dat['brain_area']: brain area for each neuron recorded.\n",
        "#                  dat['stims']: contrast level for the right stimulus, which is always contralateral to the recorded brain areas.\n",
        "#                  dat['response']: which side the response was (-1,  1). Choices for the right stimulus are -1."
      ],
      "execution_count": null,
      "outputs": []
    },
    {
      "cell_type": "markdown",
      "metadata": {
        "id": "6kGWZ7tZMHCK",
        "colab_type": "text"
      },
      "source": [
        "# MODEL 1:  Encodig from visual stimulus\n",
        "\n",
        "Using Multiple Linear Regresion:\n",
        "\n",
        "\n",
        "\\begin{align}\n",
        "y = \\theta_0 + \\theta_1 x_1 + \\theta_1 x_2 + ... +\\theta_d x_d + \\epsilon\n",
        "\\end{align}\n",
        "\n",
        "where $\\theta_0$ is the intercept and $d$ is the number of features.\n",
        "\n",
        "\n",
        "Testing with k-fold cross-validation \n",
        "\n",
        "**Metrics:**\n",
        "*   Visual stimulus [nTrials x 3] : Contrast on left and right\n",
        "\n",
        "\\begin{align}\n",
        "\\mathbf{X} = \n",
        "\\begin{bmatrix}\n",
        "1 & x_{1,1} & x_{1,2}  \\\\\n",
        "1 & x_{2,1} & x_{2,2} \\\\\n",
        "\\vdots & \\vdots & \\vdots \\\\\n",
        "1 & x_{n,1} & x_{n,2}\n",
        "\\end{bmatrix}\n",
        "\\end{align}\n",
        "\n",
        "\n",
        "*   Visual neurons matrix [nTrials x Neurons]:  neurons firing rate on visual area\n",
        "\n",
        "\\begin{align}\n",
        "\\mathbf{Y} = \n",
        "\\begin{bmatrix}\n",
        "y_{1,1} & y_{1,2} & \\dots & y_{1,m}  \\\\\n",
        "y_{2,1} & y_{2,2}  & \\dots & y_{2,m} \\\\\n",
        "\\vdots & \\vdots  & \\dots & \\vdots\\\\\n",
        "y_{n,1} & y_{n,2} & \\dots  &  y_{n,m}\n",
        "\\end{bmatrix}\n",
        "\\end{align}\n",
        "\n",
        "\n",
        "\n",
        "**Returns**\n",
        "*  A1 matrix [3x ntrials]\n",
        "\n",
        "\\begin{align}\n",
        "\\mathbf{A1} = \n",
        "\\begin{bmatrix}\n",
        "\\theta_{1,1} & \\theta_{1,2}& \\dots \\ & \\theta_{1,m}\\\\\n",
        "\\theta_{2,1} & \\theta_{2,2}& \\dots & \\theta_{2,m}\\\\\n",
        "\\theta_{3,1} & \\theta_{3,2}& \\dots & \\theta_{3,m}\\\\\n",
        "\\end{bmatrix}\n",
        "\\end{align}\n",
        "\n",
        "\n",
        "\n"
      ]
    },
    {
      "cell_type": "code",
      "metadata": {
        "id": "x9TFVNAGcVGw",
        "colab_type": "code",
        "cellView": "both",
        "colab": {
          "base_uri": "https://localhost:8080/",
          "height": 51
        },
        "outputId": "af440079-e0f0-443f-c939-e76489e36d9a"
      },
      "source": [
        "# Get data\n",
        "visual_dat = get_visual_ctx(data_set)\n",
        "stim = data_set[\"stims\"]\n",
        "\n",
        "# Model Linear Regression\n",
        "model = LinearRegression(fit_intercept=False).fit(stim, visual_dat) \n",
        "\n",
        "A1 = model.coef_.T\n",
        "visual_dat_hat = model.predict(stim)\n",
        "visual_dat_hat = stim @ A1\n",
        "\n",
        "#MSE and R2\n",
        "mse = np.mean( (visual_dat-visual_dat_hat)**2 )\n",
        "r2_metrics =  sklearn.metrics.r2_score(visual_dat,visual_dat_hat)\n",
        "\n",
        "print(\"R2: {}\".format(r2_metrics))\n",
        "print(\"MSE: {}\".format(mse))\n",
        " "
      ],
      "execution_count": null,
      "outputs": [
        {
          "output_type": "stream",
          "text": [
            "R2: 0.03761805821337102\n",
            "MSE: 4.408256845548865\n"
          ],
          "name": "stdout"
        }
      ]
    },
    {
      "cell_type": "code",
      "metadata": {
        "id": "98g6Mr1FNCG7",
        "colab_type": "code",
        "colab": {
          "base_uri": "https://localhost:8080/",
          "height": 286
        },
        "outputId": "31139446-d153-4222-ddf6-6c28d9ec3dac"
      },
      "source": [
        "# plt.scatter(visual_dat.flatten(), visual_dat_hat.flatten()) \n",
        "plt.scatter(visual_dat,visual_dat_hat, alpha=0.3)\n",
        "plt.title(\"Visual reponses, y vs $\\hat y$ \")\n",
        "plt.xlabel(\"Visual responses, y\")\n",
        "plt.ylabel(\"Visual responses, $\\hat y$\")\n",
        "plt.show()"
      ],
      "execution_count": null,
      "outputs": [
        {
          "output_type": "display_data",
          "data": {
            "image/png": "[encoded data removed]",
            "text/plain": [
              "<Figure size 1440x288 with 1 Axes>"
            ]
          },
          "metadata": {
            "tags": [],
            "needs_background": "light"
          }
        }
      ]
    },
    {
      "cell_type": "markdown",
      "metadata": {
        "id": "tNoDP9QGXK8y",
        "colab_type": "text"
      },
      "source": [
        "## Analize correlations per neuron\n",
        "\n",
        "*   Calculate Root MSE \n",
        "\n",
        " \\begin{align}\n",
        " RMSE = \\sqrt{\\sum_{i=1}^N(y_i - \\hat y_i)^2}\\\\\n",
        "\\end{align}\n",
        "\n",
        "* RMSE normalized per Neuron\n",
        "\n",
        "\\begin{align}\n",
        "nRMSE = \\frac{RMSE}{\\bar y}\n",
        "\\end{align}\n",
        "\n",
        "\n",
        "*   Calculate $R^2$ per Neuron\n",
        "\n",
        "\n",
        "\\begin{align}\n",
        "R^2 = \\frac{\\sum_{i=1}^n(\\hat y_i - \\ y)^2}{\\sum_{i=1}^n (y_i - \\ \\bar{y})^2}\n",
        "\\end{align}\n",
        "\n"
      ]
    },
    {
      "cell_type": "code",
      "metadata": {
        "id": "-aEgVtp-rNp7",
        "colab_type": "code",
        "colab": {
          "base_uri": "https://localhost:8080/",
          "height": 283
        },
        "outputId": "e19c6488-458d-4011-c036-ea48f48cf963"
      },
      "source": [
        "n_visual_dat = np.zeros(visual_dat.shape[1])\n",
        "n_visual_dat_hat = np.zeros(visual_dat.shape[1])\n",
        "n_mse = np.zeros(visual_dat.shape[1])\n",
        "n_r2_metrics = np.zeros(visual_dat.shape[1])\n",
        "n_mse_norm = np.zeros(visual_dat.shape[1])\n",
        "\n",
        "for j in range(visual_dat.shape[1]):\n",
        "\n",
        "  n_visual_dat =visual_dat[:,j]\n",
        "\n",
        "  model_n = LinearRegression(fit_intercept=False).fit(stim, n_visual_dat)\n",
        "\n",
        "  A1_n = model_n.coef_.T\n",
        "\n",
        "  n_visual_dat_hat = stim @ A1_n\n",
        "  n_visual_dat_mean= np.mean(n_visual_dat)\n",
        "  \n",
        "  n_mse [j]= np.mean( (n_visual_dat-n_visual_dat_hat)**2 )\n",
        "  n_mse_norm [j]= n_mse [j]/ n_visual_dat_mean\n",
        "  a=np.sum((n_visual_dat_hat-n_visual_dat)**2)\n",
        "  b=np.sum((n_visual_dat-n_visual_dat_mean)**2)\n",
        "\n",
        "  \n",
        "  n_r2_metrics [j] = 1 - (a/b)\n",
        "\n",
        "plt.scatter(n_mse_norm,n_r2_metrics,alpha=0.4)\n",
        "plt.title(\"RMSE vs $R^2$ per Neuron\")\n",
        "plt.xlabel(\"RMSE\")\n",
        "plt.ylabel(\"$R^2$\")\n",
        "plt.show()"
      ],
      "execution_count": null,
      "outputs": [
        {
          "output_type": "display_data",
          "data": {
            "image/png": "[encoded data removed]",
            "text/plain": [
              "<Figure size 1440x288 with 1 Axes>"
            ]
          },
          "metadata": {
            "tags": [],
            "needs_background": "light"
          }
        }
      ]
    },
    {
      "cell_type": "markdown",
      "metadata": {
        "id": "kO1TAjir4yxf",
        "colab_type": "text"
      },
      "source": [
        "#Cross-validation: Testing with k-fold \n",
        "\n",
        "from Scikit-learn (https://scikit-learn.org/stable/modules/cross_validation.html)\n",
        "\n",
        "![Diagram from Sklearn](https://scikit-learn.org/stable/_images/grid_search_cross_validation.png ) \n"
      ]
    },
    {
      "cell_type": "code",
      "metadata": {
        "id": "abqrvhzXadyz",
        "colab_type": "code",
        "cellView": "form",
        "colab": {
          "base_uri": "https://localhost:8080/",
          "height": 215
        },
        "outputId": "d6815e6d-88c1-476a-88b3-eb7b1d701472"
      },
      "source": [
        "#@title Cross-validation, cv=8\n",
        "num_splits =8\n",
        "accuracies = (cross_val_score(model, stim, visual_dat, cv=8))\n",
        "\n",
        "f, ax = plt.subplots(figsize=(8, 3))\n",
        "ax.boxplot(accuracies, vert=False, widths=.7)\n",
        "ax.scatter(accuracies, np.ones(num_splits))\n",
        "ax.set(\n",
        "  xlabel=\"Accuracy\",\n",
        "  yticks=[],\n",
        "  title=f\"Average Accuracy: {np.mean(accuracies):.3f}\"\n",
        ")\n",
        "ax.spines[\"left\"].set_visible(False)"
      ],
      "execution_count": null,
      "outputs": [
        {
          "output_type": "display_data",
          "data": {
            "image/png": "[encoded data removed]",
            "text/plain": [
              "<Figure size 576x216 with 1 Axes>"
            ]
          },
          "metadata": {
            "tags": [],
            "needs_background": "light"
          }
        }
      ]
    },
    {
      "cell_type": "markdown",
      "metadata": {
        "id": "FolqjLF4YBIS",
        "colab_type": "text"
      },
      "source": [
        "# MODEL2: Connectivity Matrix ,  The black box\n",
        "\n",
        "We try different models for our \"black box\" and we did some comparissons among them. \n",
        "\n",
        "*Spoiler alert, all were bad!*\n",
        "\n",
        "For future work we need to understand better the correleation between this areas and probabaly make a better decision on the brain areas . \n",
        " \n",
        "##Models:\n",
        "* Ridge\n",
        "* Linear Regression\n",
        "* Neural Network\n",
        "\n",
        "**Metrics:**\n",
        "\n",
        "* Visual data hat `[nTrials x nNeurons_visual]` :  predicted by the encoding model 1. Spikes rates of neurons involved in visual function.\n",
        "\n",
        "\\begin{align}\n",
        "\\mathbf{\\hat Y} = \n",
        "\\begin{bmatrix}\n",
        "y_{1,1} & y_{1,2} & \\dots & y_{1,m}  \\\\\n",
        "y_{2,1} & y_{2,2}  & \\dots & y_{2,m} \\\\\n",
        "\\vdots & \\vdots  & \\dots & \\vdots\\\\\n",
        "y_{n,1} & y_{n,2} & \\dots  &  y_{n,m}\n",
        "\\end{bmatrix}\n",
        "\\end{align}\n",
        "\n",
        "* Motor data hat `[nTrials x nNeurons_motor]`: predicted by the model 3. Spikes rates of neurons involved in motor function.\n",
        "\n",
        "\\begin{align}\n",
        "\\mathbf{\\hat M} = \n",
        "\\begin{bmatrix}\n",
        "y_{1,1} & y_{1,2} & \\dots & y_{1,m}  \\\\\n",
        "y_{2,1} & y_{2,2}  & \\dots & y_{2,m} \\\\\n",
        "\\vdots & \\vdots  & \\dots & \\vdots\\\\\n",
        "y_{n,1} & y_{n,2} & \\dots  &  y_{n,m}\n",
        "\\end{bmatrix}\n",
        "\\end{align}\n",
        "\n",
        "**Returns**:\n",
        "* A2 `[nNeurons_visual , nNeurons_motor]`: Weight  matrix of connectivity model (visual area to motor area)\n",
        "\n",
        "\n",
        "\\begin{align}\n",
        "\\mathbf{A2} = \n",
        "\\begin{bmatrix}\n",
        "\\theta_{1,1} & \\theta_{1,2}& \\dots \\ & \\theta_{1,m}\\\\\n",
        "\\theta_{2,1} & \\theta_{2,2}& \\dots & \\theta_{2,m}\\\\\n",
        "\\vdots & \\vdots  & \\dots & \\vdots\\\\\n",
        "\\theta_{n,1} & \\theta_{n,2}& \\dots & \\theta_{n,m}\\\\\n",
        "\\end{bmatrix}\n",
        "\\end{align}\n",
        "\n",
        "\n"
      ]
    },
    {
      "cell_type": "markdown",
      "metadata": {
        "id": "NEDL0rQzgtA4",
        "colab_type": "text"
      },
      "source": [
        "### Model Ridge (aka the first try!)\n",
        "\n",
        "Regularization with ridge penalty (L2).\n",
        "\n",
        "$$-\\log\\mathcal{L}'(\\theta | X, y)=\n",
        "-\\log\\mathcal{L}(\\theta | X, y) +\\frac\\beta2\\sum_i\\theta_i^2,\n",
        "$$\n",
        "\n"
      ]
    },
    {
      "cell_type": "code",
      "metadata": {
        "id": "KoKQv-eZ8j2g",
        "colab_type": "code",
        "cellView": "both",
        "colab": {
          "base_uri": "https://localhost:8080/",
          "height": 51
        },
        "outputId": "3e7d71d3-f304-4edc-81df-a7b106ce8154"
      },
      "source": [
        "# obtains motor areas matrix and sets model\n",
        "motor_dat = get_motor_ctx(data_set)\n",
        "ridge = Ridge(alpha=1,fit_intercept=False)\n",
        "# obtains weight matrix A2\n",
        "ridge.fit(visual_dat_hat, motor_dat) \n",
        "A2 = ridge.coef_.T\n",
        "# obtains prediction\n",
        "motor_dat_hat = visual_dat_hat@A2\n",
        "\n",
        "# MSE & R2\n",
        "print(\"ridge MSE:\", mean_squared_error(motor_dat, motor_dat_hat))\n",
        "print(\"ridge score:\",ridge.score(visual_dat_hat, motor_dat))\n"
      ],
      "execution_count": null,
      "outputs": [
        {
          "output_type": "stream",
          "text": [
            "ridge MSE: 13.55163412305885\n",
            "ridge score: 0.07314190062110332\n"
          ],
          "name": "stdout"
        }
      ]
    },
    {
      "cell_type": "code",
      "metadata": {
        "id": "KnjOO-QEhdMX",
        "colab_type": "code",
        "cellView": "form",
        "colab": {
          "base_uri": "https://localhost:8080/",
          "height": 215
        },
        "outputId": "23092f1d-6eb2-4a2d-911d-dec31384b350"
      },
      "source": [
        "#@markdown Cross-validation, cv=8\n",
        "num_splits =8\n",
        "accuracies_ridge = (cross_val_score(ridge, visual_dat_hat, motor_dat, cv=8))\n",
        "\n",
        "f, ax = plt.subplots(figsize=(8, 3))\n",
        "ax.boxplot(accuracies_ridge, vert=False, widths=.7)\n",
        "ax.scatter(accuracies_ridge, np.ones(num_splits))\n",
        "ax.set(\n",
        "  xlabel=\"R2\",\n",
        "  yticks=[],\n",
        "  title=f\"Average R2: {np.mean(accuracies_ridge):.3f}\"\n",
        ")\n",
        "ax.spines[\"left\"].set_visible(False)"
      ],
      "execution_count": null,
      "outputs": [
        {
          "output_type": "display_data",
          "data": {
            "image/png": "[encoded data removed]",
            "text/plain": [
              "<Figure size 576x216 with 1 Axes>"
            ]
          },
          "metadata": {
            "tags": [],
            "needs_background": "light"
          }
        }
      ]
    },
    {
      "cell_type": "markdown",
      "metadata": {
        "id": "K1B2PApljk3d",
        "colab_type": "text"
      },
      "source": [
        "## Model Linear Regression \n",
        "\n",
        "## TODO: \n",
        "\n",
        "\\begin{align}\n",
        "y = \\theta_0 + \\theta_1 x_1 + \\theta_1 x_2 + ... +\\theta_d x_d + \\epsilon\n",
        "\\end{align}"
      ]
    },
    {
      "cell_type": "code",
      "metadata": {
        "id": "OvsNgGHti1VL",
        "colab_type": "code",
        "cellView": "form",
        "colab": {
          "base_uri": "https://localhost:8080/",
          "height": 51
        },
        "outputId": "eb4d7ace-86f3-4195-f615-1885bb2689f6"
      },
      "source": [
        "#@markdown  Linear Regression \n",
        "# obtains motor areas matrix and sets model\n",
        "model_A2_lin = LinearRegression(fit_intercept=False).fit(visual_dat_hat, motor_dat) \n",
        "\n",
        "A2_lin = model_A2_lin.coef_.T\n",
        "\n",
        "motor_dat_hat_lin = model_A2_lin.predict(visual_dat_hat)\n",
        "\n",
        "mse_A2_lin = mean_squared_error (motor_dat, motor_dat_hat_lin)\n",
        "\n",
        "r2_metrics_A2_lin =  sklearn.metrics.r2_score(motor_dat_hat,motor_dat_hat_lin)\n",
        "\n",
        "print(\"Linear MSE:\", mse_A2_lin) \n",
        "print(\"Linear R2:\",r2_metrics_A2_lin) "
      ],
      "execution_count": null,
      "outputs": [
        {
          "output_type": "stream",
          "text": [
            "Linear MSE: 13.551631502315674\n",
            "Linear R2: 0.9999957390427676\n"
          ],
          "name": "stdout"
        }
      ]
    },
    {
      "cell_type": "code",
      "metadata": {
        "id": "1zHh-n9JlpLt",
        "colab_type": "code",
        "cellView": "form",
        "colab": {
          "base_uri": "https://localhost:8080/",
          "height": 215
        },
        "outputId": "772c6c71-0a33-4b77-adb4-3f1febf38dba"
      },
      "source": [
        "#@markdown Cross-validation, cv=8\n",
        "num_splits =8\n",
        "accuracies_A2_lin = (cross_val_score(model_A2_lin, visual_dat_hat, motor_dat_hat, cv=8))\n",
        "\n",
        "f, ax = plt.subplots(figsize=(8, 3))\n",
        "ax.boxplot(accuracies_A2_lin, vert=False, widths=.7)\n",
        "ax.scatter(accuracies_A2_lin, np.ones(num_splits))\n",
        "ax.set(\n",
        "  xlabel=\"Accuracy\",\n",
        "  yticks=[],\n",
        "  title=f\"Average Accurary: {np.mean(accuracies_A2_lin):.3f}\"\n",
        ")\n",
        "ax.spines[\"left\"].set_visible(False)"
      ],
      "execution_count": null,
      "outputs": [
        {
          "output_type": "display_data",
          "data": {
            "image/png": "[encoded data removed]",
            "text/plain": [
              "<Figure size 576x216 with 1 Axes>"
            ]
          },
          "metadata": {
            "tags": [],
            "needs_background": "light"
          }
        }
      ]
    },
    {
      "cell_type": "markdown",
      "metadata": {
        "id": "r1KLD6xRmfqH",
        "colab_type": "text"
      },
      "source": [
        "## Neural Network (third time lucky?)"
      ]
    },
    {
      "cell_type": "code",
      "metadata": {
        "id": "P0oe94rtmq4A",
        "colab_type": "code",
        "cellView": "form",
        "colab": {
          "base_uri": "https://localhost:8080/",
          "height": 372
        },
        "outputId": "e3294891-e60c-43bd-8909-408819a83bd7"
      },
      "source": [
        "#@markdown DeepNet\n",
        "import torch\n",
        "from torch import nn\n",
        "from torch import optim\n",
        "class DeepNet(nn.Module):\n",
        "  \"\"\"Deep Network with one hidden layer\n",
        "\n",
        "  Args:\n",
        "    n_inputs (int): number of input units\n",
        "    n_hidden (int): number of units in hidden layer\n",
        "\n",
        "  Attributes:\n",
        "    in_layer (nn.Linear): weights and biases of input layer\n",
        "    out_layer (nn.Linear): weights and biases of output layer\n",
        "\n",
        "  \"\"\"\n",
        "\n",
        "  def __init__(self, n_inputs, n_hidden, n_output):\n",
        "    super().__init__()  # needed to invoke the properties of the parent class nn.Module\n",
        "    self.in_layer = nn.Linear(n_inputs, n_hidden) # neural activity --> hidden units\n",
        "    self.out_layer = nn.Linear(n_hidden, n_output) # hidden units --> output\n",
        "\n",
        "  def forward(self, r):\n",
        "    \"\"\"Decode stimulus orientation from neural responses\n",
        "\n",
        "    Args:\n",
        "      r (torch.Tensor): vector of neural responses to decode, must be of\n",
        "        length n_inputs. Can also be a tensor of shape n_stimuli x n_inputs,\n",
        "        containing n_stimuli vectors of neural responses\n",
        "\n",
        "    Returns:\n",
        "      torch.Tensor: network outputs for each input provided in r. If\n",
        "        r is a vector, then y is a 1D tensor of length 1. If r is a 2D\n",
        "        tensor then y is a 2D tensor of shape n_stimuli x 1.\n",
        "\n",
        "    \"\"\"\n",
        "    h = torch.relu(self.in_layer(r))\n",
        "    #h = self.in_layer(r)  # hidden representation\n",
        "    y = self.out_layer(h)\n",
        "    return y \n",
        "\n",
        "def train(net, loss_fn, train_data, train_labels, n_iter=3000, learning_rate=1e-4):\n",
        "\n",
        "  # Initialize PyTorch SGD optimizer\n",
        "  optimizer = optim.SGD(net.parameters(), lr=learning_rate)\n",
        "\n",
        "  # Placeholder to save the loss at each iteration\n",
        "  track_loss = []\n",
        "\n",
        "  # Loop over epochs (cf. appendix)\n",
        "  for i in range(n_iter):\n",
        "\n",
        "    # Evaluate loss using loss_fn\n",
        "    out = net(train_data)  # compute network output from inputs in train_data\n",
        "    loss = loss_fn(out, train_labels)  # evaluate loss function\n",
        "\n",
        "    # Compute gradients\n",
        "    optimizer.zero_grad()\n",
        "    loss.backward()\n",
        "\n",
        "    # Update weights\n",
        "    optimizer.step()\n",
        "\n",
        "    # Store current value of loss\n",
        "    track_loss.append(loss.item())  # .item() needed to transform the tensor output of loss_fn to a scalar\n",
        "\n",
        "    # Track progress\n",
        "    if (i + 1) % (n_iter // 5) == 0:\n",
        "      print(f'iteration {i + 1}/{n_iter} | loss: {loss.item():.3f}')\n",
        "\n",
        "  return track_loss\n",
        "\n",
        "  # Set random seeds for reproducibility\n",
        "np.random.seed(1)\n",
        "torch.manual_seed(1)\n",
        "\n",
        "# Vamos de 34 \"neuronas\" a que expliquen la actividad de \"150\" neuronas durante 219 trials\n",
        "# Get total of neurons\n",
        "_ , n_motor = motor_dat.shape\n",
        "_, n_visual = visual_dat_hat.shape\n",
        "\n",
        "motor_tensor = torch.tensor(motor_dat, dtype=torch.float32) # Response\n",
        "\n",
        "#.unsqueeze(1)  # add singleton dimension to make a column vector <-- necesitamos esto?\n",
        "visual_hat_tensor = torch.tensor(visual_dat_hat, dtype=torch.float32) # Stimulus \n",
        "\n",
        "# Initialize network\n",
        "net = DeepNet(n_visual, 20, n_motor)\n",
        "\n",
        "# Initialize built-in PyTorch MSE loss function\n",
        "loss_fn = nn.MSELoss()\n",
        "\n",
        "# Run GD on data\n",
        "train_loss = train(net, loss_fn, visual_hat_tensor, motor_tensor )\n",
        "\n",
        "# Plot the training loss over iterations of GD\n",
        "plt.plot(train_loss)\n",
        "plt.xlim([0, None])#\n",
        "plt.ylim([0, None])\n",
        "plt.xlabel('iterations of gradient descent')\n",
        "plt.ylabel('mean squared error')\n",
        "plt.show()  "
      ],
      "execution_count": null,
      "outputs": [
        {
          "output_type": "stream",
          "text": [
            "iteration 600/3000 | loss: 67.783\n",
            "iteration 1200/3000 | loss: 26.201\n",
            "iteration 1800/3000 | loss: 15.096\n",
            "iteration 2400/3000 | loss: 14.525\n",
            "iteration 3000/3000 | loss: 14.496\n"
          ],
          "name": "stdout"
        },
        {
          "output_type": "display_data",
          "data": {
            "image/png": "[encoded data removed]",
            "text/plain": [
              "<Figure size 1440x288 with 1 Axes>"
            ]
          },
          "metadata": {
            "tags": [],
            "needs_background": "light"
          }
        }
      ]
    },
    {
      "cell_type": "markdown",
      "metadata": {
        "id": "yjIBZIjVo_qE",
        "colab_type": "text"
      },
      "source": [
        "# MODEL 3:  Decoding from motor \n",
        "Obtaining predicted motor that will be used on Model2\n",
        "\n",
        "Logistic Regression \n",
        "\n",
        "\n",
        "\n",
        "**Metrics:**\n",
        "*   Motor matrix `[nTrials x nNeurons]`: spikes rates of neurons from areas related to motor function. \n",
        "\n",
        "\\begin{align}\n",
        "\\mathbf{M} = \n",
        "\\begin{bmatrix}\n",
        "y_{1,1} & y_{1,2} & \\dots & y_{1,m}  \\\\\n",
        "y_{2,1} & y_{2,2}  & \\dots & y_{2,m} \\\\\n",
        "\\vdots & \\vdots  & \\dots & \\vdots\\\\\n",
        "y_{n,1} & y_{n,2} & \\dots  &  y_{n,m}\n",
        "\\end{bmatrix}\n",
        "\\end{align}\n",
        "\n",
        "\n",
        "*   Choice `[nTrials]`: 2 categories.  Task of turning a wheel to the left or to the rigth. *(NoGo trials were ignored for simplicity)*\n",
        "\n",
        "\\begin{align}\n",
        "\\mathbf{Choice} = \n",
        "\\begin{bmatrix}\n",
        "x_{1,1} & x_{1,2} & \\dots & x_{1,m}  \\\\\n",
        "\\end{bmatrix}\n",
        "\\end{align}\n",
        "\n",
        "\n",
        "\n",
        "**Returns**\n",
        "* A3 `[nNeurons]`: Weight vector\n",
        "\n",
        "\\begin{align}\n",
        "\\mathbf{A3} = \n",
        "\\begin{bmatrix}\n",
        "\\theta_{1,1} & \\theta_{1,2}& \\dots \\ & \\theta_{1,m}\\\\\n",
        "\\end{bmatrix}\n",
        "\\end{align}\n",
        "\n",
        "* Motor matrix hat `[nTrials x nNeurons]`: predicted spikes rates of neurons from areas related to motor function.\n",
        "\n",
        "\\begin{align}\n",
        "\\mathbf{\\hat M} = \n",
        "\\begin{bmatrix}\n",
        "y_{1,1} & y_{1,2} & \\dots & y_{1,m}  \\\\\n",
        "y_{2,1} & y_{2,2}  & \\dots & y_{2,m} \\\\\n",
        "\\vdots & \\vdots  & \\dots & \\vdots\\\\\n",
        "y_{n,1} & y_{n,2} & \\dots  &  y_{n,m}\n",
        "\\end{bmatrix}\n",
        "\\end{align}\n"
      ]
    },
    {
      "cell_type": "code",
      "metadata": {
        "id": "7kMkaM7KnaN-",
        "colab_type": "code",
        "colab": {
          "base_uri": "https://localhost:8080/",
          "height": 34
        },
        "outputId": "b2d99950-9a7c-4422-dc01-59fe5c0eacf8"
      },
      "source": [
        "# obtenemos matrices 'y' y 'x'\n",
        "motor_dat = get_motor_ctx(data_set)\n",
        "choice = data_set[\"response\"]>0\n",
        "#definimos el modelo & ajustamos los datos\n",
        "model_A3 = LogisticRegression(fit_intercept=False,max_iter=5000).fit(motor_dat, choice)\n",
        "A3 = model_A3.coef_.T\n",
        "choice_hat = (sigmoid(motor_dat @ A3)>0.5).flatten()\n",
        "#choice_hat = model_A3.predict(motor_dat)\n",
        "acc = np.mean(choice==choice_hat)\n",
        "print(\"ACC: {}\".format(acc))\n",
        "#print(\"MSE: {}\".format(mse_A3))"
      ],
      "execution_count": null,
      "outputs": [
        {
          "output_type": "stream",
          "text": [
            "ACC: 1.0\n"
          ],
          "name": "stdout"
        }
      ]
    },
    {
      "cell_type": "markdown",
      "metadata": {
        "id": "Y717Zs5PYPBA",
        "colab_type": "text"
      },
      "source": [
        "# Integrated Model\n",
        "$$ \\hat{choice} = sigmoid(stim A1 A2 A3) $$\n",
        "\n",
        "**Metrics**\n",
        "* stim `[nTrials x 3]` :  Visual stimulus, contrast on left and right\n",
        "\n",
        "\\begin{align}\n",
        "\\mathbf{X} = \n",
        "\\begin{bmatrix}\n",
        "1 & x_{1,1} & x_{1,2}  \\\\\n",
        "1 & x_{2,1} & x_{2,2} \\\\\n",
        "\\vdots & \\vdots & \\vdots \\\\\n",
        "1 & x_{n,1} & x_{n,2}\n",
        "\\end{bmatrix}\n",
        "\\end{align}\n",
        "\n",
        "\n",
        "* A1 `[3 x nNeurons_visual]` : Weight matrix of encoding model (visual stimulus to visual area)\n",
        "\n",
        "\\begin{align}\n",
        "\\mathbf{A1} = \n",
        "\\begin{bmatrix}\n",
        "\\theta_{1,1} & \\theta_{1,2}& \\dots \\ & \\theta_{1,m}\\\\\n",
        "\\theta_{2,1} & \\theta_{2,2}& \\dots & \\theta_{2,m}\\\\\n",
        "\\theta_{3,1} & \\theta_{3,2}& \\dots & \\theta_{3,m}\\\\\n",
        "\\end{bmatrix}\n",
        "\\end{align}\n",
        "\n",
        "\n",
        "* A2 `[nNeurons_visual , nNeurons_motor]`: Weight  matrix of connectivity model (visual area to motor area)\n",
        "\n",
        "\\begin{align}\n",
        "\\mathbf{A2} = \n",
        "\\begin{bmatrix}\n",
        "\\theta_{1,1} & \\theta_{1,2}& \\dots \\ & \\theta_{1,m}\\\\\n",
        "\\theta_{2,1} & \\theta_{2,2}& \\dots & \\theta_{2,m}\\\\\n",
        "\\vdots & \\vdots  & \\dots & \\vdots\\\\\n",
        "\\theta_{n,1} & \\theta_{n,2}& \\dots & \\theta_{n,m}\\\\\n",
        "\\end{bmatrix}\n",
        "\\end{align}\n",
        "\n",
        "\n",
        "* A3 `[nNeurons_motor]`: Weight vector of decoding model (motor area to task response)\n",
        "\n",
        "\\begin{align}\n",
        "\\mathbf{A3} = \n",
        "\\begin{bmatrix}\n",
        "\\theta_{1,1} & \\theta_{1,2}& \\dots \\ & \\theta_{1,m}\\\\\n",
        "\\end{bmatrix}\n",
        "\\end{align}\n"
      ]
    },
    {
      "cell_type": "code",
      "metadata": {
        "id": "UkEZ_DfXE9TW",
        "colab_type": "code",
        "colab": {
          "base_uri": "https://localhost:8080/",
          "height": 34
        },
        "outputId": "6ce3496e-2cb6-45c7-d241-2922ef8a7861"
      },
      "source": [
        "choice_hat = (sigmoid(stim @ A1 @ A2 @ A3)>0.5).flatten()\n",
        "acc = np.mean(choice==choice_hat)\n",
        "print(\"ACC: {}\".format(acc))"
      ],
      "execution_count": null,
      "outputs": [
        {
          "output_type": "stream",
          "text": [
            "ACC: 0.8767123287671232\n"
          ],
          "name": "stdout"
        }
      ]
    },
    {
      "cell_type": "code",
      "metadata": {
        "id": "xL6gRD18JWLE",
        "colab_type": "code",
        "cellView": "code",
        "colab": {
          "base_uri": "https://localhost:8080/",
          "height": 286
        },
        "outputId": "82aa78a3-0293-4834-96b8-4719d36904b7"
      },
      "source": [
        "#@title Behavior Accuracy \n",
        "data_hat_set =  {\n",
        "      \"stims\": stim, \n",
        "      \"response\": choice_hat*2 -1 \n",
        "      }\n",
        "\n",
        "binary_resp_behav=get_binary_response(data_set)\n",
        "acc_behav= 100*(np.sum(binary_resp_behav==True)/len(binary_resp_behav))\n",
        "\n",
        "binary_resp_model=get_binary_response(data_hat_set)\n",
        "acc_behav_model= 100*(np.sum(binary_resp_model==True)/len(binary_resp_model))\n",
        "\n",
        "\n",
        "labels = [\"Behavior\", \"Model\"]\n",
        "#x = np.arange(len(labels))  # the label locations\n",
        "width = 0.15  # the width of the bars\n",
        "\n",
        "fig, ax = plt.subplots()\n",
        "\n",
        "rects1 = ax.bar( \"Real\", acc_behav,  label='Real')\n",
        "\n",
        "rects2 = ax.bar(\"Model\" , acc_behav_model,  label='Model')\n",
        "\n",
        "# Add some text for labels, title and custom x-axis tick labels, etc.\n",
        "ax.set_ylabel('Behaivor Accuracy %')\n",
        "\n",
        "\n",
        "ax.legend()\n",
        "\n",
        "\n",
        "def autolabel(rects):\n",
        "    \"\"\"Attach a text label above each bar in *rects*, displaying its height.\"\"\"\n",
        "    for rect in rects:\n",
        "        height = rect.get_height()\n",
        "        ax.annotate('{}'.format(height),\n",
        "                    xy=(rect.get_x() + rect.get_width() / 2, height),\n",
        "                    xytext=(0, 3),  # 3 points vertical offset\n",
        "                    textcoords=\"offset points\",\n",
        "                    ha='center', va='bottom')\n",
        "\n",
        "\n",
        "autolabel(rects1)\n",
        "autolabel(rects2)\n",
        "\n",
        "plt.show()"
      ],
      "execution_count": null,
      "outputs": [
        {
          "output_type": "display_data",
          "data": {
            "image/png": "[encoded data removed]",
            "text/plain": [
              "<Figure size 1440x288 with 1 Axes>"
            ]
          },
          "metadata": {
            "tags": [],
            "needs_background": "light"
          }
        }
      ]
    },
    {
      "cell_type": "markdown",
      "metadata": {
        "id": "T40uVZxVryLg",
        "colab_type": "text"
      },
      "source": [
        "# Perturbations"
      ]
    },
    {
      "cell_type": "code",
      "metadata": {
        "id": "WSXM73MXrx69",
        "colab_type": "code",
        "colab": {}
      },
      "source": [
        "def simulate_pertubations(weight_matrix):\n",
        "  X = np.zeros(weight_matrix.shape)\n",
        "\n",
        "#   for t in range(timesteps - 1):\n",
        "\n",
        "#        if t % 2 == 0:\n",
        "#            X[:, t] = np.random.choice([0, 1], size=n_neurons)\n",
        "\n",
        "#       epsilon = np.random.multivariate_normal(np.zeros(n_neurons), np.eye(n_neurons))\n",
        "#        X[:, t + 1] = sigmoid(A.dot(X[:, t]) + epsilon)  # we are using helper function sigmoid\n",
        "\n",
        "  return X"
      ],
      "execution_count": 64,
      "outputs": []
    },
    {
      "cell_type": "code",
      "metadata": {
        "id": "sIglNJDrr9fR",
        "colab_type": "code",
        "colab": {
          "base_uri": "https://localhost:8080/",
          "height": 68
        },
        "outputId": "58872d42-f901-45b8-d944-f08a752319d2"
      },
      "source": [
        "p_A1= simulate_pertubations(A1) # p_A1 matrix of 0's\n",
        "p_A2= simulate_pertubations(A2)\n",
        "p_A3= simulate_pertubations(A3)\n",
        "\n",
        "p_choice = (sigmoid(stim @ p_A1 @ A2 @ A3)>0.5).flatten()\n",
        "acc = np.mean(choice==p_choice)\n",
        "print(\"ACC: {}\".format(acc))\n",
        "\n",
        "p2_choice = (sigmoid(stim @ A1 @ p_A2 @ A3)>0.5).flatten()\n",
        "acc = np.mean(choice==p2_choice)\n",
        "print(\"ACC: {}\".format(acc))\n",
        "\n",
        "p3_choice = (sigmoid(stim @ A1 @ A2 @ p_A3)>0.5).flatten()\n",
        "acc = np.mean(choice==p3_choice)\n",
        "print(\"ACC: {}\".format(acc))"
      ],
      "execution_count": 63,
      "outputs": [
        {
          "output_type": "stream",
          "text": [
            "ACC: 0.4292237442922374\n",
            "ACC: 0.4292237442922374\n",
            "ACC: 0.4292237442922374\n"
          ],
          "name": "stdout"
        }
      ]
    }
  ]
}