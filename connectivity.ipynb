{
  "nbformat": 4,
  "nbformat_minor": 0,
  "metadata": {
    "colab": {
      "name": "Untitled0.ipynb",
      "provenance": [],
      "include_colab_link": true
    },
    "kernelspec": {
      "name": "python3",
      "display_name": "Python 3"
    },
    "widgets": {
      "application/vnd.jupyter.widget-state+json": {
        "a69a63d7650846618c82f0aacd5fdd2c": {
          "model_module": "@jupyter-widgets/controls",
          "model_name": "VBoxModel",
          "state": {
            "_view_name": "VBoxView",
            "_dom_classes": [
              "widget-interact"
            ],
            "_model_name": "VBoxModel",
            "_view_module": "@jupyter-widgets/controls",
            "_model_module_version": "1.5.0",
            "_view_count": null,
            "_view_module_version": "1.5.0",
            "box_style": "",
            "layout": "IPY_MODEL_4441c7cf15b5415bb621fd3fa5f920e2",
            "_model_module": "@jupyter-widgets/controls",
            "children": [
              "IPY_MODEL_1a9ca7f5ab65470889e6bdcb92f3b2ff",
              "IPY_MODEL_f8044da0063f42e4a9e6dd760da2ee36"
            ]
          }
        },
        "4441c7cf15b5415bb621fd3fa5f920e2": {
          "model_module": "@jupyter-widgets/base",
          "model_name": "LayoutModel",
          "state": {
            "_view_name": "LayoutView",
            "grid_template_rows": null,
            "right": null,
            "justify_content": null,
            "_view_module": "@jupyter-widgets/base",
            "overflow": null,
            "_model_module_version": "1.2.0",
            "_view_count": null,
            "flex_flow": null,
            "width": null,
            "min_width": null,
            "border": null,
            "align_items": null,
            "bottom": null,
            "_model_module": "@jupyter-widgets/base",
            "top": null,
            "grid_column": null,
            "overflow_y": null,
            "overflow_x": null,
            "grid_auto_flow": null,
            "grid_area": null,
            "grid_template_columns": null,
            "flex": null,
            "_model_name": "LayoutModel",
            "justify_items": null,
            "grid_row": null,
            "max_height": null,
            "align_content": null,
            "visibility": null,
            "align_self": null,
            "height": null,
            "min_height": null,
            "padding": null,
            "grid_auto_rows": null,
            "grid_gap": null,
            "max_width": null,
            "order": null,
            "_view_module_version": "1.2.0",
            "grid_template_areas": null,
            "object_position": null,
            "object_fit": null,
            "grid_auto_columns": null,
            "margin": null,
            "display": null,
            "left": null
          }
        },
        "1a9ca7f5ab65470889e6bdcb92f3b2ff": {
          "model_module": "@jupyter-widgets/controls",
          "model_name": "IntSliderModel",
          "state": {
            "_view_name": "IntSliderView",
            "style": "IPY_MODEL_0e1c0df715e84ccf9e3c73377246b10f",
            "_dom_classes": [],
            "description": "min_areas",
            "step": 1,
            "_model_name": "IntSliderModel",
            "orientation": "horizontal",
            "max": 7,
            "_view_module": "@jupyter-widgets/controls",
            "_model_module_version": "1.5.0",
            "value": 5,
            "_view_count": null,
            "disabled": false,
            "_view_module_version": "1.5.0",
            "min": 0,
            "continuous_update": true,
            "readout_format": "d",
            "description_tooltip": null,
            "readout": true,
            "_model_module": "@jupyter-widgets/controls",
            "layout": "IPY_MODEL_7bc544e71a724cdeb293b077c22b3cc0"
          }
        },
        "f8044da0063f42e4a9e6dd760da2ee36": {
          "model_module": "@jupyter-widgets/output",
          "model_name": "OutputModel",
          "state": {
            "_view_name": "OutputView",
            "msg_id": "",
            "_dom_classes": [],
            "_model_name": "OutputModel",
            "outputs": [
              {
                "output_type": "stream",
                "metadata": {
                  "tags": []
                },
                "text": "\nSession: 12 Total neurons: 983\nareas: ['ACA' 'CA1' 'DG' 'LGd' 'MB' 'MOs' 'MRN' 'MS' 'PL' 'RN' 'SCm' 'SCs'\n 'VISam' 'ZI' 'root']\n",
                "stream": "stdout"
              },
              {
                "output_type": "display_data",
                "metadata": {
                  "tags": [],
                  "needs_background": "light"
                },
                "image/png": "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\n",
                "text/plain": "<Figure size 432x288 with 1 Axes>"
              }
            ],
            "_view_module": "@jupyter-widgets/output",
            "_model_module_version": "1.0.0",
            "_view_count": null,
            "_view_module_version": "1.0.0",
            "layout": "IPY_MODEL_81b5d7c5db114aa78a699f57f2a09975",
            "_model_module": "@jupyter-widgets/output"
          }
        },
        "0e1c0df715e84ccf9e3c73377246b10f": {
          "model_module": "@jupyter-widgets/controls",
          "model_name": "SliderStyleModel",
          "state": {
            "_view_name": "StyleView",
            "handle_color": null,
            "_model_name": "SliderStyleModel",
            "description_width": "",
            "_view_module": "@jupyter-widgets/base",
            "_model_module_version": "1.5.0",
            "_view_count": null,
            "_view_module_version": "1.2.0",
            "_model_module": "@jupyter-widgets/controls"
          }
        },
        "7bc544e71a724cdeb293b077c22b3cc0": {
          "model_module": "@jupyter-widgets/base",
          "model_name": "LayoutModel",
          "state": {
            "_view_name": "LayoutView",
            "grid_template_rows": null,
            "right": null,
            "justify_content": null,
            "_view_module": "@jupyter-widgets/base",
            "overflow": null,
            "_model_module_version": "1.2.0",
            "_view_count": null,
            "flex_flow": null,
            "width": null,
            "min_width": null,
            "border": null,
            "align_items": null,
            "bottom": null,
            "_model_module": "@jupyter-widgets/base",
            "top": null,
            "grid_column": null,
            "overflow_y": null,
            "overflow_x": null,
            "grid_auto_flow": null,
            "grid_area": null,
            "grid_template_columns": null,
            "flex": null,
            "_model_name": "LayoutModel",
            "justify_items": null,
            "grid_row": null,
            "max_height": null,
            "align_content": null,
            "visibility": null,
            "align_self": null,
            "height": null,
            "min_height": null,
            "padding": null,
            "grid_auto_rows": null,
            "grid_gap": null,
            "max_width": null,
            "order": null,
            "_view_module_version": "1.2.0",
            "grid_template_areas": null,
            "object_position": null,
            "object_fit": null,
            "grid_auto_columns": null,
            "margin": null,
            "display": null,
            "left": null
          }
        },
        "81b5d7c5db114aa78a699f57f2a09975": {
          "model_module": "@jupyter-widgets/base",
          "model_name": "LayoutModel",
          "state": {
            "_view_name": "LayoutView",
            "grid_template_rows": null,
            "right": null,
            "justify_content": null,
            "_view_module": "@jupyter-widgets/base",
            "overflow": null,
            "_model_module_version": "1.2.0",
            "_view_count": null,
            "flex_flow": null,
            "width": null,
            "min_width": null,
            "border": null,
            "align_items": null,
            "bottom": null,
            "_model_module": "@jupyter-widgets/base",
            "top": null,
            "grid_column": null,
            "overflow_y": null,
            "overflow_x": null,
            "grid_auto_flow": null,
            "grid_area": null,
            "grid_template_columns": null,
            "flex": null,
            "_model_name": "LayoutModel",
            "justify_items": null,
            "grid_row": null,
            "max_height": null,
            "align_content": null,
            "visibility": null,
            "align_self": null,
            "height": null,
            "min_height": null,
            "padding": null,
            "grid_auto_rows": null,
            "grid_gap": null,
            "max_width": null,
            "order": null,
            "_view_module_version": "1.2.0",
            "grid_template_areas": null,
            "object_position": null,
            "object_fit": null,
            "grid_auto_columns": null,
            "margin": null,
            "display": null,
            "left": null
          }
        }
      }
    }
  },
  "cells": [
    {
      "cell_type": "markdown",
      "metadata": {
        "id": "view-in-github",
        "colab_type": "text"
      },
      "source": [
        "<a href=\"https://colab.research.google.com/github/mgonzal1/nma_wombat_connectivy_project/blob/brain_areas/connectivity.ipynb\" target=\"_parent\"><img src=\"https://colab.research.google.com/assets/colab-badge.svg\" alt=\"Open In Colab\"/></a>"
      ]
    },
    {
      "cell_type": "code",
      "metadata": {
        "id": "o5E0jLc0DVAC",
        "colab_type": "code",
        "cellView": "both",
        "colab": {}
      },
      "source": [
        "#@title imports and set defaults\n",
        "from matplotlib import rcParams \n",
        "from matplotlib import pyplot as plt\n",
        "from sklearn.linear_model import LinearRegression\n",
        "from sklearn.linear_model import LogisticRegression\n",
        "from sklearn.model_selection import cross_val_score\n",
        "from sklearn.model_selection import KFold\n",
        "from sklearn.model_selection import train_test_split\n",
        "import sklearn.metrics\n",
        "import ipywidgets as widgets \n",
        "import numpy as np\n",
        "from sklearn.linear_model import Ridge\n",
        "from sklearn.linear_model import Lasso\n",
        "from sklearn.model_selection import GridSearchCV\n",
        "from sklearn.metrics import mean_squared_error\n",
        "\n",
        "\n",
        "# import warnings filter\n",
        "from warnings import simplefilter\n",
        "# ignore all future warnings\n",
        "simplefilter(action='ignore', category=FutureWarning)\n"
      ],
      "execution_count": 80,
      "outputs": []
    },
    {
      "cell_type": "code",
      "metadata": {
        "id": "Pxau-hjxDYpV",
        "colab_type": "code",
        "cellView": "form",
        "colab": {}
      },
      "source": [
        "#@title Data retrieval\n",
        "import os, requests\n",
        "\n",
        "fname = []\n",
        "for j in range(3):\n",
        "  fname.append('steinmetz_part%d.npz'%j)\n",
        "url = [\"https://osf.io/agvxh/download\"]\n",
        "url.append(\"https://osf.io/uv3mw/download\")\n",
        "url.append(\"https://osf.io/ehmw2/download\")\n",
        "\n",
        "for j in range(len(url)):\n",
        "  if not os.path.isfile(fname[j]):\n",
        "    try:\n",
        "      r = requests.get(url[j])\n",
        "    except requests.ConnectionError:\n",
        "      print(\"!!! Failed to download data !!!\")\n",
        "    else:\n",
        "      if r.status_code != requests.codes.ok:\n",
        "        print(\"!!! Failed to download data !!!\")\n",
        "      else:\n",
        "        with open(fname[j], \"wb\") as fid:\n",
        "          fid.write(r.content)\n",
        "\n",
        "\n",
        "\n",
        "alldat = np.array([])\n",
        "for j in range(len(fname)):\n",
        "  alldat = np.hstack((alldat, np.load('steinmetz_part%d.npz'%j, allow_pickle=True)['dat']))"
      ],
      "execution_count": 2,
      "outputs": []
    },
    {
      "cell_type": "code",
      "metadata": {
        "id": "zOpjXvjqbDWr",
        "colab_type": "code",
        "cellView": "code",
        "colab": {
          "base_uri": "https://localhost:8080/",
          "height": 452,
          "referenced_widgets": [
            "a69a63d7650846618c82f0aacd5fdd2c",
            "4441c7cf15b5415bb621fd3fa5f920e2",
            "1a9ca7f5ab65470889e6bdcb92f3b2ff",
            "f8044da0063f42e4a9e6dd760da2ee36",
            "0e1c0df715e84ccf9e3c73377246b10f",
            "7bc544e71a724cdeb293b077c22b3cc0",
            "81b5d7c5db114aa78a699f57f2a09975"
          ]
        },
        "outputId": "f5f63f4a-a4c7-4216-a547-5d9a8da5bd40"
      },
      "source": [
        "#@title Representative session\n",
        "#@markdown As first step, lets choose 1 session to start trainning the model. Let's see which session has more neurons in the areas that we are going to use and how many neurons it has.\n",
        "import pandas as pd\n",
        "@widgets.interact\n",
        "def get_representative_session(min_areas=(0,7)):\n",
        "  \"\"\" To simplify the model we are selecting a session recording with most of the regions represented.\n",
        "    This interactive function help us to decide the session based on the minimal regions represented and number of \n",
        "    total neurons recorded.\n",
        "\n",
        "  \"\"\"\n",
        "  print(\"\")\n",
        "  brain_groups = [[\"VISa\", \"VISam\", \"VISl\", \"VISp\", \"VISpm\", \"VISrl\"], # visual cortex\n",
        "                  [\"CL\", \"LD\", \"LGd\", \"LH\", \"LP\", \"MD\", \"MG\", \"PO\", \"POL\", \"PT\", \"RT\", \"SPF\", \"TH\", \"VAL\", \"VPL\", \"VPM\"], # thalamus\n",
        "                  [\"CA\", \"CA1\", \"CA2\", \"CA3\", \"DG\", \"SUB\", \"POST\"], # hippocampal\n",
        "                  [\"ACA\", \"AUD\", \"COA\", \"DP\", \"ILA\", \"MOp\", \"MOs\", \"OLF\", \"ORB\", \"ORBm\", \"PIR\", \"PL\", \"SSp\", \"SSs\", \"RSP\",\" TT\"], # non-visual cortex\n",
        "                  [\"APN\", \"IC\", \"MB\", \"MRN\", \"NB\", \"PAG\", \"RN\", \"SCs\", \"SCm\", \"SCig\", \"SCsg\", \"ZI\"], # midbrain\n",
        "                  [\"ACB\", \"CP\", \"GPe\", \"LS\", \"LSc\", \"LSr\", \"MS\", \"OT\", \"SNr\", \"SI\"], # basal ganglia \n",
        "                  [\"BLA\", \"BMA\", \"EP\", \"EPd\", \"MEA\"] # cortical subplate\n",
        "                  ]\n",
        "  regions = [\"visual ctx\", \"thal\", \"hipp\", \"non-visual ctx\", \"midbrain\", \"basal ganglia\", \"cortical subplate\"]\n",
        "  covered_areas=[]\n",
        "  for i in range (0,38):\n",
        "    session = alldat[i]\n",
        "    brain_areas = set(session['brain_area'])\n",
        "    representative = []\n",
        "    neurons_in_area = []\n",
        "    for group in brain_groups:\n",
        "        representative.append(any(area in brain_areas for area in group))\n",
        "    \n",
        "    if(representative.count(True)>min_areas):\n",
        "      covered_areas.append(representative)\n",
        "      print(\"Session:\" , i, \"Total neurons:\",session['brain_area'].shape[0])\n",
        "      print(\"areas:\", np.unique(session['brain_area']))\n",
        "\n",
        "  labels, sizes = np.unique(session['brain_area'], return_counts=True)\n",
        "  fig = plt.figure()\n",
        "  ax = fig.add_axes([0,0,1,1])\n",
        "  plt.ylabel(\"Total of sessions\")\n",
        "  ax.bar(regions,np.count_nonzero(covered_areas, axis=0))\n",
        "  ax.set_title(\"Brain areas covered\")\n",
        "  plt.show()"
      ],
      "execution_count": 85,
      "outputs": [
        {
          "output_type": "display_data",
          "data": {
            "application/vnd.jupyter.widget-view+json": {
              "model_id": "a69a63d7650846618c82f0aacd5fdd2c",
              "version_minor": 0,
              "version_major": 2
            },
            "text/plain": [
              "interactive(children=(IntSlider(value=3, description='min_areas', max=7), Output()), _dom_classes=('widget-int…"
            ]
          },
          "metadata": {
            "tags": []
          }
        }
      ]
    },
    {
      "cell_type": "code",
      "metadata": {
        "id": "BeBoLZRj0Ixc",
        "colab_type": "code",
        "colab": {
          "base_uri": "https://localhost:8080/",
          "height": 68
        },
        "outputId": "f718f236-6703-4158-9790-3c8acdff08dc"
      },
      "source": [
        "representative = [True, True, True, True, True, True, False]\n",
        "np.stack?\n",
        "a= np.stack([representative,  [False, True, True, True, True, True, False]])\n",
        "print(a)\n",
        "np.count_nonzero(a, axis=0)"
      ],
      "execution_count": 76,
      "outputs": [
        {
          "output_type": "stream",
          "text": [
            "[[ True  True  True  True  True  True False]\n",
            " [False  True  True  True  True  True False]]\n"
          ],
          "name": "stdout"
        },
        {
          "output_type": "execute_result",
          "data": {
            "text/plain": [
              "array([1, 2, 2, 2, 2, 2, 0])"
            ]
          },
          "metadata": {
            "tags": []
          },
          "execution_count": 76
        }
      ]
    },
    {
      "cell_type": "code",
      "metadata": {
        "id": "xEaM11vrrknU",
        "colab_type": "code",
        "colab": {
          "base_uri": "https://localhost:8080/",
          "height": 545
        },
        "outputId": "e0a57abb-7dd4-419e-822b-cce9b48e843c"
      },
      "source": [
        "  brain_groups = {'visual': [\"VISa\", \"VISam\", \"VISl\", \"VISp\", \"VISpm\", \"VISrl\"],\n",
        "                  'thalamus': [\"CL\", \"LD\", \"LGd\", \"LH\", \"LP\", \"MD\", \"MG\", \"PO\", \"POL\", \"PT\", \"RT\", \"SPF\", \"TH\", \"VAL\", \"VPL\", \"VPM\"], \n",
        "                  'hippocampal': [\"CA\", \"CA1\", \"CA2\", \"CA3\", \"DG\", \"SUB\", \"POST\"], \n",
        "                  'Non-visual': [\"ACA\", \"AUD\", \"COA\", \"DP\", \"ILA\", \"MOp\", \"MOs\", \"OLF\", \"ORB\", \"ORBm\", \"PIR\", \"PL\", \"SSp\", \"SSs\", \"RSP\",\" TT\"], \n",
        "                  'midbrain': [\"APN\", \"IC\", \"MB\", \"MRN\", \"NB\", \"PAG\", \"RN\", \"SCs\", \"SCm\", \"SCig\", \"SCsg\", \"ZI\"],\n",
        "                  'basal ganglia' : [\"ACB\", \"CP\", \"GPe\", \"LS\", \"LSc\", \"LSr\", \"MS\", \"OT\", \"SNr\", \"SI\"], \n",
        "                  'cortical subplate':[\"BLA\", \"BMA\", \"EP\", \"EPd\", \"MEA\"] \n",
        "                  }\n",
        "\n",
        "df = pd.DataFrame.from_dict(brain_groups, orient='index') \n",
        "df.transpose()"
      ],
      "execution_count": 48,
      "outputs": [
        {
          "output_type": "execute_result",
          "data": {
            "text/html": [
              "<div>\n",
              "<style scoped>\n",
              "    .dataframe tbody tr th:only-of-type {\n",
              "        vertical-align: middle;\n",
              "    }\n",
              "\n",
              "    .dataframe tbody tr th {\n",
              "        vertical-align: top;\n",
              "    }\n",
              "\n",
              "    .dataframe thead th {\n",
              "        text-align: right;\n",
              "    }\n",
              "</style>\n",
              "<table border=\"1\" class=\"dataframe\">\n",
              "  <thead>\n",
              "    <tr style=\"text-align: right;\">\n",
              "      <th></th>\n",
              "      <th>visual</th>\n",
              "      <th>thalamus</th>\n",
              "      <th>hippocampal</th>\n",
              "      <th>Non-visual</th>\n",
              "      <th>midbrain</th>\n",
              "      <th>basal ganglia</th>\n",
              "      <th>cortical subplate</th>\n",
              "    </tr>\n",
              "  </thead>\n",
              "  <tbody>\n",
              "    <tr>\n",
              "      <th>0</th>\n",
              "      <td>VISa</td>\n",
              "      <td>CL</td>\n",
              "      <td>CA</td>\n",
              "      <td>ACA</td>\n",
              "      <td>APN</td>\n",
              "      <td>ACB</td>\n",
              "      <td>BLA</td>\n",
              "    </tr>\n",
              "    <tr>\n",
              "      <th>1</th>\n",
              "      <td>VISam</td>\n",
              "      <td>LD</td>\n",
              "      <td>CA1</td>\n",
              "      <td>AUD</td>\n",
              "      <td>IC</td>\n",
              "      <td>CP</td>\n",
              "      <td>BMA</td>\n",
              "    </tr>\n",
              "    <tr>\n",
              "      <th>2</th>\n",
              "      <td>VISl</td>\n",
              "      <td>LGd</td>\n",
              "      <td>CA2</td>\n",
              "      <td>COA</td>\n",
              "      <td>MB</td>\n",
              "      <td>GPe</td>\n",
              "      <td>EP</td>\n",
              "    </tr>\n",
              "    <tr>\n",
              "      <th>3</th>\n",
              "      <td>VISp</td>\n",
              "      <td>LH</td>\n",
              "      <td>CA3</td>\n",
              "      <td>DP</td>\n",
              "      <td>MRN</td>\n",
              "      <td>LS</td>\n",
              "      <td>EPd</td>\n",
              "    </tr>\n",
              "    <tr>\n",
              "      <th>4</th>\n",
              "      <td>VISpm</td>\n",
              "      <td>LP</td>\n",
              "      <td>DG</td>\n",
              "      <td>ILA</td>\n",
              "      <td>NB</td>\n",
              "      <td>LSc</td>\n",
              "      <td>MEA</td>\n",
              "    </tr>\n",
              "    <tr>\n",
              "      <th>5</th>\n",
              "      <td>VISrl</td>\n",
              "      <td>MD</td>\n",
              "      <td>SUB</td>\n",
              "      <td>MOp</td>\n",
              "      <td>PAG</td>\n",
              "      <td>LSr</td>\n",
              "      <td>None</td>\n",
              "    </tr>\n",
              "    <tr>\n",
              "      <th>6</th>\n",
              "      <td>None</td>\n",
              "      <td>MG</td>\n",
              "      <td>POST</td>\n",
              "      <td>MOs</td>\n",
              "      <td>RN</td>\n",
              "      <td>MS</td>\n",
              "      <td>None</td>\n",
              "    </tr>\n",
              "    <tr>\n",
              "      <th>7</th>\n",
              "      <td>None</td>\n",
              "      <td>PO</td>\n",
              "      <td>None</td>\n",
              "      <td>OLF</td>\n",
              "      <td>SCs</td>\n",
              "      <td>OT</td>\n",
              "      <td>None</td>\n",
              "    </tr>\n",
              "    <tr>\n",
              "      <th>8</th>\n",
              "      <td>None</td>\n",
              "      <td>POL</td>\n",
              "      <td>None</td>\n",
              "      <td>ORB</td>\n",
              "      <td>SCm</td>\n",
              "      <td>SNr</td>\n",
              "      <td>None</td>\n",
              "    </tr>\n",
              "    <tr>\n",
              "      <th>9</th>\n",
              "      <td>None</td>\n",
              "      <td>PT</td>\n",
              "      <td>None</td>\n",
              "      <td>ORBm</td>\n",
              "      <td>SCig</td>\n",
              "      <td>SI</td>\n",
              "      <td>None</td>\n",
              "    </tr>\n",
              "    <tr>\n",
              "      <th>10</th>\n",
              "      <td>None</td>\n",
              "      <td>RT</td>\n",
              "      <td>None</td>\n",
              "      <td>PIR</td>\n",
              "      <td>SCsg</td>\n",
              "      <td>None</td>\n",
              "      <td>None</td>\n",
              "    </tr>\n",
              "    <tr>\n",
              "      <th>11</th>\n",
              "      <td>None</td>\n",
              "      <td>SPF</td>\n",
              "      <td>None</td>\n",
              "      <td>PL</td>\n",
              "      <td>ZI</td>\n",
              "      <td>None</td>\n",
              "      <td>None</td>\n",
              "    </tr>\n",
              "    <tr>\n",
              "      <th>12</th>\n",
              "      <td>None</td>\n",
              "      <td>TH</td>\n",
              "      <td>None</td>\n",
              "      <td>SSp</td>\n",
              "      <td>None</td>\n",
              "      <td>None</td>\n",
              "      <td>None</td>\n",
              "    </tr>\n",
              "    <tr>\n",
              "      <th>13</th>\n",
              "      <td>None</td>\n",
              "      <td>VAL</td>\n",
              "      <td>None</td>\n",
              "      <td>SSs</td>\n",
              "      <td>None</td>\n",
              "      <td>None</td>\n",
              "      <td>None</td>\n",
              "    </tr>\n",
              "    <tr>\n",
              "      <th>14</th>\n",
              "      <td>None</td>\n",
              "      <td>VPL</td>\n",
              "      <td>None</td>\n",
              "      <td>RSP</td>\n",
              "      <td>None</td>\n",
              "      <td>None</td>\n",
              "      <td>None</td>\n",
              "    </tr>\n",
              "    <tr>\n",
              "      <th>15</th>\n",
              "      <td>None</td>\n",
              "      <td>VPM</td>\n",
              "      <td>None</td>\n",
              "      <td>TT</td>\n",
              "      <td>None</td>\n",
              "      <td>None</td>\n",
              "      <td>None</td>\n",
              "    </tr>\n",
              "  </tbody>\n",
              "</table>\n",
              "</div>"
            ],
            "text/plain": [
              "   visual thalamus hippocampal  ... midbrain basal ganglia cortical subplate\n",
              "0    VISa       CL          CA  ...      APN           ACB               BLA\n",
              "1   VISam       LD         CA1  ...       IC            CP               BMA\n",
              "2    VISl      LGd         CA2  ...       MB           GPe                EP\n",
              "3    VISp       LH         CA3  ...      MRN            LS               EPd\n",
              "4   VISpm       LP          DG  ...       NB           LSc               MEA\n",
              "5   VISrl       MD         SUB  ...      PAG           LSr              None\n",
              "6    None       MG        POST  ...       RN            MS              None\n",
              "7    None       PO        None  ...      SCs            OT              None\n",
              "8    None      POL        None  ...      SCm           SNr              None\n",
              "9    None       PT        None  ...     SCig            SI              None\n",
              "10   None       RT        None  ...     SCsg          None              None\n",
              "11   None      SPF        None  ...       ZI          None              None\n",
              "12   None       TH        None  ...     None          None              None\n",
              "13   None      VAL        None  ...     None          None              None\n",
              "14   None      VPL        None  ...     None          None              None\n",
              "15   None      VPM        None  ...     None          None              None\n",
              "\n",
              "[16 rows x 7 columns]"
            ]
          },
          "metadata": {
            "tags": []
          },
          "execution_count": 48
        }
      ]
    },
    {
      "cell_type": "markdown",
      "metadata": {
        "id": "TKZy_fSKrv18",
        "colab_type": "text"
      },
      "source": [
        ""
      ]
    },
    {
      "cell_type": "code",
      "metadata": {
        "id": "ja4driRhVzD6",
        "colab_type": "code",
        "colab": {}
      },
      "source": [
        "# SET DEFAULTS\n",
        "trial_time = 2\n",
        "session=12\n",
        "n_sessions = len(alldat)"
      ],
      "execution_count": 4,
      "outputs": []
    },
    {
      "cell_type": "code",
      "metadata": {
        "id": "g2ajfTQyPLdz",
        "colab_type": "code",
        "cellView": "form",
        "colab": {}
      },
      "source": [
        "#@title General functions to get data\n",
        "def filter_no_go_choice(data_set):\n",
        "  \"\"\"\n",
        "  In order to reduce the complexity on the decode model(A3), we are removing the no-go trials \n",
        "  so we kept binary choice (left or right) that fits with a LogisticRegression model\n",
        "   Args: \n",
        "      data_set: Subset of alldat\n",
        "\n",
        "  Returns:\n",
        "   new_data_set (dict): dat['spks']: neurons by trials.\n",
        "                        dat['brain_area']: brain area for each neuron recorded.\n",
        "                        dat['contrast_right']: contrast level for the right stimulus, which is always contralateral to the recorded brain areas.\n",
        "                        dat['contrast_left']: contrast level for left stimulus.\n",
        "                        dat['response']: which side the response was (-1,  1). Choices for the right stimulus are -1.\n",
        "  \"\"\"\n",
        "  new_data_set =  {}\n",
        "  index_trials = data_set['response'].nonzero()\n",
        "  # Remove baseline(first 50 bins) and get FR per neuron\n",
        "  new_data_set.update({\"spks\":(data_set[\"spks\"][:,index_trials[0],50:].sum(axis=2)/trial_time).T})\n",
        "  new_data_set.update({\"brain_area\":data_set[\"brain_area\"]})\n",
        "  new_data_set.update({\"response\": data_set[\"response\"][index_trials]})\n",
        "  new_data_set.update({\"contrast_right\": data_set[\"contrast_right\"][index_trials]})\n",
        "  new_data_set.update({\"contrast_left\": data_set[\"contrast_left\"][index_trials]})\n",
        "  return new_data_set\n",
        "\n",
        "def get_spks_from_area(dat,brain_area):\n",
        "  spks = dat[\"spks\"].T\n",
        "  n_neurons = spks.shape[0]\n",
        "  index_neurons = np.zeros(n_neurons,dtype=bool)\n",
        "  for neuron in range(n_neurons):\n",
        "    index_neurons[neuron] = dat['brain_area'][neuron] in brain_area\n",
        "\n",
        "  area_data = (spks[index_neurons,:].T)\n",
        "  return area_data, index_neurons\n",
        "\n",
        "def get_visual_ctx(data_set):\n",
        "  visual_ctx = [\"VISa\", \"VISam\", \"VISl\", \"VISp\", \"VISpm\", \"VISrl\"]\n",
        "  visual_data, _ = get_spks_from_area(data_set, visual_ctx)\n",
        "  return visual_data\n",
        "\n",
        "def get_motor_ctx(data_set):\n",
        "  motor_ctx = [\"CL\", \"LD\", \"LGd\", \"LH\", \"LP\", \"MD\", \"MG\", \"PO\", \"POL\", \"PT\", \"RT\", \"SPF\", \"TH\", \"VAL\", \"VPL\", \"VPM\"]\n",
        "  motor_data, _ = get_spks_from_area(data_set, motor_ctx)\n",
        "  return motor_data\n",
        "\n",
        "def get_stimulus(data_set):\n",
        "  \"\"\"\n",
        "   Args: \n",
        "      data_set: (map) Subset of alldat\n",
        "      \n",
        "   Returns:\n",
        "      stims[nTrials x 3]  bias: constant with ones\n",
        "                          stim_left: contrast level for the right stimulus.\n",
        "                          stim_right: contrast level for left stimulus.\n",
        "  \"\"\"\n",
        "\n",
        "\n",
        "  stims = data_set['contrast_left'], data_set['contrast_right']\n",
        "  stims = np.array(stims).T\n",
        "  n_trials = stims.shape[0]\n",
        "  stims = np.column_stack((np.ones(n_trials),stims))\n",
        "  return stims\n",
        "\n",
        "def get_response(data_set):\n",
        "  \"\"\"\n",
        "   Args: \n",
        "      data_set: Subset of alldat\n",
        "\n",
        "   Returns:\n",
        "        np.array: which side the response was (-1, 0, 1). Choices for the right stimulus are -1.\n",
        "  \"\"\"\n",
        "  response =  np.array(data_set['response'])\n",
        "  return response\n",
        "\n",
        "def get_binary_response(data_set):\n",
        "  \"\"\"\n",
        "   To simplify the model we ares going to use a binary response instead of the 3 possible values: left, no-action, right\n",
        "   to true or false comparing the stimulus to the expected actions. \n",
        "\n",
        "   Args: \n",
        "      data_set: Subset of alldat\n",
        "\n",
        "   Returns:\n",
        "        binary (np.array boolean) : Returns True or False\n",
        "  \"\"\"\n",
        "  vis_left, vis_right = [data_set[\"stims\"][:,1], data_set[\"stims\"][:,2]]\n",
        "  response = get_response(data_set)\n",
        "  binary_response = np.sign(response)==np.sign(vis_left-vis_right)\n",
        "  return binary_response\n",
        "\n",
        "def split_validation_set(data_set):\n",
        "  \"\"\"\n",
        "  Get a subset of alldat for validation purposes. This should be ~5%-10% of all the data.\n",
        "\n",
        "\n",
        "  Returns:\n",
        "   train_set (dict): dat['spks']: neurons by trials.\n",
        "                     dat['brain_area']: brain area for each neuron recorded.\n",
        "                     dat['stims']: contrast level for the right stimulus, which is always contralateral to the recorded brain areas.\n",
        "                     dat['response']: which side the response was (-1,  1). Choices for the right stimulus are -1.\n",
        "  \"\"\"\n",
        "\n",
        "  stims=get_stimulus(data_set)\n",
        "  response = get_response(data_set)\n",
        "  spk= data_set['spks']\n",
        "  # # create training and testing vars\n",
        "  stim_train, stim_test, spk_train, spk_test, response_train, response_test = train_test_split(stims, spk, response, test_size=0.1)\n",
        "  train_set = {\n",
        "      \"spks\": spk_train, \n",
        "      \"stims\": stim_train, \n",
        "      \"response\": response_train, \n",
        "      \"brain_area\":data_set['brain_area']\n",
        "      }\n",
        "  validation_set = {\n",
        "      \"spks\": spk_test,\n",
        "      \"stims\": stim_test, \n",
        "      \"response\": response_test, \n",
        "      \"brain_area\":data_set['brain_area']\n",
        "      }\n",
        "  return train_set, validation_set\n",
        "\n",
        "# Draft of sigmoide calculation\n",
        "def sigmoid(z):\n",
        "  return 1 / (1 + np.exp(-z))"
      ],
      "execution_count": 5,
      "outputs": []
    },
    {
      "cell_type": "code",
      "metadata": {
        "id": "yfhykX_RKnhg",
        "colab_type": "code",
        "colab": {}
      },
      "source": [
        "# Get train and validation data\n",
        "data_set = filter_no_go_choice(alldat[session])\n",
        "data_set, val_set = split_validation_set(data_set)\n",
        "#train_set (dict): dat['spks']: neurons by trials.\n",
        "#                  dat['brain_area']: brain area for each neuron recorded.\n",
        "#                  dat['stims']: contrast level for the right stimulus, which is always contralateral to the recorded brain areas.\n",
        "#                  dat['response']: which side the response was (-1,  1). Choices for the right stimulus are -1."
      ],
      "execution_count": 6,
      "outputs": []
    },
    {
      "cell_type": "markdown",
      "metadata": {
        "id": "6kGWZ7tZMHCK",
        "colab_type": "text"
      },
      "source": [
        "# MODEL 1:  Encodig from visual stimulus\n",
        "\n",
        "Using Multiple Linear Regresion:\n",
        "\n",
        "\n",
        "\\begin{align}\n",
        "y = \\theta_0 + \\theta_1 x_1 + \\theta_1 x_2 + ... +\\theta_d x_d + \\epsilon\n",
        "\\end{align}\n",
        "\n",
        "where $\\theta_0$ is the intercept and $d$ is the number of features.\n",
        "\n",
        "\n",
        "Testing with k-fold cross-validation \n",
        "\n",
        "**Metrics:**\n",
        "*   Visual stimulus [nTrials x 3] : Contrast on left and right\n",
        "\n",
        "\\begin{align}\n",
        "\\mathbf{X} = \n",
        "\\begin{bmatrix}\n",
        "1 & x_{1,1} & x_{1,2}  \\\\\n",
        "1 & x_{2,1} & x_{2,2} \\\\\n",
        "\\vdots & \\vdots & \\vdots \\\\\n",
        "1 & x_{n,1} & x_{n,2}\n",
        "\\end{bmatrix}\n",
        "\\end{align}\n",
        "\n",
        "\n",
        "*   Visual neurons matrix [nTrials x Neurons]:  neurons firing rate on visual area\n",
        "\n",
        "\\begin{align}\n",
        "\\mathbf{Y} = \n",
        "\\begin{bmatrix}\n",
        "y_{1,1} & y_{1,2} & \\dots & y_{1,m}  \\\\\n",
        "y_{2,1} & y_{2,2}  & \\dots & y_{2,m} \\\\\n",
        "\\vdots & \\vdots  & \\dots & \\vdots\\\\\n",
        "y_{n,1} & y_{n,2} & \\dots  &  y_{n,m}\n",
        "\\end{bmatrix}\n",
        "\\end{align}\n",
        "\n",
        "\n",
        "\n",
        "**Returns**\n",
        "*  A1 matrix [3x ntrials]\n",
        "\n",
        "\\begin{align}\n",
        "\\mathbf{A1} = \n",
        "\\begin{bmatrix}\n",
        "\\theta_{1,1} & \\theta_{1,2}& \\dots \\ & \\theta_{1,m}\\\\\n",
        "\\theta_{2,1} & \\theta_{2,2}& \\dots & \\theta_{2,m}\\\\\n",
        "\\theta_{3,1} & \\theta_{3,2}& \\dots & \\theta_{3,m}\\\\\n",
        "\\end{bmatrix}\n",
        "\\end{align}\n",
        "\n",
        "\n",
        "\n"
      ]
    },
    {
      "cell_type": "code",
      "metadata": {
        "id": "x9TFVNAGcVGw",
        "colab_type": "code",
        "cellView": "both",
        "colab": {
          "base_uri": "https://localhost:8080/",
          "height": 51
        },
        "outputId": "2fcb767c-6a23-49d6-bd80-6de2c4357dd1"
      },
      "source": [
        "# Get data\n",
        "visual_dat = get_visual_ctx(data_set)\n",
        "stim = data_set[\"stims\"]\n",
        "\n",
        "# Model Linear Regression\n",
        "model = LinearRegression(fit_intercept=False).fit(stim, visual_dat) \n",
        "\n",
        "A1 = model.coef_.T\n",
        "visual_dat_hat = model.predict(stim)\n",
        "visual_dat_hat = stim @ A1\n",
        "\n",
        "#MSE and R2\n",
        "mse = np.mean( (visual_dat-visual_dat_hat)**2 )\n",
        "r2_metrics =  sklearn.metrics.r2_score(visual_dat,visual_dat_hat)\n",
        "\n",
        "print(\"R2: {}\".format(r2_metrics))\n",
        "print(\"MSE: {}\".format(mse))\n",
        " "
      ],
      "execution_count": 7,
      "outputs": [
        {
          "output_type": "stream",
          "text": [
            "R2: 0.039757140623770275\n",
            "MSE: 4.345665295168023\n"
          ],
          "name": "stdout"
        }
      ]
    },
    {
      "cell_type": "code",
      "metadata": {
        "id": "98g6Mr1FNCG7",
        "colab_type": "code",
        "colab": {
          "base_uri": "https://localhost:8080/",
          "height": 297
        },
        "outputId": "2811de0b-df8c-4615-ddb9-207f05bc3c88"
      },
      "source": [
        "# plt.scatter(visual_dat.flatten(), visual_dat_hat.flatten()) \n",
        "plt.scatter(visual_dat,visual_dat_hat, alpha=0.3)\n",
        "plt.title(\"Visual reponses, y vs $\\hat y$ \")\n",
        "plt.xlabel(\"Visual responses, y\")\n",
        "plt.ylabel(\"Visual responses, $\\hat y$\")\n",
        "plt.show()"
      ],
      "execution_count": 8,
      "outputs": [
        {
          "output_type": "display_data",
          "data": {
            "image/png": "[encoded data removed]",
            "text/plain": [
              "<Figure size 432x288 with 1 Axes>"
            ]
          },
          "metadata": {
            "tags": [],
            "needs_background": "light"
          }
        }
      ]
    },
    {
      "cell_type": "markdown",
      "metadata": {
        "id": "tNoDP9QGXK8y",
        "colab_type": "text"
      },
      "source": [
        "## Analize correlations per neuron\n",
        "\n",
        "*   Calculate Root MSE \n",
        "\n",
        " \\begin{align}\n",
        " RMSE = \\sqrt{\\sum_{i=1}^N(y_i - \\hat y_i)^2}\\\\\n",
        "\\end{align}\n",
        "\n",
        "* RMSE normalized per Neuron\n",
        "\n",
        "\\begin{align}\n",
        "nRMSE = \\frac{RMSE}{\\bar y}\n",
        "\\end{align}\n",
        "\n",
        "\n",
        "*   Calculate $R^2$ per Neuron\n",
        "\n",
        "\n",
        "\\begin{align}\n",
        "R^2 = \\frac{\\sum_{i=1}^n(\\hat y_i - \\ y)^2}{\\sum_{i=1}^n (y_i - \\ \\bar{y})^2}\n",
        "\\end{align}\n",
        "\n"
      ]
    },
    {
      "cell_type": "code",
      "metadata": {
        "id": "-aEgVtp-rNp7",
        "colab_type": "code",
        "colab": {
          "base_uri": "https://localhost:8080/",
          "height": 297
        },
        "outputId": "2d190dd8-802e-4506-8b0d-c7565df6e686"
      },
      "source": [
        "n_visual_dat = np.zeros(visual_dat.shape[1])\n",
        "n_visual_dat_hat = np.zeros(visual_dat.shape[1])\n",
        "n_mse = np.zeros(visual_dat.shape[1])\n",
        "n_r2_metrics = np.zeros(visual_dat.shape[1])\n",
        "n_mse_norm = np.zeros(visual_dat.shape[1])\n",
        "\n",
        "for j in range(visual_dat.shape[1]):\n",
        "\n",
        "  n_visual_dat =visual_dat[:,j]\n",
        "\n",
        "  model_n = LinearRegression(fit_intercept=False).fit(stim, n_visual_dat)\n",
        "\n",
        "  A1_n = model_n.coef_.T\n",
        "\n",
        "  n_visual_dat_hat = stim @ A1_n\n",
        "  n_visual_dat_mean= np.mean(n_visual_dat)\n",
        "  \n",
        "  n_mse [j]= np.mean( (n_visual_dat-n_visual_dat_hat)**2 )\n",
        "  n_mse_norm [j]= n_mse [j]/ n_visual_dat_mean\n",
        "  a=np.sum((n_visual_dat_hat-n_visual_dat)**2)\n",
        "  b=np.sum((n_visual_dat-n_visual_dat_mean)**2)\n",
        "\n",
        "  \n",
        "  n_r2_metrics [j] = 1 - (a/b)\n",
        "\n",
        "plt.scatter(n_mse_norm,n_r2_metrics,alpha=0.4)\n",
        "plt.title(\"RMSE vs $R^2$ per Neuron\")\n",
        "plt.xlabel(\"RMSE\")\n",
        "plt.ylabel(\"$R^2$\")\n",
        "plt.show()"
      ],
      "execution_count": 9,
      "outputs": [
        {
          "output_type": "display_data",
          "data": {
            "image/png": "[encoded data removed]",
            "text/plain": [
              "<Figure size 432x288 with 1 Axes>"
            ]
          },
          "metadata": {
            "tags": [],
            "needs_background": "light"
          }
        }
      ]
    },
    {
      "cell_type": "markdown",
      "metadata": {
        "id": "kO1TAjir4yxf",
        "colab_type": "text"
      },
      "source": [
        "#Cross-validation: Testing with k-fold \n",
        "\n",
        "from Scikit-learn (https://scikit-learn.org/stable/modules/cross_validation.html)\n",
        "\n",
        "![Diagram from Sklearn](https://scikit-learn.org/stable/_images/grid_search_cross_validation.png ) \n"
      ]
    },
    {
      "cell_type": "code",
      "metadata": {
        "id": "abqrvhzXadyz",
        "colab_type": "code",
        "cellView": "form",
        "colab": {
          "base_uri": "https://localhost:8080/",
          "height": 225
        },
        "outputId": "00f25d8b-f4f7-478c-e8fa-5ffba802e0e3"
      },
      "source": [
        "#@title Cross-validation, cv=8\n",
        "num_splits =8\n",
        "accuracies = (cross_val_score(model, stim, visual_dat, cv=8))\n",
        "\n",
        "f, ax = plt.subplots(figsize=(8, 3))\n",
        "ax.boxplot(accuracies, vert=False, widths=.7)\n",
        "ax.scatter(accuracies, np.ones(num_splits))\n",
        "ax.set(\n",
        "  xlabel=\"Accuracy\",\n",
        "  yticks=[],\n",
        "  title=f\"Average Accuracy: {np.mean(accuracies):.3f}\"\n",
        ")\n",
        "ax.spines[\"left\"].set_visible(False)"
      ],
      "execution_count": 10,
      "outputs": [
        {
          "output_type": "display_data",
          "data": {
            "image/png": "[encoded data removed]",
            "text/plain": [
              "<Figure size 576x216 with 1 Axes>"
            ]
          },
          "metadata": {
            "tags": [],
            "needs_background": "light"
          }
        }
      ]
    },
    {
      "cell_type": "markdown",
      "metadata": {
        "id": "FolqjLF4YBIS",
        "colab_type": "text"
      },
      "source": [
        "# MODEL2: Connectivity Matrix ,  The black box\n",
        "\n",
        "We try different models for our \"black box\" and we did some comparissons among them. \n",
        "\n",
        "*Spoiler alert, all were bad!*\n",
        "\n",
        "For future work we need to understand better the correleation between this areas and probabaly make a better decision on the brain areas . \n",
        " \n",
        "##Models:\n",
        "* Ridge\n",
        "* Linear Regression\n",
        "* Neural Network\n",
        "\n",
        "**Metrics:**\n",
        "\n",
        "* Visual data hat `[nTrials x nNeurons_visual]` :  predicted by the encoding model 1. Spikes rates of neurons involved in visual function.\n",
        "\n",
        "\\begin{align}\n",
        "\\mathbf{\\hat Y} = \n",
        "\\begin{bmatrix}\n",
        "y_{1,1} & y_{1,2} & \\dots & y_{1,m}  \\\\\n",
        "y_{2,1} & y_{2,2}  & \\dots & y_{2,m} \\\\\n",
        "\\vdots & \\vdots  & \\dots & \\vdots\\\\\n",
        "y_{n,1} & y_{n,2} & \\dots  &  y_{n,m}\n",
        "\\end{bmatrix}\n",
        "\\end{align}\n",
        "\n",
        "* Motor data hat `[nTrials x nNeurons_motor]`: predicted by the model 3. Spikes rates of neurons involved in motor function.\n",
        "\n",
        "\\begin{align}\n",
        "\\mathbf{\\hat M} = \n",
        "\\begin{bmatrix}\n",
        "y_{1,1} & y_{1,2} & \\dots & y_{1,m}  \\\\\n",
        "y_{2,1} & y_{2,2}  & \\dots & y_{2,m} \\\\\n",
        "\\vdots & \\vdots  & \\dots & \\vdots\\\\\n",
        "y_{n,1} & y_{n,2} & \\dots  &  y_{n,m}\n",
        "\\end{bmatrix}\n",
        "\\end{align}\n",
        "\n",
        "**Returns**:\n",
        "* A2 `[nNeurons_visual , nNeurons_motor]`: Weight  matrix of connectivity model (visual area to motor area)\n",
        "\n",
        "\n",
        "\\begin{align}\n",
        "\\mathbf{A2} = \n",
        "\\begin{bmatrix}\n",
        "\\theta_{1,1} & \\theta_{1,2}& \\dots \\ & \\theta_{1,m}\\\\\n",
        "\\theta_{2,1} & \\theta_{2,2}& \\dots & \\theta_{2,m}\\\\\n",
        "\\vdots & \\vdots  & \\dots & \\vdots\\\\\n",
        "\\theta_{n,1} & \\theta_{n,2}& \\dots & \\theta_{n,m}\\\\\n",
        "\\end{bmatrix}\n",
        "\\end{align}\n",
        "\n",
        "\n"
      ]
    },
    {
      "cell_type": "markdown",
      "metadata": {
        "id": "NEDL0rQzgtA4",
        "colab_type": "text"
      },
      "source": [
        "### Model Ridge (aka the first try!)\n",
        "\n",
        "Regularization with ridge penalty (L2).\n",
        "\n",
        "$$-\\log\\mathcal{L}'(\\theta | X, y)=\n",
        "-\\log\\mathcal{L}(\\theta | X, y) +\\frac\\beta2\\sum_i\\theta_i^2,\n",
        "$$\n",
        "\n"
      ]
    },
    {
      "cell_type": "code",
      "metadata": {
        "id": "KoKQv-eZ8j2g",
        "colab_type": "code",
        "cellView": "both",
        "colab": {
          "base_uri": "https://localhost:8080/",
          "height": 51
        },
        "outputId": "49109b80-b0ce-4842-9bfe-087b97fb12ae"
      },
      "source": [
        "# obtains motor areas matrix and sets model\n",
        "motor_dat = get_motor_ctx(data_set)\n",
        "ridge = Ridge(alpha=1,fit_intercept=False)\n",
        "# obtains weight matrix A2\n",
        "ridge.fit(visual_dat_hat, motor_dat) \n",
        "A2 = ridge.coef_.T\n",
        "# obtains prediction\n",
        "motor_dat_hat = visual_dat_hat@A2\n",
        "\n",
        "# MSE & R2\n",
        "print(\"ridge MSE:\", mean_squared_error(motor_dat, motor_dat_hat))\n",
        "print(\"ridge score:\",ridge.score(visual_dat_hat, motor_dat))\n"
      ],
      "execution_count": 11,
      "outputs": [
        {
          "output_type": "stream",
          "text": [
            "ridge MSE: 13.90247727923903\n",
            "ridge score: 0.07111341882142855\n"
          ],
          "name": "stdout"
        }
      ]
    },
    {
      "cell_type": "code",
      "metadata": {
        "id": "KnjOO-QEhdMX",
        "colab_type": "code",
        "cellView": "form",
        "colab": {
          "base_uri": "https://localhost:8080/",
          "height": 225
        },
        "outputId": "bbf895a6-0f21-4ba7-d052-dd8cbf67c079"
      },
      "source": [
        "#@markdown Cross-validation, cv=8\n",
        "num_splits =8\n",
        "accuracies_ridge = (cross_val_score(ridge, visual_dat_hat, motor_dat, cv=8))\n",
        "\n",
        "f, ax = plt.subplots(figsize=(8, 3))\n",
        "ax.boxplot(accuracies_ridge, vert=False, widths=.7)\n",
        "ax.scatter(accuracies_ridge, np.ones(num_splits))\n",
        "ax.set(\n",
        "  xlabel=\"R2\",\n",
        "  yticks=[],\n",
        "  title=f\"Average R2: {np.mean(accuracies_ridge):.3f}\"\n",
        ")\n",
        "ax.spines[\"left\"].set_visible(False)"
      ],
      "execution_count": 12,
      "outputs": [
        {
          "output_type": "display_data",
          "data": {
            "image/png": "[encoded data removed]",
            "text/plain": [
              "<Figure size 576x216 with 1 Axes>"
            ]
          },
          "metadata": {
            "tags": [],
            "needs_background": "light"
          }
        }
      ]
    },
    {
      "cell_type": "markdown",
      "metadata": {
        "id": "K1B2PApljk3d",
        "colab_type": "text"
      },
      "source": [
        "## Model Linear Regression \n",
        "\n",
        "\\begin{align}\n",
        "y = \\theta_0 + \\theta_1 x_1 + \\theta_1 x_2 + ... +\\theta_d x_d + \\epsilon\n",
        "\\end{align}"
      ]
    },
    {
      "cell_type": "code",
      "metadata": {
        "id": "OvsNgGHti1VL",
        "colab_type": "code",
        "cellView": "form",
        "colab": {
          "base_uri": "https://localhost:8080/",
          "height": 51
        },
        "outputId": "137d5660-5635-4994-f2f8-b06339712230"
      },
      "source": [
        "#@markdown  Linear Regression \n",
        "# obtains motor areas matrix and sets model\n",
        "model_A2_lin = LinearRegression(fit_intercept=False).fit(visual_dat_hat, motor_dat) \n",
        "\n",
        "A2_lin = model_A2_lin.coef_.T\n",
        "\n",
        "motor_dat_hat_lin = model_A2_lin.predict(visual_dat_hat)\n",
        "\n",
        "mse_A2_lin = mean_squared_error (motor_dat, motor_dat_hat_lin)\n",
        "\n",
        "r2_metrics_A2_lin =  sklearn.metrics.r2_score(motor_dat_hat,motor_dat_hat_lin)\n",
        "\n",
        "print(\"Linear MSE:\", mse_A2_lin) \n",
        "print(\"Linear R2:\",r2_metrics_A2_lin) "
      ],
      "execution_count": 13,
      "outputs": [
        {
          "output_type": "stream",
          "text": [
            "Linear MSE: 13.902474572650851\n",
            "Linear R2: 0.9999954194332061\n"
          ],
          "name": "stdout"
        }
      ]
    },
    {
      "cell_type": "code",
      "metadata": {
        "id": "1zHh-n9JlpLt",
        "colab_type": "code",
        "cellView": "form",
        "colab": {
          "base_uri": "https://localhost:8080/",
          "height": 225
        },
        "outputId": "ffe2edc0-3a82-4060-f89d-9fd055666246"
      },
      "source": [
        "#@markdown Cross-validation, cv=8\n",
        "num_splits =8\n",
        "accuracies_A2_lin = (cross_val_score(model_A2_lin, visual_dat_hat, motor_dat_hat, cv=8))\n",
        "\n",
        "f, ax = plt.subplots(figsize=(8, 3))\n",
        "ax.boxplot(accuracies_A2_lin, vert=False, widths=.7)\n",
        "ax.scatter(accuracies_A2_lin, np.ones(num_splits))\n",
        "ax.set(\n",
        "  xlabel=\"Accuracy\",\n",
        "  yticks=[],\n",
        "  title=f\"Average Accurary: {np.mean(accuracies_A2_lin):.3f}\"\n",
        ")\n",
        "ax.spines[\"left\"].set_visible(False)"
      ],
      "execution_count": 14,
      "outputs": [
        {
          "output_type": "display_data",
          "data": {
            "image/png": "[encoded data removed]",
            "text/plain": [
              "<Figure size 576x216 with 1 Axes>"
            ]
          },
          "metadata": {
            "tags": [],
            "needs_background": "light"
          }
        }
      ]
    },
    {
      "cell_type": "markdown",
      "metadata": {
        "id": "r1KLD6xRmfqH",
        "colab_type": "text"
      },
      "source": [
        "## Neural Network (third time lucky?)"
      ]
    },
    {
      "cell_type": "code",
      "metadata": {
        "id": "P0oe94rtmq4A",
        "colab_type": "code",
        "cellView": "form",
        "colab": {
          "base_uri": "https://localhost:8080/",
          "height": 382
        },
        "outputId": "33b483ce-930c-46c8-b813-c1d9c8d5bb24"
      },
      "source": [
        "#@markdown DeepNet\n",
        "import torch\n",
        "from torch import nn\n",
        "from torch import optim\n",
        "class DeepNet(nn.Module):\n",
        "  \"\"\"Deep Network with one hidden layer\n",
        "\n",
        "  Args:\n",
        "    n_inputs (int): number of input units\n",
        "    n_hidden (int): number of units in hidden layer\n",
        "\n",
        "  Attributes:\n",
        "    in_layer (nn.Linear): weights and biases of input layer\n",
        "    out_layer (nn.Linear): weights and biases of output layer\n",
        "\n",
        "  \"\"\"\n",
        "\n",
        "  def __init__(self, n_inputs, n_hidden, n_output):\n",
        "    super().__init__()  # needed to invoke the properties of the parent class nn.Module\n",
        "    self.in_layer = nn.Linear(n_inputs, n_hidden) # neural activity --> hidden units\n",
        "    self.out_layer = nn.Linear(n_hidden, n_output) # hidden units --> output\n",
        "\n",
        "  def forward(self, r):\n",
        "    \"\"\"Decode stimulus orientation from neural responses\n",
        "\n",
        "    Args:\n",
        "      r (torch.Tensor): vector of neural responses to decode, must be of\n",
        "        length n_inputs. Can also be a tensor of shape n_stimuli x n_inputs,\n",
        "        containing n_stimuli vectors of neural responses\n",
        "\n",
        "    Returns:\n",
        "      torch.Tensor: network outputs for each input provided in r. If\n",
        "        r is a vector, then y is a 1D tensor of length 1. If r is a 2D\n",
        "        tensor then y is a 2D tensor of shape n_stimuli x 1.\n",
        "\n",
        "    \"\"\"\n",
        "    h = torch.relu(self.in_layer(r))\n",
        "    #h = self.in_layer(r)  # hidden representation\n",
        "    y = self.out_layer(h)\n",
        "    return y \n",
        "\n",
        "def train(net, loss_fn, train_data, train_labels, n_iter=3000, learning_rate=1e-4):\n",
        "\n",
        "  # Initialize PyTorch SGD optimizer\n",
        "  optimizer = optim.SGD(net.parameters(), lr=learning_rate)\n",
        "\n",
        "  # Placeholder to save the loss at each iteration\n",
        "  track_loss = []\n",
        "\n",
        "  # Loop over epochs (cf. appendix)\n",
        "  for i in range(n_iter):\n",
        "\n",
        "    # Evaluate loss using loss_fn\n",
        "    out = net(train_data)  # compute network output from inputs in train_data\n",
        "    loss = loss_fn(out, train_labels)  # evaluate loss function\n",
        "\n",
        "    # Compute gradients\n",
        "    optimizer.zero_grad()\n",
        "    loss.backward()\n",
        "\n",
        "    # Update weights\n",
        "    optimizer.step()\n",
        "\n",
        "    # Store current value of loss\n",
        "    track_loss.append(loss.item())  # .item() needed to transform the tensor output of loss_fn to a scalar\n",
        "\n",
        "    # Track progress\n",
        "    if (i + 1) % (n_iter // 5) == 0:\n",
        "      print(f'iteration {i + 1}/{n_iter} | loss: {loss.item():.3f}')\n",
        "\n",
        "  return track_loss\n",
        "\n",
        "  # Set random seeds for reproducibility\n",
        "np.random.seed(1)\n",
        "torch.manual_seed(1)\n",
        "\n",
        "# Vamos de 34 \"neuronas\" a que expliquen la actividad de \"150\" neuronas durante 219 trials\n",
        "# Get total of neurons\n",
        "_ , n_motor = motor_dat.shape\n",
        "_, n_visual = visual_dat_hat.shape\n",
        "\n",
        "motor_tensor = torch.tensor(motor_dat, dtype=torch.float32) # Response\n",
        "\n",
        "#.unsqueeze(1)  # add singleton dimension to make a column vector <-- necesitamos esto?\n",
        "visual_hat_tensor = torch.tensor(visual_dat_hat, dtype=torch.float32) # Stimulus \n",
        "\n",
        "# Initialize network\n",
        "net = DeepNet(n_visual, 20, n_motor)\n",
        "\n",
        "# Initialize built-in PyTorch MSE loss function\n",
        "loss_fn = nn.MSELoss()\n",
        "\n",
        "# Run GD on data\n",
        "train_loss = train(net, loss_fn, visual_hat_tensor, motor_tensor )\n",
        "\n",
        "# Plot the training loss over iterations of GD\n",
        "plt.plot(train_loss)\n",
        "plt.xlim([0, None])#\n",
        "plt.ylim([0, None])\n",
        "plt.xlabel('iterations of gradient descent')\n",
        "plt.ylabel('mean squared error')\n",
        "plt.show()  "
      ],
      "execution_count": 15,
      "outputs": [
        {
          "output_type": "stream",
          "text": [
            "iteration 600/3000 | loss: 68.887\n",
            "iteration 1200/3000 | loss: 26.768\n",
            "iteration 1800/3000 | loss: 15.477\n",
            "iteration 2400/3000 | loss: 14.909\n",
            "iteration 3000/3000 | loss: 14.879\n"
          ],
          "name": "stdout"
        },
        {
          "output_type": "display_data",
          "data": {
            "image/png": "[encoded data removed]",
            "text/plain": [
              "<Figure size 432x288 with 1 Axes>"
            ]
          },
          "metadata": {
            "tags": [],
            "needs_background": "light"
          }
        }
      ]
    },
    {
      "cell_type": "markdown",
      "metadata": {
        "id": "yjIBZIjVo_qE",
        "colab_type": "text"
      },
      "source": [
        "# MODEL 3:  Decoding from motor \n",
        "Obtaining predicted motor that will be used on Model2\n",
        "\n",
        "Logistic Regression \n",
        "\n",
        "\n",
        "\n",
        "**Metrics:**\n",
        "*   Motor matrix `[nTrials x nNeurons]`: spikes rates of neurons from areas related to motor function. \n",
        "\n",
        "\\begin{align}\n",
        "\\mathbf{M} = \n",
        "\\begin{bmatrix}\n",
        "y_{1,1} & y_{1,2} & \\dots & y_{1,m}  \\\\\n",
        "y_{2,1} & y_{2,2}  & \\dots & y_{2,m} \\\\\n",
        "\\vdots & \\vdots  & \\dots & \\vdots\\\\\n",
        "y_{n,1} & y_{n,2} & \\dots  &  y_{n,m}\n",
        "\\end{bmatrix}\n",
        "\\end{align}\n",
        "\n",
        "\n",
        "*   Choice `[nTrials]`: 2 categories.  Task of turning a wheel to the left or to the rigth. *(NoGo trials were ignored for simplicity)*\n",
        "\n",
        "\\begin{align}\n",
        "\\mathbf{Choice} = \n",
        "\\begin{bmatrix}\n",
        "x_{1,1} & x_{1,2} & \\dots & x_{1,m}  \\\\\n",
        "\\end{bmatrix}\n",
        "\\end{align}\n",
        "\n",
        "\n",
        "\n",
        "**Returns**\n",
        "* A3 `[nNeurons]`: Weight vector\n",
        "\n",
        "\\begin{align}\n",
        "\\mathbf{A3} = \n",
        "\\begin{bmatrix}\n",
        "\\theta_{1,1} & \\theta_{1,2}& \\dots \\ & \\theta_{1,m}\\\\\n",
        "\\end{bmatrix}\n",
        "\\end{align}\n",
        "\n",
        "* Motor matrix hat `[nTrials x nNeurons]`: predicted spikes rates of neurons from areas related to motor function.\n",
        "\n",
        "\\begin{align}\n",
        "\\mathbf{\\hat M} = \n",
        "\\begin{bmatrix}\n",
        "y_{1,1} & y_{1,2} & \\dots & y_{1,m}  \\\\\n",
        "y_{2,1} & y_{2,2}  & \\dots & y_{2,m} \\\\\n",
        "\\vdots & \\vdots  & \\dots & \\vdots\\\\\n",
        "y_{n,1} & y_{n,2} & \\dots  &  y_{n,m}\n",
        "\\end{bmatrix}\n",
        "\\end{align}\n"
      ]
    },
    {
      "cell_type": "code",
      "metadata": {
        "id": "7kMkaM7KnaN-",
        "colab_type": "code",
        "colab": {
          "base_uri": "https://localhost:8080/",
          "height": 34
        },
        "outputId": "beac5625-6f64-49f0-b1f7-7f69088c2b52"
      },
      "source": [
        "# obtenemos matrices 'y' y 'x'\n",
        "motor_dat = get_motor_ctx(data_set)\n",
        "choice = data_set[\"response\"]>0\n",
        "#definimos el modelo & ajustamos los datos\n",
        "model_A3 = LogisticRegression(fit_intercept=False,max_iter=5000).fit(motor_dat, choice)\n",
        "A3 = model_A3.coef_.T\n",
        "choice_hat = (sigmoid(motor_dat @ A3)>0.5).flatten()\n",
        "#choice_hat = model_A3.predict(motor_dat)\n",
        "acc = np.mean(choice==choice_hat)\n",
        "print(\"ACC: {}\".format(acc))\n",
        "#print(\"MSE: {}\".format(mse_A3))"
      ],
      "execution_count": 16,
      "outputs": [
        {
          "output_type": "stream",
          "text": [
            "ACC: 1.0\n"
          ],
          "name": "stdout"
        }
      ]
    },
    {
      "cell_type": "markdown",
      "metadata": {
        "id": "Y717Zs5PYPBA",
        "colab_type": "text"
      },
      "source": [
        "# Integrated Model\n",
        "$$ \\hat{choice} = sigmoid(stim A1 A2 A3) $$\n",
        "\n",
        "**Metrics**\n",
        "* stim `[nTrials x 3]` :  Visual stimulus, contrast on left and right\n",
        "\n",
        "\\begin{align}\n",
        "\\mathbf{X} = \n",
        "\\begin{bmatrix}\n",
        "1 & x_{1,1} & x_{1,2}  \\\\\n",
        "1 & x_{2,1} & x_{2,2} \\\\\n",
        "\\vdots & \\vdots & \\vdots \\\\\n",
        "1 & x_{n,1} & x_{n,2}\n",
        "\\end{bmatrix}\n",
        "\\end{align}\n",
        "\n",
        "\n",
        "* A1 `[3 x nNeurons_visual]` : Weight matrix of encoding model (visual stimulus to visual area)\n",
        "\n",
        "\\begin{align}\n",
        "\\mathbf{A1} = \n",
        "\\begin{bmatrix}\n",
        "\\theta_{1,1} & \\theta_{1,2}& \\dots \\ & \\theta_{1,m}\\\\\n",
        "\\theta_{2,1} & \\theta_{2,2}& \\dots & \\theta_{2,m}\\\\\n",
        "\\theta_{3,1} & \\theta_{3,2}& \\dots & \\theta_{3,m}\\\\\n",
        "\\end{bmatrix}\n",
        "\\end{align}\n",
        "\n",
        "\n",
        "* A2 `[nNeurons_visual , nNeurons_motor]`: Weight  matrix of connectivity model (visual area to motor area)\n",
        "\n",
        "\\begin{align}\n",
        "\\mathbf{A2} = \n",
        "\\begin{bmatrix}\n",
        "\\theta_{1,1} & \\theta_{1,2}& \\dots \\ & \\theta_{1,m}\\\\\n",
        "\\theta_{2,1} & \\theta_{2,2}& \\dots & \\theta_{2,m}\\\\\n",
        "\\vdots & \\vdots  & \\dots & \\vdots\\\\\n",
        "\\theta_{n,1} & \\theta_{n,2}& \\dots & \\theta_{n,m}\\\\\n",
        "\\end{bmatrix}\n",
        "\\end{align}\n",
        "\n",
        "\n",
        "* A3 `[nNeurons_motor]`: Weight vector of decoding model (motor area to task response)\n",
        "\n",
        "\\begin{align}\n",
        "\\mathbf{A3} = \n",
        "\\begin{bmatrix}\n",
        "\\theta_{1,1} & \\theta_{1,2}& \\dots \\ & \\theta_{1,m}\\\\\n",
        "\\end{bmatrix}\n",
        "\\end{align}\n"
      ]
    },
    {
      "cell_type": "code",
      "metadata": {
        "id": "UkEZ_DfXE9TW",
        "colab_type": "code",
        "colab": {
          "base_uri": "https://localhost:8080/",
          "height": 34
        },
        "outputId": "afa4319b-fc39-4edf-ad66-0a670ab8701b"
      },
      "source": [
        "choice_hat = (sigmoid(stim @ A1 @ A2 @ A3)>0.5).flatten()\n",
        "acc = np.mean(choice==choice_hat)\n",
        "print(\"ACC: {}\".format(acc))"
      ],
      "execution_count": 17,
      "outputs": [
        {
          "output_type": "stream",
          "text": [
            "ACC: 0.8721461187214612\n"
          ],
          "name": "stdout"
        }
      ]
    },
    {
      "cell_type": "code",
      "metadata": {
        "id": "xL6gRD18JWLE",
        "colab_type": "code",
        "cellView": "form",
        "colab": {
          "base_uri": "https://localhost:8080/",
          "height": 296
        },
        "outputId": "3f91755d-ec48-4ad5-ce15-e9399a78393a"
      },
      "source": [
        "#@title Behavior Accuracy \n",
        "data_hat_set =  {\n",
        "      \"stims\": stim, \n",
        "      \"response\": choice_hat*2 -1 \n",
        "      }\n",
        "\n",
        "binary_resp_behav=get_binary_response(data_set)\n",
        "acc_behav= 100*(np.sum(binary_resp_behav==True)/len(binary_resp_behav))\n",
        "\n",
        "binary_resp_model=get_binary_response(data_hat_set)\n",
        "acc_behav_model= 100*(np.sum(binary_resp_model==True)/len(binary_resp_model))\n",
        "\n",
        "\n",
        "labels = [\"Behavior\", \"Model\"]\n",
        "#x = np.arange(len(labels))  # the label locations\n",
        "width = 0.15  # the width of the bars\n",
        "\n",
        "fig, ax = plt.subplots()\n",
        "\n",
        "rects1 = ax.bar( \"Real\", acc_behav,  label='Real')\n",
        "\n",
        "rects2 = ax.bar(\"Model\" , acc_behav_model,  label='Model')\n",
        "\n",
        "# Add some text for labels, title and custom x-axis tick labels, etc.\n",
        "ax.set_ylabel('Correct Answers %')\n",
        "\n",
        "\n",
        "ax.legend()\n",
        "\n",
        "\n",
        "def autolabel(rects):\n",
        "    \"\"\"Attach a text label above each bar in *rects*, displaying its height.\"\"\"\n",
        "    for rect in rects:\n",
        "        height = rect.get_height()\n",
        "        ax.annotate('{:.2f}%'.format(height),\n",
        "                    xy=(rect.get_x() + rect.get_width() / 2, height),\n",
        "                    xytext=(0, 3),  # 3 points vertical offset\n",
        "                    textcoords=\"offset points\",\n",
        "                    ha='center', va='bottom')\n",
        "\n",
        "\n",
        "autolabel(rects1)\n",
        "autolabel(rects2)\n",
        "\n",
        "plt.show()"
      ],
      "execution_count": 18,
      "outputs": [
        {
          "output_type": "display_data",
          "data": {
            "image/png": "[encoded data removed]",
            "text/plain": [
              "<Figure size 432x288 with 1 Axes>"
            ]
          },
          "metadata": {
            "tags": [],
            "needs_background": "light"
          }
        }
      ]
    },
    {
      "cell_type": "markdown",
      "metadata": {
        "id": "T40uVZxVryLg",
        "colab_type": "text"
      },
      "source": [
        "# Perturbations\n",
        "\n",
        "*  A1, A2 or A3 matrixes were randomly perturbated, setting  to 0.\n",
        "\n",
        "Example, 50% of perturbation \n",
        "\n",
        "\\begin{align}\n",
        "\\mathbf{Ax} = \n",
        "\\begin{bmatrix}\n",
        "0_{1,1} & \\theta_{1,2}& \\ 0_{1,3}& 0_{1,4}\\\\\n",
        "\\theta_{2,1} & 0_{2,2} & \\ 0_{2,3}& \\theta_{2,4}\\\\\n",
        "0_{3,1} & \\theta_{3,2} & \\theta_{3,3}& \\theta_{3,4}\\\\\n",
        "\\end{bmatrix}\n",
        "\\end{align}\n"
      ]
    },
    {
      "cell_type": "code",
      "metadata": {
        "id": "WSXM73MXrx69",
        "colab_type": "code",
        "colab": {}
      },
      "source": [
        "def simulate_pertubations(weight_matrix, pct_lesion):\n",
        "  n_rows,n_cols = weight_matrix.shape\n",
        "  X = np.array(weight_matrix) # make a deep copy\n",
        "  X[np.random.rand(n_rows,n_cols)<pct_lesion]=0\n",
        "  return X"
      ],
      "execution_count": 19,
      "outputs": []
    },
    {
      "cell_type": "code",
      "metadata": {
        "id": "dYPWicwHrMI1",
        "colab_type": "code",
        "cellView": "form",
        "colab": {
          "base_uri": "https://localhost:8080/",
          "height": 195
        },
        "outputId": "6b9fa76f-e1e1-47f3-88ee-8ef9600348ae"
      },
      "source": [
        "#@markdown Example of the perturbations on our weigth matrixes\n",
        "from mpl_toolkits.axes_grid1 import make_axes_locatable\n",
        "X= A1\n",
        "X_perturbed = simulate_pertubations(A1, .5)\n",
        "\n",
        "fig, axs = plt.subplots(1, 2, figsize=(15, 4))\n",
        "im0 = axs[0].imshow(X[:, :10])\n",
        "im1 = axs[1].imshow(X_perturbed[:, :10])\n",
        "\n",
        "divider = make_axes_locatable(axs[0])\n",
        "cax0 = divider.append_axes(\"right\", size=\"5%\", pad=0.15)\n",
        "plt.colorbar(im0, cax=cax0)\n",
        "divider = make_axes_locatable(axs[1])\n",
        "cax1 = divider.append_axes(\"right\", size=\"5%\", pad=0.15)\n",
        "plt.colorbar(im1, cax=cax1)\n",
        "axs[0].set_ylabel(\"Stimulus\")\n",
        "axs[1].set_xlabel(\"Neurons\")\n",
        "axs[0].set_xlabel(\"Neurons\");\n",
        "axs[0].set_title(\"Model Weights\", )\n",
        "axs[1].set_title(\"Weights at 50% perturbation\");"
      ],
      "execution_count": 20,
      "outputs": [
        {
          "output_type": "display_data",
          "data": {
            "image/png": "[encoded data removed]",
            "text/plain": [
              "<Figure size 1080x288 with 4 Axes>"
            ]
          },
          "metadata": {
            "tags": [],
            "needs_background": "light"
          }
        }
      ]
    },
    {
      "cell_type": "code",
      "metadata": {
        "id": "sIglNJDrr9fR",
        "colab_type": "code",
        "colab": {
          "base_uri": "https://localhost:8080/",
          "height": 297
        },
        "outputId": "d760d2ca-d0f0-42ef-b226-713d54850082"
      },
      "source": [
        "pct_lesions = np.linspace(.05, .99, 100)\n",
        "\n",
        "n_sims = 100\n",
        "acc_m = np.zeros((len(pct_lesions), 3))\n",
        "\n",
        "for index,  pct_lesion in enumerate(pct_lesions):\n",
        "  acc = np.zeros((3,100))\n",
        "  for sim in range(n_sims):\n",
        "    p_A1= simulate_pertubations(A1, pct_lesion) # p_A1 matrix of 0's\n",
        "    p_A2= simulate_pertubations(A2, pct_lesion)\n",
        "    p_A3= simulate_pertubations(A3, pct_lesion)\n",
        "    p_choice = (sigmoid(stim @ p_A1 @ A2 @ A3)>0.5).flatten()\n",
        "    acc[0,sim] = np.mean(choice==p_choice)\n",
        "    p2_choice = (sigmoid(stim @ A1 @ p_A2 @ A3)>0.5).flatten()\n",
        "    acc[1,sim] = np.mean(choice==p2_choice)\n",
        "    p3_choice = (sigmoid(stim @ A1 @ A2 @ p_A3)>0.5).flatten()\n",
        "    acc[2,sim] = np.mean(choice==p3_choice)\n",
        "  \n",
        "  acc_m[index] = np.median(acc,axis=1)\n",
        "\n",
        "acc_m = acc_m.T\n",
        "plt.plot(acc_m[0], label=\"Stim-Visual\", color='blue', ) # A1\n",
        "plt.plot(acc_m[1], label=\"Visual-Motor\", color='green') \n",
        "plt.plot(acc_m[2], label=\"Motor-Choice\", color='red')\n",
        "plt.legend()\n",
        "\n",
        "plt.xlabel('% of perturbation')\n",
        "plt.ylabel('Median accuracy')\n",
        "plt.show()  "
      ],
      "execution_count": 21,
      "outputs": [
        {
          "output_type": "display_data",
          "data": {
            "image/png": "[encoded data removed]",
            "text/plain": [
              "<Figure size 432x288 with 1 Axes>"
            ]
          },
          "metadata": {
            "tags": [],
            "needs_background": "light"
          }
        }
      ]
    },
    {
      "cell_type": "code",
      "metadata": {
        "id": "fT98qPCW5Q92",
        "colab_type": "code",
        "colab": {
          "base_uri": "https://localhost:8080/",
          "height": 297
        },
        "outputId": "fb32bac4-e1ee-4c3d-f155-ed77fe79102d"
      },
      "source": [
        "import seaborn as sns\n",
        "import pandas as pd\n",
        "acc_df = pd.DataFrame()\n",
        "acc_df['acc'] = acc.flatten()\n",
        "acc_df['matrix'] = np.repeat(['A1','A2','A3'],n_sims)\n",
        "ax = sns.stripplot(x='matrix',y='acc',data=acc_df,alpha=0.4)\n",
        "ax = sns.violinplot(x='matrix',y='acc',data=acc_df,ax=ax,color='white',inner='quartile')"
      ],
      "execution_count": 22,
      "outputs": [
        {
          "output_type": "display_data",
          "data": {
            "image/png": "[encoded data removed]",
            "text/plain": [
              "<Figure size 432x288 with 1 Axes>"
            ]
          },
          "metadata": {
            "tags": [],
            "needs_background": "light"
          }
        }
      ]
    }
  ]
}