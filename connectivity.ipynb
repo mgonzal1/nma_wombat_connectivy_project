{
  "nbformat": 4,
  "nbformat_minor": 0,
  "metadata": {
    "colab": {
      "name": "Untitled0.ipynb",
      "provenance": [],
      "include_colab_link": true
    },
    "kernelspec": {
      "name": "python3",
      "display_name": "Python 3"
    },
    "widgets": {
      "application/vnd.jupyter.widget-state+json": {
        "a4b31d5fe71143f6bf3f71ab495c9ae9": {
          "model_module": "@jupyter-widgets/controls",
          "model_name": "VBoxModel",
          "state": {
            "_view_name": "VBoxView",
            "_dom_classes": [
              "widget-interact"
            ],
            "_model_name": "VBoxModel",
            "_view_module": "@jupyter-widgets/controls",
            "_model_module_version": "1.5.0",
            "_view_count": null,
            "_view_module_version": "1.5.0",
            "box_style": "",
            "layout": "IPY_MODEL_44caa35f9669472297c3144a5af87c1a",
            "_model_module": "@jupyter-widgets/controls",
            "children": [
              "IPY_MODEL_0b71d766b75041d6a98275306627b979",
              "IPY_MODEL_ec3a6670b3724bd9ae5dbaa6f1b8a1de"
            ]
          }
        },
        "44caa35f9669472297c3144a5af87c1a": {
          "model_module": "@jupyter-widgets/base",
          "model_name": "LayoutModel",
          "state": {
            "_view_name": "LayoutView",
            "grid_template_rows": null,
            "right": null,
            "justify_content": null,
            "_view_module": "@jupyter-widgets/base",
            "overflow": null,
            "_model_module_version": "1.2.0",
            "_view_count": null,
            "flex_flow": null,
            "width": null,
            "min_width": null,
            "border": null,
            "align_items": null,
            "bottom": null,
            "_model_module": "@jupyter-widgets/base",
            "top": null,
            "grid_column": null,
            "overflow_y": null,
            "overflow_x": null,
            "grid_auto_flow": null,
            "grid_area": null,
            "grid_template_columns": null,
            "flex": null,
            "_model_name": "LayoutModel",
            "justify_items": null,
            "grid_row": null,
            "max_height": null,
            "align_content": null,
            "visibility": null,
            "align_self": null,
            "height": null,
            "min_height": null,
            "padding": null,
            "grid_auto_rows": null,
            "grid_gap": null,
            "max_width": null,
            "order": null,
            "_view_module_version": "1.2.0",
            "grid_template_areas": null,
            "object_position": null,
            "object_fit": null,
            "grid_auto_columns": null,
            "margin": null,
            "display": null,
            "left": null
          }
        },
        "0b71d766b75041d6a98275306627b979": {
          "model_module": "@jupyter-widgets/controls",
          "model_name": "IntSliderModel",
          "state": {
            "_view_name": "IntSliderView",
            "style": "IPY_MODEL_30aab07a65884dada4e86639c0340c3d",
            "_dom_classes": [],
            "description": "min_areas",
            "step": 1,
            "_model_name": "IntSliderModel",
            "orientation": "horizontal",
            "max": 7,
            "_view_module": "@jupyter-widgets/controls",
            "_model_module_version": "1.5.0",
            "value": 5,
            "_view_count": null,
            "disabled": false,
            "_view_module_version": "1.5.0",
            "min": 0,
            "continuous_update": true,
            "readout_format": "d",
            "description_tooltip": null,
            "readout": true,
            "_model_module": "@jupyter-widgets/controls",
            "layout": "IPY_MODEL_99b4b822e28949f9a1223598f1722ae4"
          }
        },
        "ec3a6670b3724bd9ae5dbaa6f1b8a1de": {
          "model_module": "@jupyter-widgets/output",
          "model_name": "OutputModel",
          "state": {
            "_view_name": "OutputView",
            "msg_id": "",
            "_dom_classes": [],
            "_model_name": "OutputModel",
            "outputs": [
              {
                "output_type": "stream",
                "metadata": {
                  "tags": []
                },
                "text": "\nSession: 12 Total neurons: 983\n",
                "stream": "stdout"
              }
            ],
            "_view_module": "@jupyter-widgets/output",
            "_model_module_version": "1.0.0",
            "_view_count": null,
            "_view_module_version": "1.0.0",
            "layout": "IPY_MODEL_2756c23bf2e2426cad30467b336af5e7",
            "_model_module": "@jupyter-widgets/output"
          }
        },
        "30aab07a65884dada4e86639c0340c3d": {
          "model_module": "@jupyter-widgets/controls",
          "model_name": "SliderStyleModel",
          "state": {
            "_view_name": "StyleView",
            "handle_color": null,
            "_model_name": "SliderStyleModel",
            "description_width": "",
            "_view_module": "@jupyter-widgets/base",
            "_model_module_version": "1.5.0",
            "_view_count": null,
            "_view_module_version": "1.2.0",
            "_model_module": "@jupyter-widgets/controls"
          }
        },
        "99b4b822e28949f9a1223598f1722ae4": {
          "model_module": "@jupyter-widgets/base",
          "model_name": "LayoutModel",
          "state": {
            "_view_name": "LayoutView",
            "grid_template_rows": null,
            "right": null,
            "justify_content": null,
            "_view_module": "@jupyter-widgets/base",
            "overflow": null,
            "_model_module_version": "1.2.0",
            "_view_count": null,
            "flex_flow": null,
            "width": null,
            "min_width": null,
            "border": null,
            "align_items": null,
            "bottom": null,
            "_model_module": "@jupyter-widgets/base",
            "top": null,
            "grid_column": null,
            "overflow_y": null,
            "overflow_x": null,
            "grid_auto_flow": null,
            "grid_area": null,
            "grid_template_columns": null,
            "flex": null,
            "_model_name": "LayoutModel",
            "justify_items": null,
            "grid_row": null,
            "max_height": null,
            "align_content": null,
            "visibility": null,
            "align_self": null,
            "height": null,
            "min_height": null,
            "padding": null,
            "grid_auto_rows": null,
            "grid_gap": null,
            "max_width": null,
            "order": null,
            "_view_module_version": "1.2.0",
            "grid_template_areas": null,
            "object_position": null,
            "object_fit": null,
            "grid_auto_columns": null,
            "margin": null,
            "display": null,
            "left": null
          }
        },
        "2756c23bf2e2426cad30467b336af5e7": {
          "model_module": "@jupyter-widgets/base",
          "model_name": "LayoutModel",
          "state": {
            "_view_name": "LayoutView",
            "grid_template_rows": null,
            "right": null,
            "justify_content": null,
            "_view_module": "@jupyter-widgets/base",
            "overflow": null,
            "_model_module_version": "1.2.0",
            "_view_count": null,
            "flex_flow": null,
            "width": null,
            "min_width": null,
            "border": null,
            "align_items": null,
            "bottom": null,
            "_model_module": "@jupyter-widgets/base",
            "top": null,
            "grid_column": null,
            "overflow_y": null,
            "overflow_x": null,
            "grid_auto_flow": null,
            "grid_area": null,
            "grid_template_columns": null,
            "flex": null,
            "_model_name": "LayoutModel",
            "justify_items": null,
            "grid_row": null,
            "max_height": null,
            "align_content": null,
            "visibility": null,
            "align_self": null,
            "height": null,
            "min_height": null,
            "padding": null,
            "grid_auto_rows": null,
            "grid_gap": null,
            "max_width": null,
            "order": null,
            "_view_module_version": "1.2.0",
            "grid_template_areas": null,
            "object_position": null,
            "object_fit": null,
            "grid_auto_columns": null,
            "margin": null,
            "display": null,
            "left": null
          }
        },
        "2e37744b28ba4abeb5578739bd1be757": {
          "model_module": "@jupyter-widgets/controls",
          "model_name": "VBoxModel",
          "state": {
            "_view_name": "VBoxView",
            "_dom_classes": [
              "widget-interact"
            ],
            "_model_name": "VBoxModel",
            "_view_module": "@jupyter-widgets/controls",
            "_model_module_version": "1.5.0",
            "_view_count": null,
            "_view_module_version": "1.5.0",
            "box_style": "",
            "layout": "IPY_MODEL_14ad9cff915f44838f588055e4c59526",
            "_model_module": "@jupyter-widgets/controls",
            "children": [
              "IPY_MODEL_618a64e836174e1a81212bbbab7e9b32",
              "IPY_MODEL_ba61d773be7d45f590504fe1b7addcbf"
            ]
          }
        },
        "14ad9cff915f44838f588055e4c59526": {
          "model_module": "@jupyter-widgets/base",
          "model_name": "LayoutModel",
          "state": {
            "_view_name": "LayoutView",
            "grid_template_rows": null,
            "right": null,
            "justify_content": null,
            "_view_module": "@jupyter-widgets/base",
            "overflow": null,
            "_model_module_version": "1.2.0",
            "_view_count": null,
            "flex_flow": null,
            "width": null,
            "min_width": null,
            "border": null,
            "align_items": null,
            "bottom": null,
            "_model_module": "@jupyter-widgets/base",
            "top": null,
            "grid_column": null,
            "overflow_y": null,
            "overflow_x": null,
            "grid_auto_flow": null,
            "grid_area": null,
            "grid_template_columns": null,
            "flex": null,
            "_model_name": "LayoutModel",
            "justify_items": null,
            "grid_row": null,
            "max_height": null,
            "align_content": null,
            "visibility": null,
            "align_self": null,
            "height": null,
            "min_height": null,
            "padding": null,
            "grid_auto_rows": null,
            "grid_gap": null,
            "max_width": null,
            "order": null,
            "_view_module_version": "1.2.0",
            "grid_template_areas": null,
            "object_position": null,
            "object_fit": null,
            "grid_auto_columns": null,
            "margin": null,
            "display": null,
            "left": null
          }
        },
        "618a64e836174e1a81212bbbab7e9b32": {
          "model_module": "@jupyter-widgets/controls",
          "model_name": "IntSliderModel",
          "state": {
            "_view_name": "IntSliderView",
            "style": "IPY_MODEL_23b6a390ee1441b5af1ad723977690a0",
            "_dom_classes": [],
            "description": "num_splits",
            "step": 1,
            "_model_name": "IntSliderModel",
            "orientation": "horizontal",
            "max": 50,
            "_view_module": "@jupyter-widgets/controls",
            "_model_module_version": "1.5.0",
            "value": 25,
            "_view_count": null,
            "disabled": false,
            "_view_module_version": "1.5.0",
            "min": 0,
            "continuous_update": true,
            "readout_format": "d",
            "description_tooltip": null,
            "readout": true,
            "_model_module": "@jupyter-widgets/controls",
            "layout": "IPY_MODEL_4ce50c0409c945b981c5773a07d3473d"
          }
        },
        "ba61d773be7d45f590504fe1b7addcbf": {
          "model_module": "@jupyter-widgets/output",
          "model_name": "OutputModel",
          "state": {
            "_view_name": "OutputView",
            "msg_id": "",
            "_dom_classes": [],
            "_model_name": "OutputModel",
            "outputs": [
              {
                "output_type": "display_data",
                "metadata": {
                  "tags": [],
                  "needs_background": "light"
                },
                "image/png": "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\n",
                "text/plain": "<Figure size 1440x288 with 1 Axes>"
              }
            ],
            "_view_module": "@jupyter-widgets/output",
            "_model_module_version": "1.0.0",
            "_view_count": null,
            "_view_module_version": "1.0.0",
            "layout": "IPY_MODEL_ef776d4df5e04b6ca97876a915749250",
            "_model_module": "@jupyter-widgets/output"
          }
        },
        "23b6a390ee1441b5af1ad723977690a0": {
          "model_module": "@jupyter-widgets/controls",
          "model_name": "SliderStyleModel",
          "state": {
            "_view_name": "StyleView",
            "handle_color": null,
            "_model_name": "SliderStyleModel",
            "description_width": "",
            "_view_module": "@jupyter-widgets/base",
            "_model_module_version": "1.5.0",
            "_view_count": null,
            "_view_module_version": "1.2.0",
            "_model_module": "@jupyter-widgets/controls"
          }
        },
        "4ce50c0409c945b981c5773a07d3473d": {
          "model_module": "@jupyter-widgets/base",
          "model_name": "LayoutModel",
          "state": {
            "_view_name": "LayoutView",
            "grid_template_rows": null,
            "right": null,
            "justify_content": null,
            "_view_module": "@jupyter-widgets/base",
            "overflow": null,
            "_model_module_version": "1.2.0",
            "_view_count": null,
            "flex_flow": null,
            "width": null,
            "min_width": null,
            "border": null,
            "align_items": null,
            "bottom": null,
            "_model_module": "@jupyter-widgets/base",
            "top": null,
            "grid_column": null,
            "overflow_y": null,
            "overflow_x": null,
            "grid_auto_flow": null,
            "grid_area": null,
            "grid_template_columns": null,
            "flex": null,
            "_model_name": "LayoutModel",
            "justify_items": null,
            "grid_row": null,
            "max_height": null,
            "align_content": null,
            "visibility": null,
            "align_self": null,
            "height": null,
            "min_height": null,
            "padding": null,
            "grid_auto_rows": null,
            "grid_gap": null,
            "max_width": null,
            "order": null,
            "_view_module_version": "1.2.0",
            "grid_template_areas": null,
            "object_position": null,
            "object_fit": null,
            "grid_auto_columns": null,
            "margin": null,
            "display": null,
            "left": null
          }
        },
        "ef776d4df5e04b6ca97876a915749250": {
          "model_module": "@jupyter-widgets/base",
          "model_name": "LayoutModel",
          "state": {
            "_view_name": "LayoutView",
            "grid_template_rows": null,
            "right": null,
            "justify_content": null,
            "_view_module": "@jupyter-widgets/base",
            "overflow": null,
            "_model_module_version": "1.2.0",
            "_view_count": null,
            "flex_flow": null,
            "width": null,
            "min_width": null,
            "border": null,
            "align_items": null,
            "bottom": null,
            "_model_module": "@jupyter-widgets/base",
            "top": null,
            "grid_column": null,
            "overflow_y": null,
            "overflow_x": null,
            "grid_auto_flow": null,
            "grid_area": null,
            "grid_template_columns": null,
            "flex": null,
            "_model_name": "LayoutModel",
            "justify_items": null,
            "grid_row": null,
            "max_height": null,
            "align_content": null,
            "visibility": null,
            "align_self": null,
            "height": null,
            "min_height": null,
            "padding": null,
            "grid_auto_rows": null,
            "grid_gap": null,
            "max_width": null,
            "order": null,
            "_view_module_version": "1.2.0",
            "grid_template_areas": null,
            "object_position": null,
            "object_fit": null,
            "grid_auto_columns": null,
            "margin": null,
            "display": null,
            "left": null
          }
        }
      }
    }
  },
  "cells": [
    {
      "cell_type": "markdown",
      "metadata": {
        "id": "view-in-github",
        "colab_type": "text"
      },
      "source": [
        "<a href=\"https://colab.research.google.com/github/mgonzal1/nma_wombat_connectivy_project/blob/master/connectivity.ipynb\" target=\"_parent\"><img src=\"https://colab.research.google.com/assets/colab-badge.svg\" alt=\"Open In Colab\"/></a>"
      ]
    },
    {
      "cell_type": "code",
      "metadata": {
        "id": "o5E0jLc0DVAC",
        "colab_type": "code",
        "cellView": "form",
        "colab": {}
      },
      "source": [
        "#@title import matplotlib and set defaults\n",
        "from matplotlib import rcParams \n",
        "from matplotlib import pyplot as plt\n",
        "from sklearn.linear_model import LinearRegression\n",
        "from sklearn.linear_model import LogisticRegression\n",
        "from sklearn.model_selection import cross_val_score\n",
        "from sklearn.model_selection import KFold\n",
        "import sklearn.metrics\n",
        "import ipywidgets as widgets \n",
        "import numpy as np\n",
        "rcParams['figure.figsize'] = [20, 4]\n",
        "rcParams['font.size'] =15\n",
        "rcParams['axes.spines.top'] = False\n",
        "rcParams['axes.spines.right'] = False\n",
        "rcParams['figure.autolayout'] = True"
      ],
      "execution_count": null,
      "outputs": []
    },
    {
      "cell_type": "code",
      "metadata": {
        "id": "Pxau-hjxDYpV",
        "colab_type": "code",
        "cellView": "form",
        "colab": {}
      },
      "source": [
        "#@title Data retrieval\n",
        "import os, requests\n",
        "\n",
        "fname = []\n",
        "for j in range(3):\n",
        "  fname.append('steinmetz_part%d.npz'%j)\n",
        "url = [\"https://osf.io/agvxh/download\"]\n",
        "url.append(\"https://osf.io/uv3mw/download\")\n",
        "url.append(\"https://osf.io/ehmw2/download\")\n",
        "\n",
        "for j in range(len(url)):\n",
        "  if not os.path.isfile(fname[j]):\n",
        "    try:\n",
        "      r = requests.get(url[j])\n",
        "    except requests.ConnectionError:\n",
        "      print(\"!!! Failed to download data !!!\")\n",
        "    else:\n",
        "      if r.status_code != requests.codes.ok:\n",
        "        print(\"!!! Failed to download data !!!\")\n",
        "      else:\n",
        "        with open(fname[j], \"wb\") as fid:\n",
        "          fid.write(r.content)\n",
        "\n",
        "\n",
        "\n",
        "alldat = np.array([])\n",
        "for j in range(len(fname)):\n",
        "  alldat = np.hstack((alldat, np.load('steinmetz_part%d.npz'%j, allow_pickle=True)['dat']))"
      ],
      "execution_count": null,
      "outputs": []
    },
    {
      "cell_type": "code",
      "metadata": {
        "id": "zOpjXvjqbDWr",
        "colab_type": "code",
        "cellView": "form",
        "colab": {
          "base_uri": "https://localhost:8080/",
          "height": 83,
          "referenced_widgets": [
            "a4b31d5fe71143f6bf3f71ab495c9ae9",
            "44caa35f9669472297c3144a5af87c1a",
            "0b71d766b75041d6a98275306627b979",
            "ec3a6670b3724bd9ae5dbaa6f1b8a1de",
            "30aab07a65884dada4e86639c0340c3d",
            "99b4b822e28949f9a1223598f1722ae4",
            "2756c23bf2e2426cad30467b336af5e7"
          ]
        },
        "outputId": "81122569-c3f4-4f7c-cf9d-9ee92b80b879"
      },
      "source": [
        "#@title Representative session\n",
        "#@markdown As first step, lets choose 1 session to start trainning the model. Let's see which session has more neurons in the areas that we are going to use and how many neurons it has.\n",
        "@widgets.interact\n",
        "def get_representative_session(min_areas=(0,7)):\n",
        "  \"\"\" To simplify the model we are selecting a session recording with most of the regions represented.\n",
        "    This interactive function help us to decide the session based on the minimal regions represented and number of \n",
        "    total neurons recorded.\n",
        "\n",
        "  \"\"\"\n",
        "  print(\"\")\n",
        "  brain_groups = [[\"VISa\", \"VISam\", \"VISl\", \"VISp\", \"VISpm\", \"VISrl\"], # visual cortex\n",
        "                  [\"CL\", \"LD\", \"LGd\", \"LH\", \"LP\", \"MD\", \"MG\", \"PO\", \"POL\", \"PT\", \"RT\", \"SPF\", \"TH\", \"VAL\", \"VPL\", \"VPM\"], # thalamus\n",
        "                  [\"CA\", \"CA1\", \"CA2\", \"CA3\", \"DG\", \"SUB\", \"POST\"], # hippocampal\n",
        "                  [\"ACA\", \"AUD\", \"COA\", \"DP\", \"ILA\", \"MOp\", \"MOs\", \"OLF\", \"ORB\", \"ORBm\", \"PIR\", \"PL\", \"SSp\", \"SSs\", \"RSP\",\" TT\"], # non-visual cortex\n",
        "                  [\"APN\", \"IC\", \"MB\", \"MRN\", \"NB\", \"PAG\", \"RN\", \"SCs\", \"SCm\", \"SCig\", \"SCsg\", \"ZI\"], # midbrain\n",
        "                  [\"ACB\", \"CP\", \"GPe\", \"LS\", \"LSc\", \"LSr\", \"MS\", \"OT\", \"SNr\", \"SI\"], # basal ganglia \n",
        "                  [\"BLA\", \"BMA\", \"EP\", \"EPd\", \"MEA\"] # cortical subplate\n",
        "                  ]\n",
        "  regions = [\"visual ctx\", \"thal\", \"hipp\", \"non-visual ctx\", \"midbrain\", \"basal ganglia\", \"cortical subplate\"]\n",
        "  for i in range (0,38):\n",
        "    session = alldat[i]\n",
        "    brain_areas = set(session['brain_area'])\n",
        "    representative = []\n",
        "    neurons_in_area = []\n",
        "    for group in brain_groups:\n",
        "        representative.append(any(area in brain_areas for area in group))\n",
        "    \n",
        "    if(representative.count(True)>min_areas):\n",
        "      print(\"Session:\" , i, \"Total neurons:\",session['brain_area'].shape[0])\n",
        "      #labels, sizes = np.unique(session['brain_area'], return_counts=True)\n",
        "      #print(sizes)\n",
        "      #fig = plt.figure()\n",
        "      #ax = fig.add_axes([0,0,1,1])\n",
        "      #ax.bar(regions,representative)\n",
        "      #ax.set_title(\"Session {}\".format(i))\n",
        "      #plt.show()\n"
      ],
      "execution_count": null,
      "outputs": [
        {
          "output_type": "display_data",
          "data": {
            "application/vnd.jupyter.widget-view+json": {
              "model_id": "a4b31d5fe71143f6bf3f71ab495c9ae9",
              "version_minor": 0,
              "version_major": 2
            },
            "text/plain": [
              "interactive(children=(IntSlider(value=3, description='min_areas', max=7), Output()), _dom_classes=('widget-int…"
            ]
          },
          "metadata": {
            "tags": []
          }
        }
      ]
    },
    {
      "cell_type": "code",
      "metadata": {
        "id": "ja4driRhVzD6",
        "colab_type": "code",
        "colab": {}
      },
      "source": [
        "# SET DEFAULTS\n",
        "trial_time = 2.5\n",
        "session=12\n",
        "n_sessions = len(alldat)\n",
        "data_set = alldat[session]"
      ],
      "execution_count": null,
      "outputs": []
    },
    {
      "cell_type": "code",
      "metadata": {
        "id": "g2ajfTQyPLdz",
        "colab_type": "code",
        "cellView": "form",
        "colab": {}
      },
      "source": [
        "#@title General functions to get data\n",
        "def get_trainning_set():\n",
        "  \"\"\"\n",
        "  Get a subset of alldat for trainning purposes.\n",
        "\n",
        "  Returns:\n",
        "    map: dat['spks']: neurons by trials by time bins. Time bin = 10ms.\n",
        "         dat['brain_area']: brain area for each neuron recorded.\n",
        "         dat['contrast_right']: contrast level for the right stimulus, which is always contralateral to the recorded brain areas.\n",
        "         dat['contrast_left']: contrast level for left stimulus.\n",
        "         dat['response']: which side the response was (-1, 0, 1). Choices for the right stimulus are -1.\n",
        "         dat['response_times']: when the response was registered, which has to be after the go cue. The mouse can turn the wheel before the go cue (and always does!).\n",
        "  \"\"\"\n",
        "  # Functions to split data and get a subset. If condition of areas  \n",
        "  tranning_set = alldat\n",
        "  return trainning_set\n",
        "\n",
        "def get_validation_set():\n",
        "  \"\"\"\n",
        "  Get a subset of alldat for validation purposes. This should be ~5%-10% of all the data.\n",
        "\n",
        "  Returns:\n",
        "    map: dat['spks']: neurons by trials by time bins. Time bin = 10ms.\n",
        "         dat['brain_area']: brain area for each neuron recorded.\n",
        "         dat['contrast_right']: contrast level for the right stimulus, which is always contralateral to the recorded brain areas.\n",
        "         dat['contrast_left']: contrast level for left stimulus.\n",
        "         dat['response']: which side the response was (-1, 0, 1). Choices for the right stimulus are -1.\n",
        "         dat['response_times']: when the response was registered, which has to be after the go cue. The mouse can turn the wheel before the go cue (and always does!).\n",
        "  \"\"\"\n",
        "  # Functions to split data and get a subset \n",
        "  validation_set = alldat\n",
        "  return validation_set\n",
        "\n",
        "def get_spks_from_area(dat,brain_area):\n",
        "  n_neurons = dat['spks'].shape[0]\n",
        "  index_neurons = np.zeros(n_neurons,dtype=bool)\n",
        "\n",
        "  for neuron in range(n_neurons):\n",
        "    index_neurons[neuron] = dat['brain_area'][neuron] in brain_area\n",
        "\n",
        "  area_data = (dat['spks'][index_neurons,:,:].sum(axis=2)/trial_time).T\n",
        "  return area_data, index_neurons\n",
        "\n",
        "def get_visual_ctx(data_set):\n",
        "  # TODO: Change to the corrrect areas\n",
        "  visual_ctx = [\"VISa\", \"VISam\", \"VISl\", \"VISp\", \"VISpm\", \"VISrl\"]\n",
        "  visual_data, _ = get_spks_from_area(data_set, visual_ctx)\n",
        "  return visual_data\n",
        "\n",
        "def get_motor_ctx(data_set):\n",
        "  #TODO : Change to the correct areas\n",
        "  motor_ctx = [\"CL\", \"LD\", \"LGd\", \"LH\", \"LP\", \"MD\", \"MG\", \"PO\", \"POL\", \"PT\", \"RT\", \"SPF\", \"TH\", \"VAL\", \"VPL\", \"VPM\"]\n",
        "  motor_data, _ = get_spks_from_area(data_set, motor_ctx)\n",
        "  return motor_data\n",
        "\n",
        "def get_stimulus(data_set):\n",
        "  \"\"\"\n",
        "   Args: \n",
        "      data_set: (map) Subset of alldat\n",
        "      \n",
        "   Returns:\n",
        "      stims[nTrials x 3]  bias: constant with ones\n",
        "                          stim_left: contrast level for the right stimulus.\n",
        "                          stim_right: contrast level for left stimulus.\n",
        "  \"\"\"\n",
        "\n",
        "\n",
        "  stims = data_set['contrast_left'], data_set['contrast_right']\n",
        "  stims = np.array(stims).T\n",
        "  n_trials = stims.shape[0]\n",
        "  stims = np.column_stack((np.ones(n_trials),stims))\n",
        "  return stims\n",
        "\n",
        "def get_response(data_set):\n",
        "  \"\"\"\n",
        "   Args: \n",
        "      data_set: Subset of alldat\n",
        "\n",
        "   Returns:\n",
        "        np.array: which side the response was (-1, 0, 1). Choices for the right stimulus are -1.\n",
        "  \"\"\"\n",
        "  response =  np.array(data_set['response'])\n",
        "  return response\n",
        "\n",
        "def get_binary_response(data_set):\n",
        "  \"\"\"\n",
        "   To simplify the model we ares going to use a binary response instead of the 3 possible values: left, no-action, right\n",
        "   to true or false comparing the stimulus to the expected actions. \n",
        "\n",
        "   Args: \n",
        "      data_set: Subset of alldat\n",
        "\n",
        "   Returns:\n",
        "        binary (np.array boolean) : Returns True or False\n",
        "  \"\"\"\n",
        "  visual_stims = get_stimulus(data_set)\n",
        "  vis_left, vis_right = [visual_stims[:,1], visual_stims[:,2]]\n",
        "  response = get_response(data_set)\n",
        "  binary_response = np.sign(response)==np.sign(vis_left-vis_right)\n",
        "  return binary_response"
      ],
      "execution_count": null,
      "outputs": []
    },
    {
      "cell_type": "markdown",
      "metadata": {
        "id": "6kGWZ7tZMHCK",
        "colab_type": "text"
      },
      "source": [
        "# MODEL1:  Encodig from visual stimulus\n",
        "\n",
        "Using Multiple Linear Regresion\n",
        "\n",
        "Testing with k-fold cross-validation\n",
        "\n",
        "**Parameters:**\n",
        "*   visual stimulus : [nTrials x 2] Contrast on left and right\n",
        "*   visual trials matrix : [nTrials x Neurons]\n",
        "\n",
        "**Returns**\n",
        "*  A1 matrix [2x ntrials]\n",
        "\n",
        "**TODO**\n",
        "*   Calculate MSE and R2 per Neuron\n",
        "*   Test with more sessions, the MSE decrease?\n"
      ]
    },
    {
      "cell_type": "code",
      "metadata": {
        "id": "kgRye-jkU6Mf",
        "colab_type": "code",
        "colab": {
          "base_uri": "https://localhost:8080/",
          "height": 928
        },
        "outputId": "6e75a162-e106-40eb-ef9a-1887c43c3e83"
      },
      "source": [
        "visual_dat = get_visual_ctx(data_set)\n",
        "stim = get_stimulus(data_set)\n",
        "print(visual_dat.shape, stim.shape)\n",
        "\n",
        "model = LinearRegression(fit_intercept=False).fit(stim, visual_dat) \n",
        "\n",
        "A1 = model.coef_.T\n",
        "\n",
        "visual_dat_hat = stim @ A1\n",
        "mse = np.mean( (visual_dat-visual_dat_hat)**2 )\n",
        "#r2 = model.score(stim, visual_dat)\n",
        "r2_metrics =  sklearn.metrics.r2_score(visual_dat,visual_dat_hat)\n",
        "\n",
        "print(f'MSE {mse}')\n",
        "print(f'R2 {r2}')\n",
        "print(f'R2 {r2_metrics}')\n",
        "\n",
        "fig,ax = plt.subplots(figsize=(8,6))\n",
        "plt.plot(model.coef_)\n",
        "plt.legend(['const','stim_L', 'stim_R'])\n",
        "\n",
        "fig,ax = plt.subplots(figsize=(8,6))\n",
        "tr=4\n",
        "ax.bar(range(34),visual_dat[tr,:])\n",
        "ax.bar(range(34),visual_dat_hat[tr,:])\n"
      ],
      "execution_count": null,
      "outputs": [
        {
          "output_type": "stream",
          "text": [
            "(300, 34) (300, 3)\n",
            "MSE 3.9932810695570886\n",
            "R2 0.04900033238535755\n",
            "R2 0.032113610602124414\n"
          ],
          "name": "stdout"
        },
        {
          "output_type": "execute_result",
          "data": {
            "text/plain": [
              "<BarContainer object of 34 artists>"
            ]
          },
          "metadata": {
            "tags": []
          },
          "execution_count": 56
        },
        {
          "output_type": "display_data",
          "data": {
            "image/png": "[encoded data removed]",
            "text/plain": [
              "<Figure size 576x432 with 1 Axes>"
            ]
          },
          "metadata": {
            "tags": [],
            "needs_background": "light"
          }
        },
        {
          "output_type": "display_data",
          "data": {
            "image/png": "[encoded data removed]",
            "text/plain": [
              "<Figure size 576x432 with 1 Axes>"
            ]
          },
          "metadata": {
            "tags": [],
            "needs_background": "light"
          }
        }
      ]
    },
    {
      "cell_type": "code",
      "metadata": {
        "id": "98g6Mr1FNCG7",
        "colab_type": "code",
        "colab": {
          "base_uri": "https://localhost:8080/",
          "height": 304
        },
        "outputId": "02ae720c-5e8a-4644-dccd-5d8b4a743354"
      },
      "source": [
        "plt.scatter(visual_dat.flatten(), visual_dat_hat.flatten()) "
      ],
      "execution_count": null,
      "outputs": [
        {
          "output_type": "execute_result",
          "data": {
            "text/plain": [
              "<matplotlib.collections.PathCollection at 0x7f5399f236a0>"
            ]
          },
          "metadata": {
            "tags": []
          },
          "execution_count": 66
        },
        {
          "output_type": "display_data",
          "data": {
            "image/png": "[encoded data removed]",
            "text/plain": [
              "<Figure size 1440x288 with 1 Axes>"
            ]
          },
          "metadata": {
            "tags": [],
            "needs_background": "light"
          }
        }
      ]
    },
    {
      "cell_type": "code",
      "metadata": {
        "id": "-aEgVtp-rNp7",
        "colab_type": "code",
        "colab": {}
      },
      "source": [
        "n_visual_dat_= np.zeros(visual_dat.shape[1])\n",
        "n_visual_dat_hat= np.zeros(visual_dat.shape[1])\n",
        "n_mse = np.zeros(visual_dat.shape[1])\n",
        "n_r2_metrics = np.zeros(visual_dat.shape[1])\n",
        "\n",
        "for j in range(visual_dat.shape[1]):\n",
        "\n",
        "#  index_n[n_] = [visual_dat][n_] in visual_dat\n",
        "\n",
        "  n_visual_dat =visual_dat[:,j]\n",
        "\n",
        "  print(n_visual_dat.shape, stim.shape)\n",
        "\n",
        "  model = LinearRegression(fit_intercept=False).fit(stim, n_visual_dat)\n",
        "  print(model)\n",
        "\n",
        "  A1_n = model.coef_.T\n",
        "  print(A1_n)\n",
        "\n",
        "  n_visual_dat_hat = stim @ A1_n\n",
        "  n_mse [j]= np.mean( (n_visual_dat-n_visual_dat_hat)**2 )\n",
        "  n_r2_metrics [j] =  sklearn.metrics.r2_score(n_visual_dat,n_visual_dat_hat)\n",
        "\n",
        "  \n",
        "  print(n_mse)\n",
        "  print(n_r2_metrics)\n",
        "  \n",
        "\n",
        "\n",
        "  fig,ax = plt.subplots(figsize=(8,6))\n",
        "  plt.plot(model.coef_)\n",
        "  plt.legend(['const','stim_L', 'stim_R'])"
      ],
      "execution_count": null,
      "outputs": []
    },
    {
      "cell_type": "code",
      "metadata": {
        "id": "eQpozIdmrQDs",
        "colab_type": "code",
        "colab": {}
      },
      "source": [
        "plt.scatter(n_mse.flatten(), n_r2_metrics.flatten())"
      ],
      "execution_count": null,
      "outputs": []
    },
    {
      "cell_type": "code",
      "metadata": {
        "id": "x9TFVNAGcVGw",
        "colab_type": "code",
        "cellView": "both",
        "colab": {}
      },
      "source": [
        "def cross_validation(stim_train, visual_train, n_splits):\n",
        "  # Initialize the split method\n",
        "  kfold_iterator = KFold(n_splits)\n",
        "  mse_all =  []\n",
        "  r2_all = []\n",
        "\n",
        "  for i_split, (train_indices, val_indices) in enumerate(kfold_iterator.split(stim_train)):\n",
        "      \n",
        "      # Split up the overall training data into cross-validation training and validation sets\n",
        "      stim_cv_train = stim_train[train_indices]\n",
        "      visual_cv_train = visual_train[train_indices]\n",
        "\n",
        "      #Let's ignore the test data in our model \n",
        "      # stim_cv_val = stim_train[val_indices]\n",
        "      # visual_cv_val = visual_train[val_indices]\n",
        "\n",
        "      # MLR\n",
        "      modelA1 = LinearRegression(fit_intercept=False).fit(stim, visual_dat) \n",
        "      theta_hats = modelA1.coef_.T\n",
        "\n",
        "      # Compute MSE\n",
        "      visual_cv_train_hat =  stim_cv_train @ theta_hats\n",
        "      mse_this_split = np.mean((visual_cv_train-visual_cv_train_hat)**2 )\n",
        "      mse_all.append(mse_this_split)\n",
        "\n",
        "      #Compute R2\n",
        "      r2_this_split = sklearn.metrics.r2_score(visual_cv_train,visual_cv_train_hat)\n",
        "      r2_all.append(r2_this_split)\n",
        "\n",
        "  return mse_all, r2_all\n",
        " "
      ],
      "execution_count": null,
      "outputs": []
    },
    {
      "cell_type": "code",
      "metadata": {
        "id": "rOnqFcw0s1Ei",
        "colab_type": "code",
        "colab": {
          "base_uri": "https://localhost:8080/",
          "height": 319,
          "referenced_widgets": [
            "2e37744b28ba4abeb5578739bd1be757",
            "14ad9cff915f44838f588055e4c59526",
            "618a64e836174e1a81212bbbab7e9b32",
            "ba61d773be7d45f590504fe1b7addcbf",
            "23b6a390ee1441b5af1ad723977690a0",
            "4ce50c0409c945b981c5773a07d3473d",
            "ef776d4df5e04b6ca97876a915749250"
          ]
        },
        "outputId": "5cdfaef6-42bc-438a-bb6b-dc212a4da577"
      },
      "source": [
        "@widgets.interact\n",
        "def interactive_cross_val(num_splits=(0,50)):\n",
        "  mse_all, r2_all = cross_validation(stim, visual_dat, num_splits)\n",
        "  plt.scatter(mse_all, r2_all) \n",
        "  plt.xlabel('MSE')  \n",
        "  plt.ylabel('R2')"
      ],
      "execution_count": null,
      "outputs": [
        {
          "output_type": "display_data",
          "data": {
            "application/vnd.jupyter.widget-view+json": {
              "model_id": "2e37744b28ba4abeb5578739bd1be757",
              "version_minor": 0,
              "version_major": 2
            },
            "text/plain": [
              "interactive(children=(IntSlider(value=25, description='num_splits', max=50), Output()), _dom_classes=('widget-…"
            ]
          },
          "metadata": {
            "tags": []
          }
        }
      ]
    },
    {
      "cell_type": "markdown",
      "metadata": {
        "id": "wNTUO3hSNDf9",
        "colab_type": "text"
      },
      "source": [
        "# MODEL3:  Decoding from motor\n",
        "Logistic Regression no penalty\n",
        "\n",
        "**Parameters:**\n",
        "*   Motor matrix [nTrials x neurons].\n",
        "*   Reponses 3 categories.\n",
        "\n",
        "**TODO List**\n",
        "*   Change to get 3 categories of response (Left, Right, None).\n",
        "*   Filter trials to use only trials that succed to perform the action.\n"
      ]
    },
    {
      "cell_type": "code",
      "metadata": {
        "id": "wYmuB_AEIH6T",
        "colab_type": "code",
        "colab": {
          "base_uri": "https://localhost:8080/",
          "height": 225
        },
        "outputId": "dc440c9c-74e9-4fb0-8b2c-1a62e4d6433b"
      },
      "source": [
        "# obtenemos matrices 'y' y 'x'\n",
        "motor_dat = get_motor_ctx(data_set)\n",
        "binary_dat = get_binary_response(data_set)\n",
        "\n",
        "#definimos el modelo & ajustamos los datos\n",
        "log_reg = LogisticRegression(penalty=\"none\")\n",
        "log_reg.fit(motor_dat, binary_dat) \n",
        "\n",
        "# predicciones\n",
        "binary_dat_hat = log_reg.predict(motor_dat)\n",
        "\n",
        "#accuracy\n",
        "similarity = (binary_dat == binary_dat_hat)   #nos da booleans de [true false] de predicciones correctas\n",
        "accuracy = np.sum(similarity)/len(binary_dat)\n",
        "\n",
        "#crossvalidation \n",
        "accuracies = cross_val_score(LogisticRegression(penalty='none'), motor_dat, binary_dat, cv=8)\n",
        "\n",
        "f, ax = plt.subplots(figsize=(8, 3))\n",
        "ax.boxplot(accuracies, vert=False, widths=.7)\n",
        "ax.scatter(accuracies, np.ones(8))\n",
        "ax.set(\n",
        "  xlabel=\"Accuracy\",\n",
        "  yticks=[],\n",
        "  title=f\"Average test accuracy: {accuracies.mean():.2%}\"\n",
        ")\n",
        "ax.spines[\"left\"].set_visible(False)"
      ],
      "execution_count": null,
      "outputs": [
        {
          "output_type": "display_data",
          "data": {
            "image/png": "[encoded data removed]",
            "text/plain": [
              "<Figure size 576x216 with 1 Axes>"
            ]
          },
          "metadata": {
            "tags": [],
            "needs_background": "light"
          }
        }
      ]
    }
  ]
}